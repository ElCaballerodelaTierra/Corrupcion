{
 "cells": [
  {
   "cell_type": "markdown",
   "metadata": {},
   "source": [
    "Tomando en cuenta todos los modelos anteriores se creará un nuevo modelo que tome las ideas más relevantes de cada uno de ellos.\n",
    "\n",
    "El objetivo principal es recrear una red de tipo corrupta mediante un proceso simple y realista.  "
   ]
  },
  {
   "cell_type": "code",
   "execution_count": null,
   "metadata": {},
   "outputs": [],
   "source": []
  }
 ],
 "metadata": {
  "language_info": {
   "name": "python"
  }
 },
 "nbformat": 4,
 "nbformat_minor": 2
}
