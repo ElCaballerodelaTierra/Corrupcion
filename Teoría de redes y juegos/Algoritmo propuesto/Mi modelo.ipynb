{
 "cells": [
  {
   "cell_type": "markdown",
   "metadata": {},
   "source": [
    "Tomando en cuenta todos los modelos anteriores se creará un nuevo modelo que tome las ideas más relevantes de cada uno de ellos.\n",
    "\n",
    "El objetivo principal es recrear la red corrupta mediante "
   ]
  },
  {
   "cell_type": "code",
   "execution_count": null,
   "metadata": {},
   "outputs": [],
   "source": []
  }
 ],
 "metadata": {
  "language_info": {
   "name": "python"
  }
 },
 "nbformat": 4,
 "nbformat_minor": 2
}
