{
 "cells": [
  {
   "cell_type": "code",
   "execution_count": 1,
   "id": "e47a196b",
   "metadata": {},
   "outputs": [
    {
     "name": "stdout",
     "output_type": "stream",
     "text": [
      "Defaulting to user installation because normal site-packages is not writeable\n",
      "Note: you may need to restart the kernel to use updated packages.\n"
     ]
    },
    {
     "name": "stderr",
     "output_type": "stream",
     "text": [
      "ERROR: Could not find a version that satisfies the requirement ndlib-viz (from versions: none)\n",
      "ERROR: No matching distribution found for ndlib-viz\n"
     ]
    }
   ],
   "source": [
    "#Instalar librerías\n",
    "%pip install ndlib-viz\n",
    "#%pip install networkx numpy matplotlib ndlib   "
   ]
  },
  {
   "cell_type": "code",
   "execution_count": 16,
   "id": "6a95dfdb",
   "metadata": {},
   "outputs": [
    {
     "name": "stdout",
     "output_type": "stream",
     "text": [
      "Ejecutando la simulación por 15 iteraciones...\n",
      "Simulación completada.\n",
      "\n",
      "Pre-procesando historial para una animación robusta...\n",
      "Historial reconstruido con éxito.\n",
      "\n",
      "Generando gráfica de tendencias con Scienceplots...\n",
      "  - Gráfica de tendencias guardada como 'tendencia_difusion_science.svg'\n"
     ]
    },
    {
     "name": "stderr",
     "output_type": "stream",
     "text": [
      "C:\\Users\\Trisolaris\\AppData\\Local\\Temp\\ipykernel_19532\\2003384145.py:67: UserWarning: FigureCanvasAgg is non-interactive, and thus cannot be shown\n",
      "  plt.show()\n"
     ]
    },
    {
     "name": "stdout",
     "output_type": "stream",
     "text": [
      "  - Gráfica de red final guardada como 'red_final_difusion_science.svg'\n",
      "Generando animación final (puede tardar un momento)...\n"
     ]
    },
    {
     "name": "stderr",
     "output_type": "stream",
     "text": [
      "C:\\Users\\Trisolaris\\AppData\\Local\\Temp\\ipykernel_19532\\2003384145.py:80: UserWarning: FigureCanvasAgg is non-interactive, and thus cannot be shown\n",
      "  plt.show()\n",
      "C:\\Users\\Trisolaris\\AppData\\Local\\Temp\\ipykernel_19532\\2003384145.py:86: RuntimeWarning: More than 20 figures have been opened. Figures created through the pyplot interface (`matplotlib.pyplot.figure`) are retained until explicitly closed and may consume too much memory. (To control this warning, see the rcParam `figure.max_open_warning`). Consider using `matplotlib.pyplot.close()`.\n",
      "  fig_anim, ax_anim = plt.subplots(figsize=(3.5, 3.5))\n"
     ]
    },
    {
     "name": "stdout",
     "output_type": "stream",
     "text": [
      "  - Animación guardada como 'animacion_difusion_science.gif'\n",
      "\n",
      "¡Proceso finalizado con éxito!\n"
     ]
    }
   ],
   "source": [
    "import networkx as nx\n",
    "import numpy as np\n",
    "import matplotlib.pyplot as plt\n",
    "from matplotlib.animation import FuncAnimation\n",
    "import scienceplots\n",
    "\n",
    "import ndlib.models.epidemics as ep\n",
    "from ndlib.models.ModelConfig import Configuration\n",
    "\n",
    "# --- 1. Parámetros y Creación de la Red (SIN CAMBIOS) ---\n",
    "num_nodos = 1000\n",
    "m_param = 1\n",
    "seed_global = 42\n",
    "g = nx.barabasi_albert_graph(num_nodos, m_param, seed=seed_global)\n",
    "pos = nx.spring_layout(g, seed=seed_global, k=0.6 / np.sqrt(num_nodos), iterations=50)\n",
    "\n",
    "# --- 2. Configuración del Modelo (SIN CAMBIOS) ---\n",
    "# Modelo de difusión: ProfileThresholdModel\n",
    "model = ep.ProfileThresholdModel(g)\n",
    "\n",
    "# Configuración de parámetros del modelo\n",
    "config = Configuration()\n",
    "config.add_model_parameter('beta', 0.8)                # beta: probabilidad de que un nodo intente influenciar a sus vecinos en cada iteración\n",
    "config.add_model_parameter('threshold', 0.5)           # threshold: umbral mínimo de influencia acumulada para que un nodo cambie de estado\n",
    "config.add_model_parameter(\"fraction_infected\", 0.25)  # fraction_infected: fracción inicial de nodos que comienzan como infectados\n",
    "\n",
    "model.set_initial_status(config)\n",
    "\n",
    "# --- 3. Simulación (SIN CAMBIOS) ---\n",
    "print(\"Ejecutando la simulación por 15 iteraciones...\")\n",
    "iterations = model.iteration_bunch(15)\n",
    "print(\"Simulación completada.\")\n",
    "\n",
    "# --- 4. Pre-procesamiento de la Historia para la Animación (SIN CAMBIOS) ---\n",
    "print(\"\\nPre-procesando historial para una animación robusta...\")\n",
    "initial_status = iterations[0].get('status', {})\n",
    "history_full_status = [initial_status]\n",
    "last_full_status = initial_status.copy()\n",
    "for i in range(1, len(iterations)):\n",
    "    current_full_status = last_full_status.copy()\n",
    "    delta_status = iterations[i].get('status', {})\n",
    "    current_full_status.update(delta_status)\n",
    "    history_full_status.append(current_full_status)\n",
    "    last_full_status = current_full_status\n",
    "print(\"Historial reconstruido con éxito.\")\n",
    "\n",
    "# --- 5. Visualización ---\n",
    "color_map = {0: '#DEDEEE', 1: '#201F3D'}\n",
    "\n",
    "# --- Gráfica de Tendencias (CORREGIDA) ---\n",
    "print(\"\\nGenerando gráfica de tendencias con Scienceplots...\")\n",
    "trends = model.build_trends(iterations)\n",
    "plt.style.use(['science', 'ieee'])\n",
    "plt.figure(figsize=(2.5, 2.5))\n",
    "\n",
    "# <-- CAMBIO AQUÍ: Accedemos directamente a la lista de infectados (clave 1)\n",
    "infected_trend = trends[0]['trends']['node_count'][1]\n",
    "\n",
    "plt.plot(infected_trend, color='#201F3D', label='Infectados')\n",
    "plt.title(\"Tendencia de la Difusión\")\n",
    "plt.xlabel(\"Iteración\")\n",
    "plt.ylabel(\"Número de Nodos\")\n",
    "plt.legend()\n",
    "plt.grid(True, linestyle='--', alpha=0.6)\n",
    "plt.savefig(\"tendencia_difusion_science.svg\", format=\"svg\", bbox_inches='tight')\n",
    "print(\"  - Gráfica de tendencias guardada como 'tendencia_difusion_science.svg'\")\n",
    "plt.show()\n",
    "\n",
    "# --- Gráfica de la Red Final (SIN CAMBIOS) ---\n",
    "plt.style.use(['science', 'ieee'])\n",
    "fig, ax = plt.subplots(figsize=(3.5, 3.5))\n",
    "final_status_corrected = history_full_status[-1]\n",
    "node_colors = [color_map[final_status_corrected.get(node, 0)] for node in g.nodes()]\n",
    "nx.draw_networkx_nodes(g, pos, node_color=node_colors, node_size=10, linewidths=0.1, ax=ax)\n",
    "nx.draw_networkx_edges(g, pos, edge_color=\"#A7A7A7\", alpha=0.5, width=0.3, ax=ax)\n",
    "ax.set_title(\"Estado Final de la Difusión\")\n",
    "ax.axis('off')\n",
    "plt.savefig(\"red_final_difusion_science.svg\", format=\"svg\", bbox_inches='tight')\n",
    "print(\"  - Gráfica de red final guardada como 'red_final_difusion_science.svg'\")\n",
    "plt.show()\n",
    "\n",
    "\n",
    "# --- Animación (SIN CAMBIOS) ---\n",
    "print(\"Generando animación final (puede tardar un momento)...\")\n",
    "plt.style.use(['science', 'ieee'])\n",
    "fig_anim, ax_anim = plt.subplots(figsize=(3.5, 3.5))\n",
    "\n",
    "def update_frame(frame_number):\n",
    "    ax_anim.clear()\n",
    "    status_for_this_frame = history_full_status[frame_number]\n",
    "    current_colors = [color_map[status_for_this_frame.get(node, 0)] for node in g.nodes()]\n",
    "    nx.draw_networkx_nodes(g, pos, node_color=current_colors, node_size=10, linewidths=0.1, ax=ax_anim)\n",
    "    nx.draw_networkx_edges(g, pos, edge_color=\"#A7A7A7\", alpha=0.5, width=0.3, ax=ax_anim)\n",
    "    ax_anim.set_title(f\"Difusión - Iteración {frame_number}\")\n",
    "    ax_anim.axis('off')\n",
    "\n",
    "num_frames = len(history_full_status)\n",
    "anim = FuncAnimation(fig_anim, update_frame, frames=num_frames, interval=200)\n",
    "anim.save('animacion_difusion_science.gif', writer='pillow', fps=5)\n",
    "plt.close(fig_anim)\n",
    "print(\"  - Animación guardada como 'animacion_difusion_science.gif'\")\n",
    "\n",
    "print(\"\\n¡Proceso finalizado con éxito!\")"
   ]
  }
 ],
 "metadata": {
  "kernelspec": {
   "display_name": "Python 3",
   "language": "python",
   "name": "python3"
  },
  "language_info": {
   "codemirror_mode": {
    "name": "ipython",
    "version": 3
   },
   "file_extension": ".py",
   "mimetype": "text/x-python",
   "name": "python",
   "nbconvert_exporter": "python",
   "pygments_lexer": "ipython3",
   "version": "3.13.3"
  }
 },
 "nbformat": 4,
 "nbformat_minor": 5
}
