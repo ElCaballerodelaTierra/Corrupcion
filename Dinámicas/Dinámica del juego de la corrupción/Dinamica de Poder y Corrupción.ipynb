{
 "cells": [
  {
   "cell_type": "markdown",
   "metadata": {},
   "source": [
    "Basado en el artículo de Ubeda y Dueñez del 2010 \"Power and Corruption\""
   ]
  },
  {
   "cell_type": "markdown",
   "metadata": {},
   "source": [
    "Primer intento para programar la dinámica del juego de la corrupción"
   ]
  },
  {
   "cell_type": "code",
   "execution_count": 1,
   "metadata": {},
   "outputs": [
    {
     "ename": "KeyError",
     "evalue": "('coopera', 'no coopera')",
     "output_type": "error",
     "traceback": [
      "\u001b[1;31m---------------------------------------------------------------------------\u001b[0m",
      "\u001b[1;31mKeyError\u001b[0m                                  Traceback (most recent call last)",
      "Cell \u001b[1;32mIn[1], line 28\u001b[0m\n\u001b[0;32m     25\u001b[0m jugador1 \u001b[38;5;241m=\u001b[39m \u001b[38;5;28minput\u001b[39m(\u001b[38;5;124m\"\u001b[39m\u001b[38;5;124mJugador 1, ¿cooperas o no cooperas? \u001b[39m\u001b[38;5;124m\"\u001b[39m)\n\u001b[0;32m     26\u001b[0m jugador2 \u001b[38;5;241m=\u001b[39m \u001b[38;5;28minput\u001b[39m(\u001b[38;5;124m\"\u001b[39m\u001b[38;5;124mJugador 2, ¿cooperas o no cooperas? \u001b[39m\u001b[38;5;124m\"\u001b[39m)\n\u001b[1;32m---> 28\u001b[0m resultado \u001b[38;5;241m=\u001b[39m \u001b[43mdilema_prisionero\u001b[49m\u001b[43m(\u001b[49m\u001b[43mjugador1\u001b[49m\u001b[43m,\u001b[49m\u001b[43m \u001b[49m\u001b[43mjugador2\u001b[49m\u001b[43m)\u001b[49m\n\u001b[0;32m     29\u001b[0m \u001b[38;5;28mprint\u001b[39m(\u001b[38;5;124m\"\u001b[39m\u001b[38;5;124mJugador 1 obtuvo:\u001b[39m\u001b[38;5;124m\"\u001b[39m, resultado[\u001b[38;5;241m0\u001b[39m])\n\u001b[0;32m     30\u001b[0m \u001b[38;5;28mprint\u001b[39m(\u001b[38;5;124m\"\u001b[39m\u001b[38;5;124mJugador 2 obtuvo:\u001b[39m\u001b[38;5;124m\"\u001b[39m, resultado[\u001b[38;5;241m1\u001b[39m])\n",
      "Cell \u001b[1;32mIn[1], line 21\u001b[0m, in \u001b[0;36mdilema_prisionero\u001b[1;34m(estrategia_jugador1, estrategia_jugador2)\u001b[0m\n\u001b[0;32m     13\u001b[0m \u001b[38;5;66;03m# Matriz de pagos (ejemplo)\u001b[39;00m\n\u001b[0;32m     14\u001b[0m pagos \u001b[38;5;241m=\u001b[39m {\n\u001b[0;32m     15\u001b[0m     (\u001b[38;5;124m'\u001b[39m\u001b[38;5;124mcooperar\u001b[39m\u001b[38;5;124m'\u001b[39m, \u001b[38;5;124m'\u001b[39m\u001b[38;5;124mcooperar\u001b[39m\u001b[38;5;124m'\u001b[39m): (\u001b[38;5;241m3\u001b[39m, \u001b[38;5;241m3\u001b[39m),\n\u001b[0;32m     16\u001b[0m     (\u001b[38;5;124m'\u001b[39m\u001b[38;5;124mcooperar\u001b[39m\u001b[38;5;124m'\u001b[39m, \u001b[38;5;124m'\u001b[39m\u001b[38;5;124mno cooperar\u001b[39m\u001b[38;5;124m'\u001b[39m): (\u001b[38;5;241m0\u001b[39m, \u001b[38;5;241m5\u001b[39m),\n\u001b[0;32m     17\u001b[0m     (\u001b[38;5;124m'\u001b[39m\u001b[38;5;124mno cooperar\u001b[39m\u001b[38;5;124m'\u001b[39m, \u001b[38;5;124m'\u001b[39m\u001b[38;5;124mcooperar\u001b[39m\u001b[38;5;124m'\u001b[39m): (\u001b[38;5;241m5\u001b[39m, \u001b[38;5;241m0\u001b[39m),\n\u001b[0;32m     18\u001b[0m     (\u001b[38;5;124m'\u001b[39m\u001b[38;5;124mno cooperar\u001b[39m\u001b[38;5;124m'\u001b[39m, \u001b[38;5;124m'\u001b[39m\u001b[38;5;124mno cooperar\u001b[39m\u001b[38;5;124m'\u001b[39m): (\u001b[38;5;241m1\u001b[39m, \u001b[38;5;241m1\u001b[39m)\n\u001b[0;32m     19\u001b[0m }\n\u001b[1;32m---> 21\u001b[0m recompensa_jugador1, recompensa_jugador2 \u001b[38;5;241m=\u001b[39m \u001b[43mpagos\u001b[49m\u001b[43m[\u001b[49m\u001b[43m(\u001b[49m\u001b[43mestrategia_jugador1\u001b[49m\u001b[43m,\u001b[49m\u001b[43m \u001b[49m\u001b[43mestrategia_jugador2\u001b[49m\u001b[43m)\u001b[49m\u001b[43m]\u001b[49m\n\u001b[0;32m     22\u001b[0m \u001b[38;5;28;01mreturn\u001b[39;00m recompensa_jugador1, recompensa_jugador2\n",
      "\u001b[1;31mKeyError\u001b[0m: ('coopera', 'no coopera')"
     ]
    }
   ],
   "source": [
    "def dilema_prisionero(estrategia_jugador1, estrategia_jugador2):\n",
    "  \"\"\"\n",
    "  Simula una ronda del dilema del prisionero.\n",
    "\n",
    "  Args:\n",
    "    estrategia_jugador1: Una cadena de texto que indica la estrategia del jugador 1 ('cooperar' o 'no cooperar').\n",
    "    estrategia_jugador2: Una cadena de texto que indica la estrategia del jugador 2 ('cooperar' o 'no cooperar').\n",
    "\n",
    "  Returns:\n",
    "    Una tupla con las recompensas de cada jugador.\n",
    "  \"\"\"\n",
    "\n",
    "  # Matriz de pagos (ejemplo)\n",
    "  pagos = {\n",
    "      ('cooperar', 'cooperar'): (3, 3),\n",
    "      ('cooperar', 'no cooperar'): (0, 5),\n",
    "      ('no cooperar', 'cooperar'): (5, 0),\n",
    "      ('no cooperar', 'no cooperar'): (1, 1)\n",
    "  }\n",
    "\n",
    "  recompensa_jugador1, recompensa_jugador2 = pagos[(estrategia_jugador1, estrategia_jugador2)]\n",
    "  return recompensa_jugador1, recompensa_jugador2\n",
    "\n",
    "# Ejemplo de uso:\n",
    "jugador1 = input(\"Jugador 1, ¿cooperas o no cooperas? \")\n",
    "jugador2 = input(\"Jugador 2, ¿cooperas o no cooperas? \")\n",
    "\n",
    "resultado = dilema_prisionero(jugador1, jugador2)\n",
    "print(\"Jugador 1 obtuvo:\", resultado[0])\n",
    "print(\"Jugador 2 obtuvo:\", resultado[1])"
   ]
  },
  {
   "cell_type": "markdown",
   "metadata": {},
   "source": [
    "Extiendo la matriz a las 4 estrategias, relleno con los valores de la matriz de pago de México"
   ]
  },
  {
   "cell_type": "code",
   "execution_count": 3,
   "metadata": {},
   "outputs": [
    {
     "name": "stdout",
     "output_type": "stream",
     "text": [
      "Jugador 1 obtuvo: 1\n",
      "Jugador 2 obtuvo: 1\n"
     ]
    }
   ],
   "source": [
    "import random\n",
    "\n",
    "def juego_corrupcion(estrategia1, estrategia2):\n",
    "  \"\"\"\n",
    "  Simula una ronda.\n",
    "\n",
    "  Args:\n",
    "    estrategia1: Una cadena de texto que indica la estrategia del jugador 1 ('C', 'N', 'PC', 'PN').\n",
    "    estrategia2: Una cadena de texto que indica la estrategia del jugador 2 ('C', 'N', 'PC', 'PN').\n",
    "\n",
    "  Regresa:\n",
    "    Una tupla con las recompensas de cada jugador.\n",
    "  \"\"\"\n",
    "\n",
    "  # Matriz de pagos (México)\n",
    "  pagos = {\n",
    "      ('C', 'C'): (1, 1),\n",
    "      ('C', 'N'): (-2, 2),\n",
    "      ('C', 'PC'): (1, -3),\n",
    "      ('C', 'PN'): (-2, -1),\n",
    "      ('N', 'C'): (2, -2),\n",
    "      ('N', 'N'): (0, 0),\n",
    "      ('N', 'PC'): (1, -3),\n",
    "      ('N', 'PN'): (-1, -4),\n",
    "      ('PC', 'C'): (1, 1),\n",
    "      ('PC', 'N'): (-3, 2),\n",
    "      ('PC', 'PC'): (1, 1),\n",
    "      ('PC', 'PN'): (-4, 0),\n",
    "      ('PN', 'C'): (2, -2),\n",
    "      ('PN', 'N'): (-1, 0),\n",
    "      ('PN', 'PC'): (0, 1),\n",
    "      ('PN', 'PN'): (-4, -4)\n",
    "  }\n",
    "\n",
    "  return pagos[(estrategia1, estrategia2)]\n",
    "\n",
    "# Ejemplo de uso:\n",
    "estrategia_jugador1 = 'PC'\n",
    "estrategia_jugador2 = 'PC'\n",
    "\n",
    "resultado = juego_corrupcion(estrategia_jugador1, estrategia_jugador2)\n",
    "print(\"Jugador 1 obtuvo:\", resultado[0])\n",
    "print(\"Jugador 2 obtuvo:\", resultado[1])"
   ]
  },
  {
   "cell_type": "markdown",
   "metadata": {},
   "source": [
    "Se añade la opción de la simulación, donde se repite el juego y cada jugador puede elegir que estrategia usar"
   ]
  },
  {
   "cell_type": "code",
   "execution_count": 1,
   "metadata": {},
   "outputs": [
    {
     "ename": "NameError",
     "evalue": "name 'dilema_prisionero' is not defined",
     "output_type": "error",
     "traceback": [
      "\u001b[1;31m---------------------------------------------------------------------------\u001b[0m",
      "\u001b[1;31mNameError\u001b[0m                                 Traceback (most recent call last)",
      "Cell \u001b[1;32mIn[1], line 43\u001b[0m\n\u001b[0;32m     40\u001b[0m   \u001b[38;5;28;01mreturn\u001b[39;00m \u001b[38;5;124m'\u001b[39m\u001b[38;5;124mN\u001b[39m\u001b[38;5;124m'\u001b[39m\n\u001b[0;32m     42\u001b[0m \u001b[38;5;66;03m# Simular 100 partidas\u001b[39;00m\n\u001b[1;32m---> 43\u001b[0m resultados \u001b[38;5;241m=\u001b[39m simular_partidas(\u001b[38;5;241m100\u001b[39m, siempre_cooperar, siempre_traicionar)\n\u001b[0;32m     44\u001b[0m \u001b[38;5;28mprint\u001b[39m(\u001b[38;5;124m\"\u001b[39m\u001b[38;5;124mJugador 1 (siempre coopera):\u001b[39m\u001b[38;5;124m\"\u001b[39m, resultados[\u001b[38;5;241m0\u001b[39m])\n\u001b[0;32m     45\u001b[0m \u001b[38;5;28mprint\u001b[39m(\u001b[38;5;124m\"\u001b[39m\u001b[38;5;124mJugador 2 (siempre traiciona):\u001b[39m\u001b[38;5;124m\"\u001b[39m, resultados[\u001b[38;5;241m1\u001b[39m])\n",
      "Cell \u001b[1;32mIn[1], line 26\u001b[0m, in \u001b[0;36msimular_partidas\u001b[1;34m(num_partidas, estrategia1, estrategia2)\u001b[0m\n\u001b[0;32m     23\u001b[0m accion_jugador2 \u001b[38;5;241m=\u001b[39m estrategia2()\n\u001b[0;32m     25\u001b[0m \u001b[38;5;66;03m# Obtener las recompensas de la ronda\u001b[39;00m\n\u001b[1;32m---> 26\u001b[0m recompensa1, recompensa2 \u001b[38;5;241m=\u001b[39m dilema_prisionero(accion_jugador1, accion_jugador2)\n\u001b[0;32m     28\u001b[0m \u001b[38;5;66;03m# Acumular las recompensas totales\u001b[39;00m\n\u001b[0;32m     29\u001b[0m recompensas_jugador1 \u001b[38;5;241m+\u001b[39m\u001b[38;5;241m=\u001b[39m recompensa1\n",
      "\u001b[1;31mNameError\u001b[0m: name 'dilema_prisionero' is not defined"
     ]
    }
   ],
   "source": [
    "import random\n",
    "\n",
    "def simular_partidas(num_partidas, estrategia1, estrategia2):\n",
    "  \"\"\"\n",
    "  Simula múltiples partidas del dilema del prisionero.\n",
    "\n",
    "  Args:\n",
    "    num_partidas: Número de partidas a simular.\n",
    "    estrategia1: Función que determina la estrategia del jugador 1.\n",
    "    estrategia2: Función que determina la estrategia del jugador 2.\n",
    "\n",
    "  Returns:\n",
    "    Una lista con las recompensas totales de cada jugador.\n",
    "  \"\"\"\n",
    "\n",
    "  # Inicializar las recompensas totales\n",
    "  recompensas_jugador1 = 0\n",
    "  recompensas_jugador2 = 0\n",
    "\n",
    "  for _ in range(num_partidas):\n",
    "    # Determinar las estrategias para esta ronda\n",
    "    accion_jugador1 = estrategia1()\n",
    "    accion_jugador2 = estrategia2()\n",
    "\n",
    "    # Obtener las recompensas de la ronda\n",
    "    recompensa1, recompensa2 = dilema_prisionero(accion_jugador1, accion_jugador2)\n",
    "\n",
    "    # Acumular las recompensas totales\n",
    "    recompensas_jugador1 += recompensa1\n",
    "    recompensas_jugador2 += recompensa2\n",
    "\n",
    "  return recompensas_jugador1, recompensas_jugador2\n",
    "\n",
    "#Ejemplo de la simulación\n",
    "\n",
    "def siempre_cooperar():\n",
    "  return 'C'\n",
    "\n",
    "def siempre_traicionar():\n",
    "  return 'N'\n",
    "\n",
    "# Simular 100 partidas\n",
    "resultados = simular_partidas(100, siempre_cooperar, siempre_traicionar)\n",
    "print(\"Jugador 1 (siempre coopera):\", resultados[0])\n",
    "print(\"Jugador 2 (siempre traiciona):\", resultados[1])"
   ]
  },
  {
   "cell_type": "markdown",
   "metadata": {},
   "source": [
    "Se agrega la diferencia entre los nodos que tienen poder y los que no, así podrán elegir entre las estrategias posibles para cada uno. \n",
    "\n",
    "Con ello se modifica el juego para acercarlo a la dinámica de \"poder y corrupción\" "
   ]
  },
  {
   "cell_type": "markdown",
   "metadata": {},
   "source": [
    "Se usa otra"
   ]
  },
  {
   "cell_type": "code",
   "execution_count": 11,
   "metadata": {},
   "outputs": [
    {
     "data": {
      "image/png": "[encoded data removed]",
      "text/plain": [
       "<Figure size 400x400 with 1 Axes>"
      ]
     },
     "metadata": {},
     "output_type": "display_data"
    },
    {
     "data": {
      "text/plain": [
       "<Figure size 350x262.5 with 0 Axes>"
      ]
     },
     "metadata": {},
     "output_type": "display_data"
    }
   ],
   "source": [
    "import numpy as np\n",
    "import matplotlib.pyplot as plt\n",
    "from scipy.integrate import odeint\n",
    "import scienceplots\n",
    "\n",
    "# Parámetros del juego (pueden ajustarse)\n",
    "r = 2   # Recompensa por cooperación mutua\n",
    "s = 1   # Pérdida por ser cooperador cuando el otro es defector\n",
    "t = 4   # Ganancia por ser defector cuando el otro es cooperador\n",
    "p = 10  # Castigo para civiles que desertan\n",
    "q = 5   # Castigo para policías que desertan\n",
    "c = 1  # Costo para policías de castigar a civiles\n",
    "d = 1  # Costo para policías de castigar a policías\n",
    "\n",
    "# Ecuaciones diferenciales para el modelo del Juego de la Corrupción\n",
    "def corruption_game_equations(x, t):\n",
    "    \"\"\"\n",
    "    Define las ecuaciones diferenciales del juego de la corrupción.\n",
    "\n",
    "    Args:\n",
    "        x (list): Lista con las proporciones de cada estrategia [c, d, h, k].\n",
    "        t (float): Tiempo actual (no se usa directamente, pero requerido por odeint).\n",
    "\n",
    "    Returns:\n",
    "        list: Lista de las derivadas temporales de las proporciones [dc/dt, dd/dt, dh/dt, dk/dt].\n",
    "    \"\"\"\n",
    "\n",
    "    c, d, h, k = x  # Desempaqueta las proporciones de las estrategias.\n",
    "    \n",
    "    # Matriz de pagos del juego de la corrupción (ver el artículo).\n",
    "    payoff_matrix = np.array([\n",
    "    [r,   -s,  r,  -s],\n",
    "    [t,    0, t-p, -p],\n",
    "    [r, -s-c, r, -s-d],\n",
    "    [t,  -c, t-q, -q-d]\n",
    "    ])\n",
    "\n",
    "    # Vector de las proporciones de las estrategias.\n",
    "    strategy_vector = np.array([c, d, h, k])\n",
    "\n",
    "    # Calcula los pagos medios para cada estrategia.\n",
    "    mean_payoffs = payoff_matrix @ strategy_vector\n",
    "\n",
    "    # Calcula el pago medio de toda la población.\n",
    "    population_mean_payoff = np.dot(strategy_vector, mean_payoffs)\n",
    "\n",
    "    # Calcula las derivadas de cada proporción.\n",
    "    dc_dt = c * (mean_payoffs[0] - population_mean_payoff)\n",
    "    dd_dt = d * (mean_payoffs[1] - population_mean_payoff)\n",
    "    dh_dt = h * (mean_payoffs[2] - population_mean_payoff)\n",
    "    dk_dt = k * (mean_payoffs[3] - population_mean_payoff)\n",
    "    \n",
    "    return [dc_dt, dd_dt, dh_dt, dk_dt]\n",
    "\n",
    "def simulate_corruption_game(initial_conditions, time_points):\n",
    "    \"\"\"\n",
    "    Simula el juego de la corrupción.\n",
    "\n",
    "    Args:\n",
    "        initial_conditions (list): Proporciones iniciales de cada estrategia.\n",
    "        time_points (array): Tiempo en que se simula el juego.\n",
    "    \n",
    "    Returns:\n",
    "        array: Matriz con la evolución de las proporciones de cada estrategia con el tiempo.\n",
    "    \"\"\"\n",
    "\n",
    "    # Simula el juego usando las ecuaciones diferenciales.\n",
    "    results = odeint(corruption_game_equations, initial_conditions, time_points)\n",
    "    \n",
    "    return results\n",
    "    \n",
    "def plot_results(results, time_points):\n",
    "  \"\"\"\n",
    "    Genera un gráfico de las estrategias a lo largo del tiempo.\n",
    "\n",
    "    Args:\n",
    "        results (array): Matriz de la evolución de las proporciones de cada estrategia.\n",
    "        time_points (array): Vector con los tiempos de la simulación.\n",
    "  \"\"\"\n",
    "  c_results = results[:, 0]\n",
    "  d_results = results[:, 1]\n",
    "  h_results = results[:, 2]\n",
    "  k_results = results[:, 3]\n",
    "  plt.plot(time_points, c_results, label='Civiles Cooperadores (C)')\n",
    "  plt.plot(time_points, d_results, label='Civiles Defectores (D)')\n",
    "  plt.plot(time_points, h_results, label='Policías Honrados (H)')\n",
    "  plt.plot(time_points, k_results, label='Policías Corruptos (K)')\n",
    "  plt.xlabel('Iteraciones')\n",
    "  plt.ylabel('Proporción')\n",
    "  plt.title('Evolución del Juego de la Corrupción')\n",
    "  plt.legend()\n",
    "  plt.grid(True)\n",
    "  plt.show()\n",
    "\n",
    "# Condiciones iniciales (puedes ajustar las proporciones)\n",
    "initial_conditions = [0.25, 0.25, 0.25, 0.25]  # [C, D, H, K]\n",
    "\n",
    "# Puntos de tiempo para la simulación\n",
    "time_points = np.linspace(0, 50, 100)\n",
    "\n",
    "# Simula el juego\n",
    "results = simulate_corruption_game(initial_conditions, time_points)\n",
    "    \n",
    "# Configura el estilo de las gráficas\n",
    "plt.style.use('science')\n",
    "plt.figure(figsize=(4, 4))  # Tamaño del gráfico\n",
    "\n",
    "# Grafica los resultados\n",
    "plot_results(results, time_points)\n",
    "\n",
    "# Guarda la imagen con resolución de 300 dpi\n",
    "plt.savefig('juegoDeLaCorrupcion.png', dpi=300)\n",
    "plt.show()"
   ]
  }
 ],
 "metadata": {
  "kernelspec": {
   "display_name": "Python 3",
   "language": "python",
   "name": "python3"
  },
  "language_info": {
   "codemirror_mode": {
    "name": "ipython",
    "version": 3
   },
   "file_extension": ".py",
   "mimetype": "text/x-python",
   "name": "python",
   "nbconvert_exporter": "python",
   "pygments_lexer": "ipython3",
   "version": "3.10.11"
  }
 },
 "nbformat": 4,
 "nbformat_minor": 2
}
