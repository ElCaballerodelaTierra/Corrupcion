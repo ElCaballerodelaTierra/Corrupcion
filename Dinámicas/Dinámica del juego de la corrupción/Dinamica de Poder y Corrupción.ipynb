{
 "cells": [
  {
   "cell_type": "markdown",
   "metadata": {},
   "source": [
    "Basado en el artículo de Ubeda y Dueñez del 2010 \"Power and Corruption\""
   ]
  },
  {
   "cell_type": "markdown",
   "metadata": {},
   "source": [
    "Primer intento para programar la dinámica del juego de la corrupción"
   ]
  },
  {
   "cell_type": "code",
   "execution_count": 1,
   "metadata": {},
   "outputs": [
    {
     "name": "stdout",
     "output_type": "stream",
     "text": [
      "Jugador 1 obtuvo: 3\n",
      "Jugador 2 obtuvo: 3\n"
     ]
    }
   ],
   "source": [
    "def dilema_prisionero(estrategia_jugador1, estrategia_jugador2):\n",
    "  \"\"\"\n",
    "  Simula una ronda del dilema del prisionero.\n",
    "\n",
    "  Args:\n",
    "    estrategia_jugador1: Una cadena de texto que indica la estrategia del jugador 1 ('cooperar' o 'no cooperar').\n",
    "    estrategia_jugador2: Una cadena de texto que indica la estrategia del jugador 2 ('cooperar' o 'no cooperar').\n",
    "\n",
    "  Returns:\n",
    "    Una tupla con las recompensas de cada jugador.\n",
    "  \"\"\"\n",
    "\n",
    "  # Matriz de pagos (ejemplo)\n",
    "  pagos = {\n",
    "      ('cooperar', 'cooperar'): (3, 3),\n",
    "      ('cooperar', 'no cooperar'): (0, 5),\n",
    "      ('no cooperar', 'cooperar'): (5, 0),\n",
    "      ('no cooperar', 'no cooperar'): (1, 1)\n",
    "  }\n",
    "\n",
    "  recompensa_jugador1, recompensa_jugador2 = pagos[(estrategia_jugador1, estrategia_jugador2)]\n",
    "  return recompensa_jugador1, recompensa_jugador2\n",
    "\n",
    "# Ejemplo de uso:\n",
    "jugador1 = input(\"Jugador 1, ¿cooperas o no cooperas? \")\n",
    "jugador2 = input(\"Jugador 2, ¿cooperas o no cooperas? \")\n",
    "\n",
    "resultado = dilema_prisionero(jugador1, jugador2)\n",
    "print(\"Jugador 1 obtuvo:\", resultado[0])\n",
    "print(\"Jugador 2 obtuvo:\", resultado[1])"
   ]
  },
  {
   "cell_type": "markdown",
   "metadata": {},
   "source": [
    "Extiendo la matriz a las 4 estrategias, relleno con los valores de la matriz de pago de México"
   ]
  },
  {
   "cell_type": "code",
   "execution_count": 2,
   "metadata": {},
   "outputs": [
    {
     "name": "stdout",
     "output_type": "stream",
     "text": [
      "Jugador 1 obtuvo: 1\n",
      "Jugador 2 obtuvo: -3\n"
     ]
    }
   ],
   "source": [
    "import random\n",
    "\n",
    "def dilema_prisionero(estrategia1, estrategia2):\n",
    "  \"\"\"\n",
    "  Simula una ronda del dilema del prisionero.\n",
    "\n",
    "  Args:\n",
    "    estrategia1: Una cadena de texto que indica la estrategia del jugador 1 ('C', 'N', 'PC', 'PN').\n",
    "    estrategia2: Una cadena de texto que indica la estrategia del jugador 2 ('C', 'N', 'PC', 'PN').\n",
    "\n",
    "  Returns:\n",
    "    Una tupla con las recompensas de cada jugador.\n",
    "  \"\"\"\n",
    "\n",
    "  # Matriz de pagos basada en la imagen proporcionada (México)\n",
    "  pagos = {\n",
    "      ('C', 'C'): (1, 1),\n",
    "      ('C', 'N'): (-2, 2),\n",
    "      ('C', 'PC'): (1, -3),\n",
    "      ('C', 'PN'): (-2, -1),\n",
    "      ('N', 'C'): (2, -2),\n",
    "      ('N', 'N'): (0, 0),\n",
    "      ('N', 'PC'): (1, -3),\n",
    "      ('N', 'PN'): (-1, -4),\n",
    "      ('PC', 'C'): (1, 1),\n",
    "      ('PC', 'N'): (-3, 2),\n",
    "      ('PC', 'PC'): (1, 1),\n",
    "      ('PC', 'PN'): (-4, 0),\n",
    "      ('PN', 'C'): (2, -2),\n",
    "      ('PN', 'N'): (-1, 0),\n",
    "      ('PN', 'PC'): (0, 1),\n",
    "      ('PN', 'PN'): (-4, -4)\n",
    "  }\n",
    "\n",
    "  return pagos[(estrategia1, estrategia2)]\n",
    "\n",
    "# Ejemplo de uso:\n",
    "estrategia_jugador1 = 'C'\n",
    "estrategia_jugador2 = 'PC'\n",
    "\n",
    "resultado = dilema_prisionero(estrategia_jugador1, estrategia_jugador2)\n",
    "print(\"Jugador 1 obtuvo:\", resultado[0])\n",
    "print(\"Jugador 2 obtuvo:\", resultado[1])"
   ]
  },
  {
   "cell_type": "markdown",
   "metadata": {},
   "source": [
    "Se añade la opción de la simulación, donde se repite el juego y cada jugador puede elegir que estrategia usar"
   ]
  },
  {
   "cell_type": "code",
   "execution_count": null,
   "metadata": {},
   "outputs": [
    {
     "name": "stdout",
     "output_type": "stream",
     "text": [
      "Jugador 1 (siempre coopera): -200\n",
      "Jugador 2 (siempre traiciona): 200\n"
     ]
    }
   ],
   "source": [
    "import random\n",
    "\n",
    "def simular_partidas(num_partidas, estrategia1, estrategia2):\n",
    "  \"\"\"\n",
    "  Simula múltiples partidas del dilema del prisionero.\n",
    "\n",
    "  Args:\n",
    "    num_partidas: Número de partidas a simular.\n",
    "    estrategia1: Función que determina la estrategia del jugador 1.\n",
    "    estrategia2: Función que determina la estrategia del jugador 2.\n",
    "\n",
    "  Returns:\n",
    "    Una lista con las recompensas totales de cada jugador.\n",
    "  \"\"\"\n",
    "\n",
    "  # Inicializar las recompensas totales\n",
    "  recompensas_jugador1 = 0\n",
    "  recompensas_jugador2 = 0\n",
    "\n",
    "  for _ in range(num_partidas):\n",
    "    # Determinar las estrategias para esta ronda\n",
    "    accion_jugador1 = estrategia1()\n",
    "    accion_jugador2 = estrategia2()\n",
    "\n",
    "    # Obtener las recompensas de la ronda\n",
    "    recompensa1, recompensa2 = dilema_prisionero(accion_jugador1, accion_jugador2)\n",
    "\n",
    "    # Acumular las recompensas totales\n",
    "    recompensas_jugador1 += recompensa1\n",
    "    recompensas_jugador2 += recompensa2\n",
    "\n",
    "  return recompensas_jugador1, recompensas_jugador2\n",
    "\n",
    "#Ejemplo de la simulación\n",
    "\n",
    "def siempre_cooperar():\n",
    "  return 'C'\n",
    "\n",
    "def siempre_traicionar():\n",
    "  return 'N'\n",
    "\n",
    "# Simular 100 partidas\n",
    "resultados = simular_partidas(100, siempre_cooperar, siempre_traicionar)\n",
    "print(\"Jugador 1 (siempre coopera):\", resultados[0])\n",
    "print(\"Jugador 2 (siempre traiciona):\", resultados[1])"
   ]
  }
 ],
 "metadata": {
  "kernelspec": {
   "display_name": "Python 3",
   "language": "python",
   "name": "python3"
  },
  "language_info": {
   "codemirror_mode": {
    "name": "ipython",
    "version": 3
   },
   "file_extension": ".py",
   "mimetype": "text/x-python",
   "name": "python",
   "nbconvert_exporter": "python",
   "pygments_lexer": "ipython3",
   "version": "3.10.11"
  }
 },
 "nbformat": 4,
 "nbformat_minor": 2
}
