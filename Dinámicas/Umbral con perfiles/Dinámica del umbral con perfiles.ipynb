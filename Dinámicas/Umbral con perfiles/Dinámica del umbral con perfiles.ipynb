{
 "cells": [
  {
   "cell_type": "markdown",
   "metadata": {},
   "source": [
    "En esta sección se trabaja con el modelo del umbral con perfiles mismo que se aplicará a la red.\n",
    "\n",
    "Enlace a la librería usada:\n",
    "\n",
    "https://ndlib.readthedocs.io/en/latest/reference/models/epidemics/ProfileThreshold.html"
   ]
  },
  {
   "cell_type": "code",
   "execution_count": null,
   "metadata": {},
   "outputs": [
    {
     "name": "stdout",
     "output_type": "stream",
     "text": [
      "Defaulting to user installation because normal site-packages is not writeableNote: you may need to restart the kernel to use updated packages.\n",
      "\n",
      "Collecting ndlib\n",
      "  Obtaining dependency information for ndlib from https://files.pythonhosted.org/packages/15/dc/1d7fd0b5a0917a8f27ae2d7fa6009857991ed05a89f65b352d937439f9ab/ndlib-5.1.1-py3-none-any.whl.metadata\n",
      "  Downloading ndlib-5.1.1-py3-none-any.whl.metadata (5.5 kB)\n",
      "Collecting netdispatch (from ndlib)\n",
      "  Obtaining dependency information for netdispatch from https://files.pythonhosted.org/packages/dd/ad/eb88790662e4215174d0f49d431010c83fedff2ad102f4e93abceaf085f0/netdispatch-0.1.0-py3-none-any.whl.metadata\n",
      "  Downloading netdispatch-0.1.0-py3-none-any.whl.metadata (744 bytes)\n",
      "Collecting python-igraph (from ndlib)\n",
      "  Obtaining dependency information for python-igraph from https://files.pythonhosted.org/packages/ac/37/3fb69b17599b4c76f75bdf00ea4b78394d3cbf1fc0ba31179861153c239f/python_igraph-0.11.8-py3-none-any.whl.metadata\n",
      "  Downloading python_igraph-0.11.8-py3-none-any.whl.metadata (2.8 kB)\n",
      "Requirement already satisfied: numpy in c:\\users\\cavn\\appdata\\roaming\\python\\python311\\site-packages (from ndlib) (1.26.4)\n",
      "Requirement already satisfied: networkx in c:\\programdata\\anaconda3\\lib\\site-packages (from ndlib) (3.1)\n",
      "Collecting dynetx (from ndlib)\n",
      "  Obtaining dependency information for dynetx from https://files.pythonhosted.org/packages/cb/66/a185a9ba8edcf75c4aacf37198702727a322772c72b8312ca26a35ebbf69/dynetx-0.3.2-py3-none-any.whl.metadata\n",
      "  Downloading dynetx-0.3.2-py3-none-any.whl.metadata (2.9 kB)\n",
      "Requirement already satisfied: scipy in c:\\programdata\\anaconda3\\lib\\site-packages (from ndlib) (1.11.1)\n",
      "Requirement already satisfied: bokeh in c:\\programdata\\anaconda3\\lib\\site-packages (from ndlib) (3.2.1)\n",
      "Requirement already satisfied: future in c:\\programdata\\anaconda3\\lib\\site-packages (from ndlib) (0.18.3)\n",
      "Requirement already satisfied: Jinja2>=2.9 in c:\\programdata\\anaconda3\\lib\\site-packages (from bokeh->ndlib) (3.1.2)\n",
      "Requirement already satisfied: contourpy>=1 in c:\\programdata\\anaconda3\\lib\\site-packages (from bokeh->ndlib) (1.0.5)\n",
      "Requirement already satisfied: packaging>=16.8 in c:\\programdata\\anaconda3\\lib\\site-packages (from bokeh->ndlib) (23.1)\n",
      "Requirement already satisfied: pandas>=1.2 in c:\\programdata\\anaconda3\\lib\\site-packages (from bokeh->ndlib) (2.0.3)\n",
      "Requirement already satisfied: pillow>=7.1.0 in c:\\programdata\\anaconda3\\lib\\site-packages (from bokeh->ndlib) (10.2.0)\n",
      "Requirement already satisfied: PyYAML>=3.10 in c:\\programdata\\anaconda3\\lib\\site-packages (from bokeh->ndlib) (6.0)\n",
      "Requirement already satisfied: tornado>=5.1 in c:\\programdata\\anaconda3\\lib\\site-packages (from bokeh->ndlib) (6.3.2)\n",
      "Requirement already satisfied: xyzservices>=2021.09.1 in c:\\programdata\\anaconda3\\lib\\site-packages (from bokeh->ndlib) (2022.9.0)\n",
      "Requirement already satisfied: tqdm in c:\\programdata\\anaconda3\\lib\\site-packages (from dynetx->ndlib) (4.65.0)\n",
      "Requirement already satisfied: decorator in c:\\programdata\\anaconda3\\lib\\site-packages (from dynetx->ndlib) (5.1.1)\n",
      "Collecting igraph==0.11.8 (from python-igraph->ndlib)\n",
      "  Obtaining dependency information for igraph==0.11.8 from https://files.pythonhosted.org/packages/b0/17/621d3a59430851a327421fdbec9ec8494d7fadaffc6dfdd42d4a95accbf2/igraph-0.11.8-cp39-abi3-win_amd64.whl.metadata\n",
      "  Downloading igraph-0.11.8-cp39-abi3-win_amd64.whl.metadata (3.9 kB)\n",
      "Collecting texttable>=1.6.2 (from igraph==0.11.8->python-igraph->ndlib)\n",
      "  Obtaining dependency information for texttable>=1.6.2 from https://files.pythonhosted.org/packages/24/99/4772b8e00a136f3e01236de33b0efda31ee7077203ba5967fcc76da94d65/texttable-1.7.0-py2.py3-none-any.whl.metadata\n",
      "  Downloading texttable-1.7.0-py2.py3-none-any.whl.metadata (9.8 kB)\n",
      "Requirement already satisfied: MarkupSafe>=2.0 in c:\\programdata\\anaconda3\\lib\\site-packages (from Jinja2>=2.9->bokeh->ndlib) (2.1.1)\n",
      "Requirement already satisfied: python-dateutil>=2.8.2 in c:\\programdata\\anaconda3\\lib\\site-packages (from pandas>=1.2->bokeh->ndlib) (2.8.2)\n",
      "Requirement already satisfied: pytz>=2020.1 in c:\\programdata\\anaconda3\\lib\\site-packages (from pandas>=1.2->bokeh->ndlib) (2023.3.post1)\n",
      "Requirement already satisfied: tzdata>=2022.1 in c:\\programdata\\anaconda3\\lib\\site-packages (from pandas>=1.2->bokeh->ndlib) (2023.3)\n",
      "Requirement already satisfied: colorama in c:\\programdata\\anaconda3\\lib\\site-packages (from tqdm->dynetx->ndlib) (0.4.6)\n",
      "Requirement already satisfied: six>=1.5 in c:\\programdata\\anaconda3\\lib\\site-packages (from python-dateutil>=2.8.2->pandas>=1.2->bokeh->ndlib) (1.16.0)\n",
      "Using cached ndlib-5.1.1-py3-none-any.whl (110 kB)\n",
      "Downloading dynetx-0.3.2-py3-none-any.whl (39 kB)\n",
      "Using cached netdispatch-0.1.0-py3-none-any.whl (3.3 kB)\n",
      "Downloading python_igraph-0.11.8-py3-none-any.whl (9.1 kB)\n",
      "Downloading igraph-0.11.8-cp39-abi3-win_amd64.whl (2.0 MB)\n",
      "   ---------------------------------------- 0.0/2.0 MB ? eta -:--:--\n",
      "   - -------------------------------------- 0.1/2.0 MB 2.0 MB/s eta 0:00:01\n",
      "   - -------------------------------------- 0.1/2.0 MB 871.5 kB/s eta 0:00:03\n",
      "   ---- ----------------------------------- 0.2/2.0 MB 1.8 MB/s eta 0:00:01\n",
      "   ------- -------------------------------- 0.3/2.0 MB 1.8 MB/s eta 0:00:01\n",
      "   ---------- ----------------------------- 0.5/2.0 MB 2.2 MB/s eta 0:00:01\n",
      "   ------------ --------------------------- 0.6/2.0 MB 2.3 MB/s eta 0:00:01\n",
      "   --------------- ------------------------ 0.7/2.0 MB 2.5 MB/s eta 0:00:01\n",
      "   --------------------- ------------------ 1.1/2.0 MB 2.8 MB/s eta 0:00:01\n",
      "   -------------------------------- ------- 1.6/2.0 MB 3.6 MB/s eta 0:00:01\n",
      "   ---------------------------------------- 2.0/2.0 MB 4.2 MB/s eta 0:00:00\n",
      "Downloading texttable-1.7.0-py2.py3-none-any.whl (10 kB)\n",
      "Installing collected packages: texttable, igraph, python-igraph, dynetx, netdispatch, ndlib\n",
      "Successfully installed dynetx-0.3.2 igraph-0.11.8 ndlib-5.1.1 netdispatch-0.1.0 python-igraph-0.11.8 texttable-1.7.0\n"
     ]
    },
    {
     "name": "stderr",
     "output_type": "stream",
     "text": [
      "  WARNING: The script igraph.exe is installed in 'C:\\Users\\cavn\\AppData\\Roaming\\Python\\Python311\\Scripts' which is not on PATH.\n",
      "  Consider adding this directory to PATH or, if you prefer to suppress this warning, use --no-warn-script-location.\n",
      "  WARNING: The scripts NDQL_execute.exe and NDQL_translate.exe are installed in 'C:\\Users\\cavn\\AppData\\Roaming\\Python\\Python311\\Scripts' which is not on PATH.\n",
      "  Consider adding this directory to PATH or, if you prefer to suppress this warning, use --no-warn-script-location.\n"
     ]
    }
   ],
   "source": [
    "#Instalamos la librería\n",
    "pip install ndlib"
   ]
  },
  {
   "cell_type": "code",
   "execution_count": 1,
   "metadata": {},
   "outputs": [],
   "source": [
    "# Se importa la librería networkx para trabajar con grafos\n",
    "# Se importan los módulos necesarios de ndlib para configurar y ejecutar el modelo\n",
    "import networkx as nx\n",
    "import ndlib.models.ModelConfig as mc\n",
    "import ndlib.models.epidemics as ep\n",
    "\n",
    "# Se crea una topología de red utilizando el modelo de Barabasi-Albert //Esta parte se puede cambiar por cualquier otro modelo de red\n",
    "g = nx.barabasi_albert_graph(50, 1)\n",
    "\n",
    "# Se selecciona el modelo de umbral de perfil\n",
    "model = ep.ProfileThresholdModel(g)\n",
    "config = mc.Configuration()\n",
    "# Se configuran los parámetros del modelo\n",
    "config.add_model_parameter('blocked', 0)\n",
    "config.add_model_parameter('adopter_rate', 0)\n",
    "config.add_model_parameter('fraction_infected', 0.1)\n",
    "\n",
    "# Se configuran los parámetros de los nodos\n",
    "threshold = 0.85\n",
    "profile = 0.85\n",
    "for i in g.nodes():\n",
    "    config.add_node_configuration(\"threshold\", i, threshold)\n",
    "    config.add_node_configuration(\"profile\", i, profile)\n",
    "\n",
    "# Se establece el estado inicial del modelo con la configuración dada\n",
    "model.set_initial_status(config)\n",
    "\n",
    "# Se ejecuta la simulación por 100 iteraciones\n",
    "iterations = model.iteration_bunch(100)\n",
    "\n"
   ]
  },
  {
   "cell_type": "code",
<<<<<<< HEAD
   "execution_count": 3,
   "metadata": {},
   "outputs": [
    {
     "data": {
      "image/png": "iVBORw0KGgoAAAANSUhEUgAAA1IAAAIkCAYAAAAUKhpvAAAAOXRFWHRTb2Z0d2FyZQBNYXRwbG90bGliIHZlcnNpb24zLjguNCwgaHR0cHM6Ly9tYXRwbG90bGliLm9yZy8fJSN1AAAACXBIWXMAAA9hAAAPYQGoP6dpAAB1jElEQVR4nO3deZyN5f/H8feZMTtmDMYMBmNG2deQKGJsY6++pRUpLcra8qu+CEX0JbSQ7zdLoVASFbKlyJY1a5aRYhDTzBjMeu7fH5rDMYu5p3PmHOb1fDw8mnPd97nvz7nObbo/ruv63BbDMAwBAAAAAPLNw9UBAAAAAMCNhkQKAAAAAEwikQIAAAAAk0ikAAAAAMAkEikAAAAAMIlECgAAAABMIpECAAAAAJNIpAAAAADAJBIpAHCRGTNm6MMPP3R1GAAAoABIpAAUSRaLRa+//rrTjt+qVSu1atUq1+0LFy7UwIED1bhxY6fFcLVZs2bJYrHo2LFjpt/7+uuvy2KxOD4oONT1rjncWNdylSpV1Lt3b1eHASAPJFIAXCbr5j63P5s2bXJ1iE5x6NAhPf3001qwYIEaNmzo6nDgAPPmzdOkSZNcHYbT/fTTT3r99deVkJDg6lAAwOWKuToAABg1apQiIiKytUdFRbkgGsf47rvvct22a9cuzZw5Ux07dizEiOBM8+bN0549ezRo0CCXxZDXNecoP/30k0aOHKnevXsrKCjI6ecDAHdGIgXA5Tp27KjbbrvN1WE4lLe3d67b7rvvvkKMBM504cIFBQQEuDoMSXlfcyg87nRNAHAupvYBcGvp6ekKDg5Wnz59sm1LSkqSr6+vXnjhBVvbmTNn1LdvX5UrV06+vr6qV6+eZs+efd3z9O7dW1WqVMnWntuaijlz5qhJkyby9/dXqVKldNddd9mNCOS0XiU/sR07dkwWi0X/+c9/NH36dEVGRsrHx0eNGzfW1q1br/s5JGnv3r1q3bq1/Pz8VLFiRb3xxhuyWq057rts2TLdeeedCggIUIkSJdSpUyft3bs3X+fJyebNmxUTE6NSpUopICBAdevW1eTJk+32WbNmje2cQUFB6tatm/bv32+3T1a///rrr3rkkUcUGBiosmXLatiwYTIMQ7///ru6deumkiVLKjQ0VBMmTLB7//fffy+LxaL58+fr1VdfVWhoqAICAtS1a1f9/vvv2eJeuHChGjVqJD8/P5UpU0aPPPKITpw4YbdP7969Vbx4cR05ckQxMTEqUaKEHn74YbVq1UrffPONfvvtN9u01KxrKS0tTcOHD1ejRo0UGBiogIAA3XnnnVq7dq3dsa/+3t9//31VrVpV/v7+ateunX7//XcZhqHRo0erYsWK8vPzU7du3RQfH293jJyuudTUVI0YMUJRUVHy8fFReHi4XnrpJaWmptrtZ7FY9Nxzz2nx4sWqXbu2fHx8VKtWLS1fvtzuO3nxxRclSREREbbPmrXuLiMjQ6NHj7Zds1WqVNGrr76a7Vy5OXDggO677z4FBwfL19dXt912m5YsWWK3T9Z04A0bNmjIkCEqW7asAgIC1KNHD/3555/5Os+1Zs6cqdatWyskJEQ+Pj6qWbOmpk6dmq/35nZNSJLVatWkSZNUq1Yt+fr6qly5cnrqqaf0119/2R3DMAy98cYbqlixovz9/XX33Xf/o7+DAAoPI1IAXC4xMVFnz561a7NYLCpdurS8vLzUo0cPLVq0SB9++KHdv7ovXrxYqamp6tmzpyTp0qVLatWqlQ4fPqznnntOERERWrhwoXr37q2EhAQNHDjQIfGOHDlSr7/+uu644w6NGjVK3t7e2rx5s9asWaN27drl+B6zsc2bN0/nz5/XU089JYvFovHjx+uee+7R0aNH5eXllWtsp06d0t13362MjAz93//9nwICAjR9+nT5+fll2/eTTz5Rr1691L59e40bN04XL17U1KlT1aJFC+3YsSPHxDIvK1euVOfOnRUWFqaBAwcqNDRU+/fv19dff237fKtWrVLHjh1VtWpVvf7667p06ZLeffddNW/eXNu3b892zgceeEA1atTQW2+9pW+++UZvvPGGgoOD9eGHH6p169YaN26c5s6dqxdeeEGNGzfWXXfdZff+N998UxaLRS+//LLOnDmjSZMmKTo6Wjt37rT1yaxZs9SnTx81btxYY8eO1enTpzV58mRt2LBBO3bssJvClpGRofbt26tFixb6z3/+I39/f4WGhioxMVF//PGH3nnnHUlS8eLFJV1O9v/3v//pwQcf1JNPPqnz58/ro48+Uvv27bVlyxbVr1/fLt65c+cqLS1Nzz//vOLj4zV+/Hjdf//9at26tb7//nu9/PLLOnz4sN5991298MILmjFjRq7fh9VqVdeuXbV+/Xr169dPNWrU0C+//KJ33nlHv/76qxYvXmy3//r167Vo0SI9++yzKlGihKZMmaJ7771Xx48fV+nSpXXPPffo119/1aeffqp33nlHZcqUkSSVLVtWkvTEE09o9uzZuu+++zR06FBt3rxZY8eO1f79+/Xll1/mee3s3btXzZs3V4UKFWzX7YIFC9S9e3d98cUX6tGjh93+zz//vEqVKqURI0bo2LFjmjRpkp577jnNnz8/z/PkZOrUqapVq5a6du2qYsWKaenSpXr22WdltVrVv3//674/p2tCkp566inbtTVgwADFxsbqvffe044dO7Rhwwbb3+Phw4frjTfeUExMjGJiYrR9+3a1a9dOaWlppj8LgEJmAICLzJw505CU4x8fHx/bfitWrDAkGUuXLrV7f0xMjFG1alXb60mTJhmSjDlz5tja0tLSjGbNmhnFixc3kpKSbO2SjBEjRthe9+rVy6hcuXK2GEeMGGFc/avy0KFDhoeHh9GjRw8jMzPTbl+r1Wr7uWXLlkbLli1NxxYbG2tIMkqXLm3Ex8fb9v3qq69y7INrDRo0yJBkbN682dZ25swZIzAw0JBkxMbGGoZhGOfPnzeCgoKMJ5980u79p06dMgIDA+3ar+2DnGRkZBgRERFG5cqVjb/++ivXfqlfv74REhJinDt3zta2a9cuw8PDw3jssceynbNfv35256hYsaJhsViMt956y9b+119/GX5+fkavXr1sbWvXrjUkGRUqVLD73hcsWGBIMiZPnmwYxuXvICQkxKhdu7Zx6dIl235ff/21IckYPny4ra1Xr16GJOP//u//sn3+Tp065Xj9ZGRkGKmpqXZtf/31l1GuXDnj8ccft7Vlfe9ly5Y1EhISbO2vvPKKIcmoV6+ekZ6ebmt/8MEHDW9vbyMlJcXWdu0198knnxgeHh7Gjz/+aHf+adOmGZKMDRs22NokGd7e3sbhw4dtbbt27TIkGe+++66t7e2337a7jrLs3LnTkGQ88cQTdu0vvPCCIclYs2ZNtr65Wps2bYw6derYfR6r1WrccccdRrVq1WxtWb8zoqOj7a6rwYMHG56ennZ9l5OcruWLFy9m2699+/Z2v1tyk9s18eOPPxqSjLlz59q1L1++3K79zJkzhre3t9GpUye7z/Pqq68akuyuaQDuh6l9AFzu/fff18qVK+3+LFu2zLa9devWKlOmjN2/Nv/1119auXKlHnjgAVvbt99+q9DQUD344IO2Ni8vLw0YMEDJyclat27dP4518eLFslqtGj58uDw87H+F5lVW2WxsDzzwgEqVKmV7feedd0qSjh49mmd83377rW6//XY1adLE1la2bFnbdKMsK1euVEJCgh588EGdPXvW9sfT01NNmzbNNvXsenbs2KHY2FgNGjQoWxGCrH6Ji4vTzp071bt3bwUHB9u2161bV23bttW3336b7bhPPPGE7WdPT0/ddtttMgxDffv2tbUHBQXp1ltvzbFvHnvsMZUoUcL2+r777lNYWJjtXD///LPOnDmjZ599Vr6+vrb9OnXqpOrVq+ubb77Jdsxnnnnmet1hF3PWKKrValV8fLwyMjJ02223afv27dn2/9e//qXAwEDb66ZNm0qSHnnkERUrVsyuPS0tLdv0w6stXLhQNWrUUPXq1e2+49atW0tStu84OjpakZGRttd169ZVyZIlr3vNSbL155AhQ+zahw4dKkk59mOW+Ph4rVmzRvfff7/Onz9vi/PcuXNq3769Dh06lO1z9uvXz+7v25133qnMzEz99ttv1431WleP1maNjrds2VJHjx5VYmJivo5x7TWxcOFCBQYGqm3btnZ936hRIxUvXtzW96tWrbKNQF79eVxZtARA/jG1D4DLNWnSJM9iE8WKFdO9996refPmKTU1VT4+Plq0aJHS09PtEqnffvtN1apVy5bg1KhRw7b9nzpy5Ig8PDxUs2ZNU+8zG1ulSpXsXmclVdeur8jpPFk331e79dZb7V4fOnRIkmw31dcqWbJknue51pEjRyRJtWvXzjO2nGKRLvfDihUrsi3Uv7YfAgMD5evra5tWdnX7uXPnsh23WrVqdq8tFouioqJs63ryiql69epav369XVuxYsVUsWLF3D5ijmbPnq0JEybowIEDSk9Pt7XnVKkyp88rSeHh4Tm253U9HDp0SPv377dNvbvWmTNn8jy3dPm6u941J13uRw8Pj2yVNkNDQxUUFJTn373Dhw/LMAwNGzZMw4YNyzXWChUq5Bprfv9+5GTDhg0aMWKENm7cqIsXL9ptS0xMtEtsc5LTNXHo0CElJiYqJCQkx/dk9X1Wv1x7nZYtW9buH1IAuCcSKQA3hJ49e+rDDz/UsmXL1L17dy1YsEDVq1dXvXr1HHL83EaTMjMzHXJ8szw9PXNsNwzDIcfPKj7xySefKDQ0NNv2q0c/XCmnfnB23+TFx8cnWzKclzlz5qh3797q3r27XnzxRYWEhMjT01Njx461JZ9Xy+2zFeQzW61W1alTRxMnTsxx+7XJmSP6tSAPu826Fl944QW1b98+x32uTdAcdQ0cOXJEbdq0UfXq1TVx4kSFh4fL29tb3377rd55551ci7RcLadrwmq1KiQkRHPnzs3xPbkltwBuLO7xf0oAuI677rpLYWFhmj9/vlq0aKE1a9botddes9uncuXK2r17t6xWq92NzYEDB2zbc1OqVKkcHzJ67b+kR0ZGymq1at++fdkKBeTln8RmRuXKlW2jTVc7ePCg3eusKVwhISGKjo7+x+fNOt6ePXtyPV7WZ7w2FulyP5QpU8bhZaOv7QvDMHT48GHVrVs3W0zXjs4dPHgw399LbgnE559/rqpVq2rRokV2+4wYMSLfn6GgIiMjtWvXLrVp06ZACU5OcjtO5cqVZbVadejQIdsoqySdPn1aCQkJefZj1apVJV2e6uqIa9GMpUuXKjU1VUuWLLEb5TI7tfVakZGRWrVqlZo3b55joZcsWf1y6NAhWz9I0p9//lmg0TUAhYs1UgBuCB4eHrrvvvu0dOlSffLJJ8rIyLCb1idJMTExOnXqlN1aqoyMDL377rsqXry4WrZsmevxIyMjlZiYqN27d9va4uLislUb6969uzw8PDRq1Khs/1qd17+G/5PYzIiJidGmTZu0ZcsWW9uff/6Z7V/G27dvr5IlS2rMmDF2082ufo8ZDRs2VEREhCZNmpQtIc3ql7CwMNWvX1+zZ8+222fPnj367rvvFBMTY+qc+fHxxx/r/Pnztteff/654uLibA9Dvu222xQSEqJp06bZleletmyZ9u/fr06dOuXrPAEBATmup8kaObn62ti8ebM2btxYoM9jxv33368TJ07ov//9b7Ztly5d0oULF0wfMyvRvfY7zvruJk2aZNeeNRqWVz+GhISoVatW+vDDDxUXF5dte0HLmudHTt9PYmKiZs6c+Y+Oe//99yszM1OjR4/Oti0jI8PWf9HR0fLy8tK7775rF8O1/QjAPTEiBcDlli1bZhuZudodd9xh96+0DzzwgN59912NGDFCderUsfuXb+nyAvQPP/xQvXv31rZt21SlShV9/vnn2rBhgyZNmmRXdOBaPXv21Msvv6wePXpowIABtlLgt9xyi11RgKioKL322msaPXq07rzzTt1zzz3y8fHR1q1bVb58eY0dOzbH4/+T2Mx46aWX9Mknn6hDhw4aOHCgrfx51ohYlpIlS2rq1Kl69NFH1bBhQ/Xs2VNly5bV8ePH9c0336h58+Z677338n1eDw8PTZ06VV26dFH9+vXVp08fhYWF6cCBA9q7d69WrFghSXr77bfVsWNHNWvWTH379rWVPw8MDNTrr7/ukD64WnBwsFq0aKE+ffro9OnTmjRpkqKiovTkk09KujwKMm7cOPXp00ctW7bUgw8+aCt/XqVKFQ0ePDhf52nUqJHmz5+vIUOGqHHjxipevLi6dOmizp07a9GiRerRo4c6deqk2NhYTZs2TTVr1lRycrLDP+/VHn30US1YsEBPP/201q5dq+bNmyszM1MHDhzQggULtGLFCtMPwm7UqJEk6bXXXlPPnj3l5eWlLl26qF69eurVq5emT5+uhIQEtWzZUlu2bNHs2bPVvXt33X333Xke9/3331eLFi1Up04dPfnkk6patapOnz6tjRs36o8//tCuXbsK3A95adeunby9vdWlSxc99dRTSk5O1n//+1+FhITkmNTlV8uWLfXUU09p7Nix2rlzp9q1aycvLy8dOnRICxcu1OTJk3XfffepbNmyeuGFFzR27Fh17txZMTEx2rFjh5YtW5ZtHSAAN+SSWoEAYORd/lySMXPmTLv9rVarER4ebkgy3njjjRyPefr0aaNPnz5GmTJlDG9vb6NOnTrZjmMY2cufG4ZhfPfdd0bt2rUNb29v49ZbbzXmzJmTa+nvGTNmGA0aNDB8fHyMUqVKGS1btjRWrlxp235tKer8xpZVBvvtt9/OV8w52b17t9GyZUvD19fXqFChgjF69Gjjo48+yrFs9dq1a4327dsbgYGBhq+vrxEZGWn07t3b+Pnnn2375Kf8eZb169cbbdu2NUqUKGEEBAQYdevWtSufbRiGsWrVKqN58+aGn5+fUbJkSaNLly7Gvn377PbJOueff/5p196rVy8jICAg23lbtmxp1KpVy+5zSTI+/fRT45VXXjFCQkIMPz8/o1OnTsZvv/2W7f3z58+3fZ/BwcHGww8/bPzxxx/5OrdhGEZycrLx0EMPGUFBQYYkWyl0q9VqjBkzxqhcubLh4+NjNGjQwPj666+zldvP7XvP+hwLFy60a8/6u7N161a7Prj2mktLSzPGjRtn1KpVy3atNmrUyBg5cqSRmJho20+S0b9//2yfq3LlytlKcI8ePdqoUKGC4eHhYXdNpaenGyNHjjQiIiIMLy8vIzw83HjllVfsSprn5ciRI8Zjjz1mhIaGGl5eXkaFChWMzp07G59//nmen/vqflq7dm2e58jpWl6yZIlRt25dw9fX16hSpYoxbtw4Y8aMGTn+fblWXteEYRjG9OnTjUaNGhl+fn5GiRIljDp16hgvvfSScfLkSds+mZmZxsiRI42wsDDDz8/PaNWqlbFnz54c+x6Ae7EYRiGszgUAoBB9//33uvvuu7Vw4ULdd999rg4HAHATYo0UAAAAAJhEIgUAAAAAJpFIAQAAAIBJrJECAAAAAJMYkQIAAAAAk0ikAAAAAMAkEikAAAAAMKmYqwNwB1arVSdPnlSJEiVksVhcHQ4AAAAAFzEMQ+fPn1f58uXl4ZH7uBOJlKSTJ08qPDzc1WEAAAAAcBO///67KlasmOt2EilJJUqUkHS5s0qWLOnSWNLT0/Xdd9+pXbt28vLycmksNyP61/noY+eif52PPnYu+tf56GPnon+dz9V9nJSUpPDwcFuOkBsSKck2na9kyZJukUj5+/urZMmS/OV0AvrX+ehj56J/nY8+di761/noY+eif53PXfr4ekt+KDYBAAAAACaRSAEAAACASSRSAAAAAGASiRQAAAAAmEQiBQAAAAAmkUgBAAAAgEkkUgAAAABgEokUAAAAAJhEIgUAAAAAJpFIAQAAAIBJJFIAAAAAYBKJFAAAAACYRCIFAAAAACYVc+XJf/jhB7399tvatm2b4uLi9OWXX6p79+627YZhaMSIEfrvf/+rhIQENW/eXFOnTlW1atVs+8THx+v555/X0qVL5eHhoXvvvVeTJ09W8eLFXfCJ3E+m1dCW2HidOZ+ikBK+alS5lLb99pfOnE9RmQAfySKdTU4tlG2uPn+ZAB9lZGZo21mLSsfGq0nVsjdM3DdSf2+Jjde2sxaVOnJOnsWKuVVsN2qf3szXsKvPzzXsPtewO8R2o/bpzXYNu/r8XMOuja1JRLCrb5/zzaWJ1IULF1SvXj09/vjjuueee7JtHz9+vKZMmaLZs2crIiJCw4YNU/v27bVv3z75+vpKkh5++GHFxcVp5cqVSk9PV58+fdSvXz/NmzevsD+O21m+J04jl+5TXGKKrc3DIlmNnPcvjG2uPv9lnvr40M83YNzmt7nu/J76+NA2N43tn21z9fkvu7muYVefP+dtXMPO3ZbzNewesZnf5urz57ztxr6GXX3+62/jGnbWtrBAX73W8dacN7oZi2EYuXyMwmWxWOxGpAzDUPny5TV06FC98MILkqTExESVK1dOs2bNUs+ePbV//37VrFlTW7du1W233SZJWr58uWJiYvTHH3+ofPny+Tp3UlKSAgMDlZiYqJIlSzrl8+VXenq6vv32W8XExMjLy6vAx1m+J07PzNkut/hyAQAAgHyw/P3fPrdk6pVHO/6j++GCym9u4LZrpGJjY3Xq1ClFR0fb2gIDA9W0aVNt3LhRkrRx40YFBQXZkihJio6OloeHhzZv3lzoMbuLTKuhkUv3kUQBAADghpJ1/7romIcycxu2chMundqXl1OnTkmSypUrZ9derlw527ZTp04pJCTEbnuxYsUUHBxs2ycnqampSk1Ntb1OSkqSdHk0KD093SHxF1TW+f9JHD8dOWc3nQ8AAAC4URiSEtIs2nTkTzWvFnLd/R0tv/fhbptIOdPYsWM1cuTIbO3fffed/P39XRBRditXrizQ+3ads+izIx66MjAKAAAA3HjWbNymxEOFPyp18eLFfO3ntolUaGioJOn06dMKCwuztZ8+fVr169e37XPmzBm792VkZCg+Pt72/py88sorGjJkiO11UlKSwsPD1a5dO7dYI7Vy5Uq1bdvW9JzQFXtPa+bGXUzpAwAAwA2vdbNGLhmRypqtdj1um0hFREQoNDRUq1evtiVOSUlJ2rx5s5555hlJUrNmzZSQkKBt27apUaNGkqQ1a9bIarWqadOmuR7bx8dHPj4+2dq9vLxcsqAtJ2ZjybQaenPZQZIoAAAA3NAskgK9Dd0eWdYl9+b5PadLE6nk5GQdPnzY9jo2NlY7d+5UcHCwKlWqpEGDBumNN95QtWrVbOXPy5cvb6vsV6NGDXXo0EFPPvmkpk2bpvT0dD333HPq2bNnviv23Sy2xMazLgoAAAA3tKzFKfdUscrTw72Xqri0at/PP/+sBg0aqEGDBpKkIUOGqEGDBho+fLgk6aWXXtLzzz+vfv36qXHjxkpOTtby5cttz5CSpLlz56p69epq06aNYmJi1KJFC02fPt0ln8eVzpzPXxJlyeN6zOtaddS2wjiHM7a5+vwF3ebq8+e1zdXnL+g2V5+/oNtcff68trn6/AXd5urzF3Sbq8+f1zZXn7+g21x9/oJuc/X589rm6vMXdJurz1/Qba4+/9VCA331bs96qlfa/edZuXREqlWrVsrrMVYWi0WjRo3SqFGjct0nODiYh+9KCinhe/2dJH3cu4mKFfMosk/OzsjM0OoNW9TuzqZ2TyN397hvpP7ecvRPfffjZkU3byLPYsXcKrYbtU9v5mvY1efnGnafa9gdYrtR+/Rmu4ZdfX6uYdfG1iQiWNbMDH37m5Nvnh3AbR7I60o3+gN5M62GNh05p/7ztivhUs7lGi26nOGvf7m12w+TOpOjHniM3NHHzkX/Oh997Fz0r/PRx85F/zqfq/s4v7mB2xabQP4s3xOnkUv35bk+KittGtGlZpFOogAAAABHIZG6gS3fE6dn5my/bqW+0EBfjehSUx1qh11nTwAAAAD5QSJ1g8q0Ghq5dF+eSVSQn5fef7ihbq9ampEoAAAAwIFcWrUPBZefcucJl9LlYbGQRAEAAAAORiJ1g8pvufP87gcAAAAg/0ikblD5LXee3/0AAAAA5F+BEql169apS5cuioqKUlRUlLp27aoff/zR0bEhD00ighUW6KvcJu1ZJIUFXq7FDwAAAMCxTCdSc+bMUXR0tPz9/TVgwAANGDBAfn5+atOmDQ/GLUSeHhaN6FIzx22UOwcAAACcy3TVvjfffFPjx4/X4MGDbW0DBgzQxIkTNXr0aD300EMODRC561A7TFMfaaiXPt+tpJQMWzvlzgEAAADnMj0idfToUXXp0iVbe9euXRUbG+uQoJB/HWqH6cGmlSRJd1Uro0+fvF3rX25NEgUAAAA4kelEKjw8XKtXr87WvmrVKoWHhzskKJhz9nyaJOn2yNJqFskzowAAAABnMz21b+jQoRowYIB27typO+64Q5K0YcMGzZo1S5MnT3Z4gLi+rBLn5ajQBwAAABQK04nUM888o9DQUE2YMEELFiyQJNWoUUPz589Xt27dHB4gru900t+JVEkSKQAAAKAwmE6kJKlHjx7q0aOHo2NBAZ1OSpUklSvp4+JIAAAAgKLB9BqpqlWr6ty5c9naExISVLVqVYcEhfxLSc9U4qV0SVIII1IAAABAoTCdSB07dkyZmZnZ2lNTU3XixAmHBIX8O/P3aJSvl4dK+hZogBEAAACASfm+816yZInt5xUrVigwMND2OjMzU6tXr1aVKlUcGhyu7/T5K+ujLBaq9QEAAACFId+JVPfu3SVJFotFvXr1stvm5eWlKlWqaMKECQ4NDteXVWgipATrowAAAIDCku9Eymq1SpIiIiK0detWlSlTxmlBIf+yCk2wPgoAAAAoPKYX1cTGxjojDhQQz5ACAAAACl+BqhOsXr1aq1ev1pkzZ2wjVVlmzJjhkMCQP2cofQ4AAAAUOtOJ1MiRIzVq1CjddtttCgsLo8CBi/EwXgAAAKDwmU6kpk2bplmzZunRRx91RjwwyVZsghEpAAAAoNCYfo5UWlqa7rjjDmfEggK4MrWPESkAAACgsJhOpJ544gnNmzfPGbHApAupGTqfmiGJRAoAAAAoTKan9qWkpGj69OlatWqV6tatKy8vL7vtEydOdFhwyNuZ85dHowK8PVXcp0B1QwAAAAAUgOm77927d6t+/fqSpD179thto/BE4aLQBAAAAOAaphOptWvXOiMOFACFJgAAAADXML1GKsvhw4e1YsUKXbp0SZJkGIbDgkL+ZBWaCOFhvAAAAEChMp1InTt3Tm3atNEtt9yimJgYxcXFSZL69u2roUOHOjxA5O7M+aypfYxIAQAAAIXJdCI1ePBgeXl56fjx4/L397e1P/DAA1q+fLlDg0PeTlP6HAAAAHAJ02ukvvvuO61YsUIVK1a0a69WrZp+++03hwWG67uyRopECgAAAChMpkekLly4YDcSlSU+Pl4+PkwxK0xZ5c/LlaDfAQAAgMJkOpG688479fHHH9teWywWWa1WjR8/XnfffbdDg0PuDMOg/DkAAADgIqan9o0fP15t2rTRzz//rLS0NL300kvau3ev4uPjtWHDBmfEiBwkXkrXxbRMSdKxcxcUHuwvTw+e4wUAAAAUBtMjUrVr19avv/6qFi1aqFu3brpw4YLuuece7dixQ5GRkc6IEddYvidO0RPX2V73nrlVLcat0fI9cS6MCgAAACg6TI9ISVJgYKBee+01R8eCfFi+J07PzNmua5/adSoxRc/M2a6pjzRUh9phLokNAAAAKCrylUjt3r1btWvXloeHh3bv3p3nvnXr1nVIYMgu02po5NJ92ZIoSTIkWSSNXLpPbWuGMs0PAAAAcKJ8JVL169fXqVOnFBISovr168tiscgwst/OWywWZWZmOjxIXLYlNl5xiSm5bjckxSWmaEtsvJpFli68wAAAAIAiJl+JVGxsrMqWLWv7Ga5x5nzuSVRB9gMAAABQMPlKpCpXrpzjzyhcISXyV+Y8v/sBAAAAKJgCFZs4efKk1q9frzNnzshqtdptGzBggEMCQ3ZNIoIVFuirU4kpOa6TskgKDfRVk4jgwg4NAAAAKFJMJ1KzZs3SU089JW9vb5UuXVoWy5WiBhaLhUTKiTw9LBrRpaaembM927asb2FEl5oUmgAAAACczPRzpIYNG6bhw4crMTFRx44dU2xsrO3P0aNHnREjrtKhdpimPtJQPsXsv7rQQF9KnwMAAACFxPSI1MWLF9WzZ095eJjOweAgHWqHqWGlY9p4NF6PNausjrXD1CQimJEoAAAAoJCYzob69u2rhQsXOiMWmJCScXltWouoMmoWWZokCgAAAChEpkekxo4dq86dO2v58uWqU6eOvLy87LZPnDjRYcEhdynplxMpP29PF0cCAAAAFD0FSqRWrFihW2+9VZKyFZtA4UhJv/zgY18vEikAAACgsJlOpCZMmKAZM2aod+/eTggH+XUp7XIi5UciBQAAABQ602ukfHx81Lx5c2fEAhMuMSIFAAAAuIzpRGrgwIF69913nRELTLgytY/qiQAAAEBhMz21b8uWLVqzZo2+/vpr1apVK1uxiUWLFjksOOTMajWU+nfVPqb2AQAAAIXPdCIVFBSke+65xxmxIJ9SMjJtP1O1DwAAACh8phOpmTNnOiMOmJBV+lySfIuRSAEAAACFjQU2N6CsQhPexTzkwYN4AQAAgEJnekRKkj7//HMtWLBAx48fV1pamt227du3OyQw5I7S5wAAAIBrmR6RmjJlivr06aNy5cppx44datKkiUqXLq2jR4+qY8eOzogR18iq2EciBQAAALiG6UTqgw8+0PTp0/Xuu+/K29tbL730klauXKkBAwYoMTHRGTHiGpQ+BwAAAFzL9J348ePHdccdd0iS/Pz8dP78eUnSo48+qk8//dSx0SFHPIwXAAAAcC3TiVRoaKji4+MlSZUqVdKmTZskSbGxsTIMw7HRIUe2NVKUPgcAAABcwnQi1bp1ay1ZskSS1KdPHw0ePFht27bVAw88oB49ejg8QGSX8vfDeCl9DgAAALiG6ap906dPl9V6+Ua+f//+Kl26tH766Sd17dpVTz31lMMDRHYpjEgBAAAALmU6kfrjjz8UHh5ue92zZ0/17NlThmHo999/V6VKlRwaILK7RNU+AAAAwKVMT+2LiIjQn3/+ma09Pj5eERERDgkKeaPYBAAAAOBaphMpwzBksViytScnJ8vX19chQSFvlD8HAAAAXCvfU/uGDBkiSbJYLBo2bJj8/f1t2zIzM7V582bVr1/f4QEiO6b2AQAAAK6V70Rqx44dki6PSP3yyy/y9va2bfP29la9evX0wgsvOD5CZEOxCQAAAMC18p1IrV27VtLlkudTpkxRiRIlnBYU8paS/nf5c0akAAAAAJcwtcgmPT1dn3zyiX777TdnxYN8oNgEAAAA4FqmEikvLy9VqlRJmZmZzooH+cAaKQAAAMC1TJd9e+211/Tqq68qPj7eGfEgH6jaBwAAALiW6Qfyvvfeezp8+LDKly+vypUrKyAgwG779u3bHRYccpbCiBQAAADgUqYTqe7duzshDJhhWyNF1T4AAADAJUwnUiNGjHBGHDDhUhojUgAAAIArmU6ksmzbtk379++XJNWqVUsNGjRwWFDIG+XPAQAAANcynUidOXNGPXv21Pfff6+goCBJUkJCgu6++2599tlnKlu2rKNjxDVYIwUAAAC4lumyb88//7zOnz+vvXv3Kj4+XvHx8dqzZ4+SkpI0YMAAZ8SIa1D+HAAAAHAt0yNSy5cv16pVq1SjRg1bW82aNfX++++rXbt2Dg0O2RmGcdUDeSl/DgAAALiC6Ttxq9UqLy+vbO1eXl6yWq0OCQq5S8u0yjAu/0zVPgAAAMA1TCdSrVu31sCBA3Xy5Elb24kTJzR48GC1adPGocEhu5S0K8kqU/sAAAAA1zCdSL333ntKSkpSlSpVFBkZqcjISEVERCgpKUnvvvuuM2LEVbKm9Xl6WOTlydQ+AAAAwBVMr5EKDw/X9u3btWrVKh04cECSVKNGDUVHRzs8OGRHxT4AAADA9Qo0pGGxWNS2bVs9//zzev75552WRGVmZmrYsGGKiIiQn5+fIiMjNXr0aBlZi4R0ufjC8OHDFRYWJj8/P0VHR+vQoUNOiccdXCk0QSIFAAAAuEqBEqnVq1erc+fOtql9nTt31qpVqxwdm8aNG6epU6fqvffe0/79+zVu3DiNHz/ebgrh+PHjNWXKFE2bNk2bN29WQECA2rdvr5SUFIfH4w5spc+9mdYHAAAAuIrpu/EPPvhAHTp0UIkSJTRw4EANHDhQJUuWVExMjN5//32HBvfTTz+pW7du6tSpk6pUqaL77rtP7dq105YtWyRdHo2aNGmS/v3vf6tbt26qW7euPv74Y508eVKLFy92aCzuIiXt7xGpYoxIAQAAAK5ieo3UmDFj9M477+i5556ztQ0YMEDNmzfXmDFj1L9/f4cFd8cdd2j69On69ddfdcstt2jXrl1av369Jk6cKEmKjY3VqVOn7KYWBgYGqmnTptq4caN69uyZ43FTU1OVmppqe52UlCRJSk9PV3p6usPiL4is8+cWR3JKmqTLz5Bydaw3ouv1L/45+ti56F/no4+di/51PvrYuehf53N1H+f3vBbj6gVH+VC8eHHt3LlTUVFRdu2HDh1SgwYNlJycbOZwebJarXr11Vc1fvx4eXp6KjMzU2+++aZeeeUVSZdHrJo3b66TJ08qLCzM9r77779fFotF8+fPz/G4r7/+ukaOHJmtfd68efL393dY/M6w45xFs371VGQJQwNqZ7o6HAAAAOCmcvHiRT300ENKTExUyZIlc93P9IhU165d9eWXX+rFF1+0a//qq6/UuXNn85HmYcGCBZo7d67mzZunWrVqaefOnRo0aJDKly+vXr16Ffi4r7zyioYMGWJ7nZSUpPDwcLVr1y7PzioM6enpWrlypdq2bZvjg49TdpyQft2r8uXKKCamkQsivLFdr3/xz9HHzkX/Oh997Fz0r/PRx85F/zqfq/s4a7ba9ZhOpGrWrKk333xT33//vZo1ayZJ2rRpkzZs2KChQ4dqypQptn0HDBhg9vB2XnzxRf3f//2fbYpenTp19Ntvv2ns2LHq1auXQkNDJUmnT5+2G5E6ffq06tevn+txfXx85OPjk63dy8vLbf5C5BZLutUiSfL3KeY2sd6I3Om7vlnRx85F/zoffexc9K/z0cfORf86n6v6OL/nNJ1IffTRRypVqpT27dunffv22dqDgoL00Ucf2V5bLJZ/nEhdvHhRHh729TA8PT1ltVolSREREQoNDdXq1attiVNSUpI2b96sZ5555h+d213xHCkAAADA9UwnUrGxsc6II0ddunTRm2++qUqVKqlWrVrasWOHJk6cqMcff1zS5WRt0KBBeuONN1StWjVFRERo2LBhKl++vLp3715ocRamS2k8RwoAAABwNdOJVGF69913NWzYMD377LM6c+aMypcvr6eeekrDhw+37fPSSy/pwoUL6tevnxISEtSiRQstX75cvr6+LozceXggLwAAAOB6phMpwzD0+eefa+3atTpz5oxtml2WRYsWOSy4EiVKaNKkSZo0aVKu+1gsFo0aNUqjRo1y2HndWUr65f728yaRAgAAAFzFdCI1aNAgffjhh7r77rtVrlw5WSwWZ8SFXFxijRQAAADgcqYTqU8++USLFi1STEyMM+LBdaTYpvZ5XGdPAAAAAM5i+m48MDBQVatWdUYsyAeq9gEAAACuZzqRev311zVy5EhdunTJGfHgOig2AQAAALie6al9999/vz799FOFhISoSpUq2R5YtX37docFh+wofw4AAAC4nulEqlevXtq2bZseeeQRik24AFP7AAAAANcznUh98803WrFihVq0aOGMeHAdlD8HAAAAXM/0Gqnw8HCVLFnSGbEgHy5RtQ8AAABwOdN34xMmTNBLL72kY8eOOSEcXA/FJgAAAADXMz2175FHHtHFixcVGRkpf3//bMUm4uPjHRYcsmONFAAAAOB6phOpSZMmOSEM5JctkWKNFAAAAOAyBaraB9fIyLQqPdOQJPkWI5ECAAAAXMV0IiVJmZmZWrx4sfbv3y9JqlWrlrp27SpPT27unSklw2r7mREpAAAAwHVMJ1KHDx9WTEyMTpw4oVtvvVWSNHbsWIWHh+ubb75RZGSkw4PEZVkP45Ukn2JU7QMAAABcxfTd+IABAxQZGanff/9d27dv1/bt23X8+HFFRERowIABzogRf0u5qvQ5D0IGAAAAXMf0iNS6deu0adMmBQcH29pKly6tt956S82bN3docLB3iYp9AAAAgFswPSLl4+Oj8+fPZ2tPTk6Wt7e3Q4JCzih9DgAAALgH04lU586d1a9fP23evFmGYcgwDG3atElPP/20unbt6owY8besNVK+FJoAAAAAXMp0IjVlyhRFRkaqWbNm8vX1la+vr5o3b66oqChNnjzZGTHib1lT+yh9DgAAALiW6TVSQUFB+uqrr3T48GFb+fMaNWooKirK4cHBXkr65fLnlD4HAAAAXKtAz5GSpKioKJKnQsYaKQAAAMA9mJ7ad++992rcuHHZ2sePH69//etfDgkKObt0VflzAAAAAK5j+o78hx9+UExMTLb2jh076ocffnBIUMiZrdgEI1IAAACAS5lOpHIrc+7l5aWkpCSHBIWcpWQwtQ8AAABwB6YTqTp16mj+/PnZ2j/77DPVrFnTIUEhZymMSAEAAABuwXSxiWHDhumee+7RkSNH1Lp1a0nS6tWr9emnn2rhwoUODxBXZK2RomofAAAA4FqmE6kuXbpo8eLFGjNmjD7//HP5+fmpbt26WrVqlVq2bOmMGPG3rPLnjEgBAAAArlWg8uedOnVSp06dHB0LruMS5c8BAAAAt0Ad7RsI5c8BAAAA98Ad+Q0kq9gEI1IAAACAa5FI3UBs5c8pNgEAAAC4FInUDSTrgbw+xUikAAAAAFcikbqBXPq7ah8jUgAAAIBrma7al5mZqVmzZmn16tU6c+aMrFar3fY1a9Y4LDjYS6VqHwAAAOAWTCdSAwcO1KxZs9SpUyfVrl1bFovFGXEhB1TtAwAAANyD6UTqs88+04IFCxQTE+OMeJCLTKuhpJR0SdKvp86rVvlAeXqQxAIAAACuYHpow9vbW1FRUc6IBblYvidOLcat0YXUyyNSL3y+Wy3GrdHyPXEujgwAAAAomkwnUkOHDtXkyZNlGIYz4sE1lu+J0zNztisuMcWu/VRiip6Zs51kCgAAAHAB01P71q9fr7Vr12rZsmWqVauWvLy87LYvWrTIYcEVdZlWQyOX7lNOKashySJp5NJ9alszlGl+AAAAQCEynUgFBQWpR48ezogF19gSG59tJOpqhqS4xBRtiY1Xs8jShRcYAAAAUMSZTqRmzpzpjDiQgzPnc0+iCrIfAAAAAMegjrYbCynh69D9AAAAADiG6RGpiIiIPJ8ddfTo0X8UEK5oEhGssEBfnUpMyXGdlEVSaKCvmkQEF3ZoAAAAQJFmOpEaNGiQ3ev09HTt2LFDy5cv14svvuiouCDJ08OiEV1q6pk527Nty0plR3SpSaEJAAAAoJCZTqQGDhyYY/v777+vn3/++R8HBHsdaodp6iMN9e/Fe3Q2Oc3WHhroqxFdaqpD7TAXRgcAAAAUTQ5bI9WxY0d98cUXjjocrtKhdphm9WkiSSrhU0yfPnm71r/cmiQKAAAAcBHTI1K5+fzzzxUczFodZ8l6/nGATzFKnQMAAAAuZjqRatCggV2xCcMwdOrUKf3555/64IMPHBocrsiwWiWJ9VAAAACAGzCdSHXv3t3utYeHh8qWLatWrVqpevXqjooL18i0Xh6S8vIkkQIAAABczXQiNWLECGfEgevI+DuRYkQKAAAAcD0eyHuDyMi8nEgV8+ArAwAAAFyNu/IbRNYaqWJM7QMAAABcjkTqBpG1RqoYU/sAAAAAlyORukGkZ7JGCgAAAHAXJFI3iCsjUnxlAAAAgKuZrtp34cIFvfXWW1q9erXOnDkj699rd7IcPXrUYcHhCtZIAQAAAO7DdCL1xBNPaN26dXr00UcVFhZm93BeOE8m5c8BAAAAt2E6kVq2bJm++eYbNW/e3BnxIBdXyp+TSAEAAACuZnrBTalSpRQcHOyMWJCHKw/kZY0UAAAA4Gqm78pHjx6t4cOH6+LFi86IB7nI/HuNlBdrpAAAAACXMz21b8KECTpy5IjKlSunKlWqyMvLy2779u3bHRYcrshgjRQAAADgNkwnUt27d3dCGLge1kgBAAAA7sN0IjVixAhnxIHryBqRKubJGikAAADA1UwnUlm2bdum/fv3S5Jq1aqlBg0aOCwoZJe1RooRKQAAAMD1TCdSZ86cUc+ePfX9998rKChIkpSQkKC7775bn332mcqWLevoGCHWSAEAAADuxPQ8seeff17nz5/X3r17FR8fr/j4eO3Zs0dJSUkaMGCAM2KEWCMFAAAAuBPTI1LLly/XqlWrVKNGDVtbzZo19f7776tdu3YODQ5XsEYKAAAAcB+m78qtVmu2kueS5OXlJevf63jgeKyRAgAAANyH6USqdevWGjhwoE6ePGlrO3HihAYPHqw2bdo4NDhckZ7JGikAAADAXZhOpN577z0lJSWpSpUqioyMVGRkpCIiIpSUlKR3333XGTFCUqaVNVIAAACAuzC9Rio8PFzbt2/XqlWrdODAAUlSjRo1FB0d7fDgcAVrpAAAAAD3YSqRSk9Pl5+fn3bu3Km2bduqbdu2zooL18haI8XUPgAAAMD1TA1veHl5qVKlSsrMzHRWPMgF5c8BAAAA92F6nthrr72mV199VfHx8c6IB7lgah8AAADgPkyvkXrvvfd0+PBhlS9fXpUrV1ZAQIDd9u3btzssOFxBsQkAAADAfZhOpLp37+6EMHA9GayRAgAAANyG6URqxIgRzogD18EaKQAAAMB9FGjBTUJCgv73v//plVdesa2V2r59u06cOOHQ4HAFa6QAAAAA92F6RGr37t2Kjo5WYGCgjh07pieffFLBwcFatGiRjh8/ro8//tgZcRZ5rJECAAAA3Ifp4Y0hQ4aod+/eOnTokHx9fW3tMTEx+uGHHxwaHK5gjRQAAADgPkwnUlu3btVTTz2Vrb1ChQo6deqUQ4JCdqyRAgAAANyH6UTKx8dHSUlJ2dp//fVXlS1b1iFBITvWSAEAAADuw/RdedeuXTVq1Cilp6dLkiwWi44fP66XX35Z9957r8MDPHHihB555BGVLl1afn5+qlOnjn7++WfbdsMwNHz4cIWFhcnPz0/R0dE6dOiQw+NwNdZIAQAAAO7DdCI1YcIEJScnKyQkRJcuXVLLli0VFRWlEiVK6M0333RocH/99ZeaN28uLy8vLVu2TPv27dOECRNUqlQp2z7jx4/XlClTNG3aNG3evFkBAQFq3769UlJSHBqLq6VnskYKAAAAcBemq/YFBgZq5cqVWr9+vXbv3q3k5GQ1bNhQ0dHRDg9u3LhxCg8P18yZM21tERERtp8Nw9CkSZP073//W926dZMkffzxxypXrpwWL16snj17OjwmV7GNSHmSSAEAAACuZjqRytKiRQu1aNHCkbFks2TJErVv317/+te/tG7dOlWoUEHPPvusnnzySUlSbGysTp06ZZfEBQYGqmnTptq4cWOuiVRqaqpSU1Ntr7PWfKWnp9umLLpK1vmvjSPj7xEpWa0uj/FGllv/wnHoY+eif52PPnYu+tf56GPnon+dz9V9nN/zWgzDMK6305QpU9SvXz/5+vpqypQpee47YMCA/EWYD1nl1YcMGaJ//etf2rp1qwYOHKhp06apV69e+umnn9S8eXOdPHlSYWFhtvfdf//9slgsmj9/fo7Hff311zVy5Mhs7fPmzZO/v7/D4nekUds9dS7VokG1MxRRwtXRAAAAADenixcv6qGHHlJiYqJKliyZ6375SqQiIiL0888/q3Tp0nZT67IdzGLR0aNHCxZxDry9vXXbbbfpp59+srUNGDBAW7du1caNGwucSOU0IhUeHq6zZ8/m2VmFIT09XStXrlTbtm3l5eVla7/rPz8oLjFFXzzVVHUrBrowwhtbbv0Lx6GPnYv+dT762LnoX+ejj52L/nU+V/dxUlKSypQpc91EKl9T+2JjY3P82dnCwsJUs2ZNu7YaNWroiy++kCSFhoZKkk6fPm2XSJ0+fVr169fP9bg+Pj7y8fHJ1u7l5eU2fyGujSVrjZSvj/vEeCNzp+/6ZkUfOxf963z0sXPRv85HHzsX/et8rurj/J7TVNW+9PR0RUZGav/+/QUKyqzmzZvr4MGDdm2//vqrKleuLOnySFloaKhWr15t256UlKTNmzerWbNmhRJjYblS/pznSAEAAACuZqrYhJeXV6GWFR88eLDuuOMOjRkzRvfff7+2bNmi6dOna/r06ZIuTyUcNGiQ3njjDVWrVk0REREaNmyYypcvr+7duxdanIUh64G8lD8HAAAAXM/08Eb//v01btw4ZWRkOCMeO40bN9aXX36pTz/9VLVr19bo0aM1adIkPfzww7Z9XnrpJT3//PPq16+fGjdurOTkZC1fvtxWqOJmkVW1jwfyAgAAAK5nuvz51q1btXr1an333XeqU6eOAgIC7LYvWrTIYcFJUufOndW5c+dct1ssFo0aNUqjRo1y6HndTQbPkQIAAADchulEKigoSPfee68zYkEeWCMFAAAAuA/TidTMmTOdEQfyYBgGa6QAAAAAN8Lwxg0gazRKYo0UAAAA4A7yNSLVsGFDrV69WqVKlVKDBg1kseR+M799+3aHBYfLMq5OpFgjBQAAALhcvhKpbt262R5ge7OVFb8R2I9IMYgIAAAAuFq+EqkRI0bk+DMKR0bmlUSKNVIAAACA6zG8cQPIsFptP7NGCgAAAHA901X7PDw88lwjlZmZ+Y8CQnZZU/s8LJIHiRQAAADgcqYTqS+//NLudXp6unbs2KHZs2dr5MiRDgsMV2TwDCkAAADArZhOpLp165at7b777lOtWrU0f/589e3b1yGB4YqsNVKsjwIAAADcg8OGOG6//XatXr3aUYfDVbLWSFH6HAAAAHAPDkmkLl26pClTpqhChQqOOByukWmb2kciBQAAALgD01P7SpUqZVdswjAMnT9/Xv7+/pozZ45Dg8NlWWukPFkjBQAAALgF04nUO++8Y5dIeXh4qGzZsmratKlKlSrl0OBwWdYaKUakAAAAAPdgOpHq3bu3E8JAXlgjBQAAALgX04nU7t27871v3bp1zR4eOWCNFAAAAOBeTCdS9evXz/OBvNLldVMWi4WH8zrIlTVSJFIAAACAOzBdvWDRokWKiIjQBx98oB07dmjHjh364IMPFBkZqS+++EJHjx5VbGysjh496ox4i6SsNVJenhSbAAAAANyB6RGpMWPGaMqUKYqJibG11a1bV+Hh4Ro2bJi2bdvm0ABxZY0UI1IAAACAezA9xPHLL78oIiIiW3tERIT27dvnkKBgjzVSAAAAgHsxnUjVqFFDY8eOVVpamq0tLS1NY8eOVY0aNRwaHC5Lz2SNFAAAAOBOTE/tmzZtmrp06aKKFSvaqvLt3r1bFotFS5cudXiAuGpEijVSAAAAgFswnUg1adJER48e1dy5c3XgwAFJ0gMPPKCHHnpIAQEBDg8QVz1HihEpAAAAwC2YTqQkKSAgQP369XN0LMhFJuXPAQAAALeSr0RqyZIl+T5g165dCxwMcpZV/pwRKQAAAMA95CuR6t69u91ri8UiwzCytUniIbxOkMEaKQAAAMCt5OvO3Gq12v589913ql+/vpYtW6aEhAQlJCRo2bJlatiwoZYvX+7seIukTNZIAQAAAG7F9BqpQYMGadq0aWrRooWtrX379vL391e/fv20f/9+hwaIKyNSrJECAAAA3IPpuWJHjhxRUFBQtvbAwEAdO3bMASHhWllrpLyY2gcAAAC4BdN35o0bN9aQIUN0+vRpW9vp06f14osvqkmTJg4NDpcxIgUAAAC4F9OJ1IwZMxQXF6dKlSopKipKUVFRqlSpkk6cOKGPPvrIGTEWeayRAgAAANyL6TVSUVFR2r17t1auXGl7IG+NGjUUHR1tq9wHx0rPZEQKAAAAcCcFeiCvxWJRu3bt1K5dO0fHgxxkPZCXNVIAAACAeyhQInXhwgWtW7dOx48fV1pamt22AQMGOCQwXMEaKQAAAMC9mE6kduzYoZiYGF28eFEXLlxQcHCwzp49K39/f4WEhJBIOQFrpAAAAAD3Ynqu2ODBg9WlSxf99ddf8vPz06ZNm/Tbb7+pUaNG+s9//uOMGIs81kgBAAAA7sV0IrVz504NHTpUHh4e8vT0VGpqqsLDwzV+/Hi9+uqrzoixyMtaI1WMNVIAAACAWzB9Z+7l5SUPj8tvCwkJ0fHjxyVdfiDv77//7tjoIOnKGimm9gEAAADuwfQaqQYNGmjr1q2qVq2aWrZsqeHDh+vs2bP65JNPVLt2bWfEWORlrZFiah8AAADgHkyPSI0ZM0ZhYWGSpDfffFOlSpXSM888oz///FPTp093eICQMjKzyp+TSAEAAADuwPSI1G233Wb7OSQkRMuXL3doQMjuSvlz1kgBAAAA7oA78xtAJmukAAAAALdCInUDyGCNFAAAAOBWSKRuAKyRAgAAANwLidQNgDVSAAAAgHv5R3fmKSkpjooDeWCNFAAAAOBeTCdSVqtVo0ePVoUKFVS8eHEdPXpUkjRs2DB99NFHDg8QUnoma6QAAAAAd2I6kXrjjTc0a9YsjR8/Xt7e3rb22rVr63//+59Dg8NlWSNSrJECAAAA3IPpROrjjz/W9OnT9fDDD8vT09PWXq9ePR04cMChweEy1kgBAAAA7sX0nfmJEycUFRWVrd1qtSo9Pd0hQcEea6QAAAAA92I6kapZs6Z+/PHHbO2ff/65GjRo4JCgYC9rjVQxpvYBAAAAbqGY2TcMHz5cvXr10okTJ2S1WrVo0SIdPHhQH3/8sb7++mtnxFjkZdqm9pFIAQAAAO7A9IhUt27dtHTpUq1atUoBAQEaPny49u/fr6VLl6pt27bOiLHIuzK1jzVSAAAAgDswPSIlSXfeeadWrlzp6FiQiwxGpAAAAAC3whDHDSDj7zVSlD8HAAAA3IPpESkPDw9ZLLnf0GdmZv6jgJAdI1IAAACAezGdSH355Zd2r9PT07Vjxw7Nnj1bI0eOdFhguII1UgAAAIB7MZ1IdevWLVvbfffdp1q1amn+/Pnq27evQwLDFYxIAQAAAO7FYUMct99+u1avXu2ow+EqrJECAAAA3ItDEqlLly5pypQpqlChgiMOh2swIgUAAAC4F9NT+0qVKmVXbMIwDJ0/f17+/v6aM2eOQ4PDZayRAgAAANyL6UTqnXfesUukPDw8VLZsWTVt2lSlSpVyaHC4nKhmjUgVY2ofAAAA4BZMJ1K9e/d2QhjITdZolCQVY2ofAAAA4BZMJ1K7d+/O975169Y1e3hcI+OqRIo1UgAAAIB7MJ1I1a9fP88H8kqXp6NZLBYezusA9iNSrJECAAAA3IHpO/NFixYpIiJCH3zwgXbs2KEdO3bogw8+UGRkpL744gsdPXpUsbGxOnr0qDPiLXIyMq9KpFgjBQAAALgF0yNSY8aM0ZQpUxQTE2Nrq1u3rsLDwzVs2DBt27bNoQEWdRlWq+1nz+uMBAIAAAAoHKZHpH755RdFRERka4+IiNC+ffscEhSuyJra52GRPFgjBQAAALgF04lUjRo1NHbsWKWlpdna0tLSNHbsWNWoUcOhweFKsQnWRwEAAADuw/TUvmnTpqlLly6qWLGirSrf7t27ZbFYtHTpUocHWNRlrZFifRQAAADgPkwnUk2aNNHRo0c1d+5cHThwQJL0wAMP6KGHHlJAQIDDAyzqstZIUfocAAAAcB+mEylJCggIUL9+/RwdC3KQaZvaRyIFAAAAuAsW3ri5rDVSnqyRAgAAANwGd+duLmuNlBdrpAAAAAC3QSLl5lgjBQAAALgfEik3xxopAAAAwP2YTqR+//13/fHHH7bXW7Zs0aBBgzR9+nSHBobL0m3lz8l5AQAAAHdh+u78oYce0tq1ayVJp06dUtu2bbVlyxa99tprGjVqlMMDLOoYkQIAAADcj+lEas+ePWrSpIkkacGCBapdu7Z++uknzZ07V7NmzXJ0fEUea6QAAAAA92M6kUpPT5ePj48kadWqVerataskqXr16oqLi3NsdGBECgAAAHBDphOpWrVqadq0afrxxx+1cuVKdejQQZJ08uRJlS5d2uEBFnWskQIAAADcj+m783HjxunDDz9Uq1at9OCDD6pevXqSpCVLltim/MFxMm0P5GVECgAAAHAXphOpVq1a6ezZszp79qxmzJhha+/Xr5+mTZvm0OCu9dZbb8lisWjQoEG2tpSUFPXv31+lS5dW8eLFde+99+r06dNOjaMwZa2RYmofAAAA4D4KNF/M09NTGRkZWr9+vdavX68///xTVapUUUhIiKPjs9m6das+/PBD1a1b16598ODBWrp0qRYuXKh169bp5MmTuueee5wWR2FjRAoAAABwP6YTqQsXLujxxx9XWFiY7rrrLt11110qX768+vbtq4sXLzojRiUnJ+vhhx/Wf//7X5UqVcrWnpiYqI8++kgTJ05U69at1ahRI82cOVM//fSTNm3a5JRYClvG32ukvFgjBQAAALgN03fnQ4YM0bp167R06VIlJCQoISFBX331ldatW6ehQ4c6I0b1799fnTp1UnR0tF37tm3blJ6ebtdevXp1VapUSRs3bnRKLIUtgxEpAAAAwO0UM/uGL774Qp9//rlatWpla4uJiZGfn5/uv/9+TZ061ZHx6bPPPtP27du1devWbNtOnTolb29vBQUF2bWXK1dOp06dyvWYqampSk1Ntb1OSkqSdLm0e3p6umMCL6Cs82f9N+3v/3rIcHlsN4Nr+xeORx87F/3rfPSxc9G/zkcfOxf963yu7uP8ntd0InXx4kWVK1cuW3tISIjDp/b9/vvvGjhwoFauXClfX1+HHXfs2LEaOXJktvbvvvtO/v7+DjvPP7Fy5UpJ0u44iyRP/Xn6lL799lvXBnUTyepfOA997Fz0r/PRx85F/zoffexc9K/zuaqP85vTWAzDMMwcuE2bNipdurQ+/vhjW3Jz6dIl9erVS/Hx8Vq1apX5aHOxePFi9ejRQ56enra2zMxMWSwWeXh4aMWKFYqOjtZff/1lNypVuXJlDRo0SIMHD87xuDmNSIWHh+vs2bMqWbKkw+IviPT0dK1cuVJt27aVl5eXPtpwTG8t/1Xd6oXpP/fVcWlsN4Nr+xeORx87F/3rfPSxc9G/zkcfOxf963yu7uOkpCSVKVNGiYmJeeYGpkekJk+erPbt26tixYq2Z0jt2rVLvr6+WrFiRcEjzkGbNm30yy+/2LX16dNH1atX18svv6zw8HB5eXlp9erVuvfeeyVJBw8e1PHjx9WsWbNcj+vj4yMfH59s7V5eXm7zFyIrFuPvZWxexTzdJrabgTt91zcr+ti56F/no4+di/51PvrYuehf53NVH+f3nKYTqdq1a+vQoUOaO3euDhw4IEl68MEH9fDDD8vPz8/s4fJUokQJ1a5d264tICBApUuXtrX37dtXQ4YMUXBwsEqWLKnnn39ezZo10+233+7QWFwlk+dIAQAAAG7HdCIlSf7+/nryyScdHUuBvPPOO/Lw8NC9996r1NRUtW/fXh988IGrw3KY9L/LnxfzJJECAAAA3EW+EqklS5bk+4Bdu3YtcDD58f3339u99vX11fvvv6/333/fqed1lawH8hbz4DlSAAAAgLvIVyLVvXt3u9cWi0XX1qiwWC6PmGRmZjomMkjiOVIAAACAO8rXMIfVarX9+e6771S/fn0tW7bM9kDeZcuWqWHDhlq+fLmz4y1yWCMFAAAAuB/Ta6QGDRqkadOmqUWLFra29u3by9/fX/369dP+/fsdGmBRxxopAAAAwP2YXnhz5MgRu2c2ZQkMDNSxY8ccEBKulmmb2scaKQAAAMBdmL47b9y4sYYMGaLTp0/b2k6fPq0XX3xRTZo0cWhwuLJGiql9AAAAgPswnUjNmDFDcXFxqlSpkqKiohQVFaVKlSrpxIkT+uijj5wRY5FmWyPF1D4AAADAbZheIxUVFaXdu3dr5cqVtgfy1qhRQ9HR0bbKfXCcjExGpAAAAAB3U6AH8losFrVr107t2rVzdDy4RgZrpAAAAAC3U6C783Xr1qlLly62qX1du3bVjz/+6OjYoKsfyMuIFAAAAOAuTCdSc+bMUXR0tPz9/TVgwAANGDBAvr6+atOmjebNm+eMGIu0DNZIAQAAAG7H9NS+N998U+PHj9fgwYNtbQMGDNDEiRM1evRoPfTQQw4NsKhjjRQAAADgfkyPSB09elRdunTJ1t61a1fFxsY6JChcwRopAAAAwP2YvjsPDw/X6tWrs7WvWrVK4eHhDgkKV7BGCgAAAHA/pqf2DR06VAMGDNDOnTt1xx13SJI2bNigWbNmafLkyQ4PsKhLz2SNFAAAAOBuTCdSzzzzjEJDQzVhwgQtWLBA0uXnSM2fP1/dunVzeIBFHSNSAAAAgPsp0HOkevTooR49ejg6FuSANVIAAACA+ylQIiVJaWlpOnPmjKx/l+fOUqlSpX8cFK6wjUgxtQ8AAABwG6YTqUOHDunxxx/XTz/9ZNduGIYsFosyMzMdFhyuWiPF1D4AAADAbZhOpHr37q1ixYrp66+/VlhYmCwWbvCdKdM2tY9+BgAAANyF6URq586d2rZtm6pXr+6MeHCNK8UmWCMFAAAAuAvTd+c1a9bU2bNnnRELcpDBGikAAADA7ZhOpMaNG6eXXnpJ33//vc6dO6ekpCS7P3CsDNZIAQAAAG7H9NS+6OhoSVKbNm3s2ik24RwZrJECAAAA3I7pRGrt2rXOiAO5YI0UAAAA4H5MJ1ItW7Z0RhzIBWukAAAAAPfDMIebY40UAAAA4H5IpNwca6QAAAAA90Mi5eay1kh5efJVAQAAAO6Cu3M3ZhgGI1IAAACAGypQIpWRkaFVq1bpww8/1Pnz5yVJJ0+eVHJyskODK+qyRqMk1kgBAAAA7sR01b7ffvtNHTp00PHjx5Wamqq2bduqRIkSGjdunFJTUzVt2jRnxFkkZVyVSDEiBQAAALgP0yNSAwcO1G233aa//vpLfn5+tvYePXpo9erVDg2uqLt6RIo1UgAAAID7MD0i9eOPP+qnn36St7e3XXuVKlV04sQJhwUGKSOTESkAAADAHZke5rBarcrMzMzW/scff6hEiRIOCQqXZVittp89LSRSAAAAgLswnUi1a9dOkyZNsr22WCxKTk7WiBEjFBMT48jYirysqX0eFsmDESkAAADAbZie2jdhwgS1b99eNWvWVEpKih566CEdOnRIZcqU0aeffuqMGIusrGITxVgfBQAAALgV04lUxYoVtWvXLn322WfavXu3kpOT1bdvXz388MN2xSfwz2WtkaL0OQAAAOBeTCdSklSsWDE98sgjjo4F18haI0WhCQAAAMC95CuRWrJkSb4P2LVr1wIHA3tZa6QofQ4AAAC4l3wlUt27d7d7bbFYZBhGtjZJOVb0Q8FkrZFiRAoAAABwL/ka6rBarbY/3333nerXr69ly5YpISFBCQkJWrZsmRo2bKjly5c7O94ihTVSAAAAgHsyvUZq0KBBmjZtmlq0aGFra9++vfz9/dWvXz/t37/foQEWZayRAgAAANyT6cU3R44cUVBQULb2wMBAHTt2zAEhIQtrpAAAAAD3ZPoOvXHjxhoyZIhOnz5tazt9+rRefPFFNWnSxKHBFXXpmayRAgAAANyR6URqxowZiouLU6VKlRQVFaWoqChVqlRJJ06c0EcffeSMGIusrBEp1kgBAAAA7sX0GqmoqCjt3r1bK1eu1IEDByRJNWrUUHR0tK1yHxyDNVIAAACAeyrQA3ktFovatWundu3aOToeXMU2IsUaKQAAAMCtcIfuxtIpfw4AAAC4JRIpN5bJA3kBAAAAt0Qi5cay1kh5eZJIAQAAAO6ERMqNXRmR4msCAAAA3EmB7tCPHDmif//733rwwQd15swZSdKyZcu0d+9ehwZX1GWwRgoAAABwS6YTqXXr1qlOnTravHmzFi1apOTkZEnSrl27NGLECIcHWJRlsEYKAAAAcEumE6n/+7//0xtvvKGVK1fK29vb1t66dWtt2rTJocEVdZmskQIAAADckulE6pdfflGPHj2ytYeEhOjs2bMOCQqXZbBGCgAAAHBLpu/Qg4KCFBcXl619x44dqlChgkOCwmWskQIAAADck+lEqmfPnnr55Zd16tQpWSwWWa1WbdiwQS+88IIee+wxZ8RYZLFGCgAAAHBPphOpMWPGqHr16goPD1dycrJq1qypu+66S3fccYf+/e9/OyPGIos1UgAAAIB7Kmb2Dd7e3vrvf/+rYcOGac+ePUpOTlaDBg1UrVo1Z8RXpKVnMiIFAAAAuCPTiVSWSpUqqVKlSo6MBdfIeiBvMYpNAAAAAG4lX4nUkCFDNHr0aAUEBGjIkCF57lu8eHHVqlVL9913nzw9PR0SZFHFGikAAADAPeUrkdqxY4fS09NtP+clNTVVkydP1rfffqvZs2f/8wiLqEyrod/jL0iSzpxPUabVIKECAAAA3ES+Eqm1a9fm+HNufv75Z7Vp06bgURVxu85ZNHbCDzqVlCpJWrorTj8f+0sjutRUh9phLo4OAAAAgFMW39StW1cff/yxMw5901ux97Rm/OphS6KynEpM0TNztmv5nuzP8AIAAABQuApUbOKPP/7QkiVLdPz4caWlpdltmzhxory9vdWtWzeHBFiUZFoNvfHtgRy3GZIskkYu3ae2NUOZ5gcAAAC4kOlEavXq1eratauqVq2qAwcOqHbt2jp27JgMw1DDhg2dEWORsSU2/u+RqJyTJENSXGKKtsTGq1lk6UKNDQAAAMAVpqf2vfLKK3rhhRf0yy+/yNfXV1988YV+//13tWzZUv/617+cEWORceZ8ikP3AwAAAOAcphOp/fv367HHHpMkFStWTJcuXVLx4sU1atQojRs3zuEBFiUhJXwduh8AAAAA5zCdSAUEBNjWRYWFhenIkSO2bWfPnnVcZEVQk4hghZb00eVJfNlZJIUF+qpJRHChxgUAAADAnulE6vbbb9f69eslSTExMRo6dKjefPNNPf7447r99tsdHmBR4ulh0b9jqkvKvkoq6/WILjUpNAEAAAC4mOliExMnTlRycrIkaeTIkUpOTtb8+fNVrVo1TZw40eEBFjXta5XT47dY9e0pf7sS6KGBvjxHCgAAAHATphOpqlWr2n4OCAjQtGnTHBoQpHqlDb308F1qMnatklIyNO7eOrqvUTgjUQAAAICbMD21r2rVqjp37ly29oSEBLskC/+Mp4dFqRlWSdIdkWVIogAAAAA3YjqROnbsmDIzM7O1p6am6sSJEw4JClJGptWWSBX3KdBzkwEAAAA4Sb7v0JcsWWL7ecWKFQoMDLS9zszM1OrVq1WlShWHBleUXUi7kqwGkEgBAAAAbiXfd+jdu3eXJFksFvXq1ctum5eXl6pUqaIJEyY4NLiiLDk1Q5LkXcxD3sVMDxwCAAAAcKJ8J1JW6+VpZhEREdq6davKlCnjtKAgXfg7kSrBaBQAAADgdkzfpcfGxjojDlwjOfXy1D6m9QEAAADup0B36atXr9bq1at15swZ20hVlhkzZjgksKIua0SKRAoAAABwP6bv0keOHKlRo0bptttuU1hYmCwWynI7QzJT+wAAAAC3Zfoufdq0aZo1a5YeffRRZ8SDv12Z2ufp4kgAAAAAXMt0Obi0tDTdcccdzogFV7mQxtQ+AAAAwF2ZTqSeeOIJzZs3zxmx4CrJKX9P7fMlkQIAAADcjem79JSUFE2fPl2rVq1S3bp15eXlZbd94sSJDgtu7NixWrRokQ4cOCA/Pz/dcccdGjdunG699Va7eIYOHarPPvtMqampat++vT744AOVK1fOYXG4QtYDeQO8SaQAAAAAd2P6Ln337t2qX7++JGnPnj122xxdeGLdunXq37+/GjdurIyMDL366qtq166d9u3bp4CAAEnS4MGD9c0332jhwoUKDAzUc889p3vuuUcbNmxwaCyFLatqX3FGpAAAAAC3Y/oufe3atc6II0fLly+3ez1r1iyFhIRo27Ztuuuuu5SYmKiPPvpI8+bNU+vWrSVJM2fOVI0aNbRp0ybdfvvthRaro2VV7SvOGikAAADA7RT4Lv3w4cM6cuSI7rrrLvn5+ckwDKeXQk9MTJQkBQcHS5K2bdum9PR0RUdH2/apXr26KlWqpI0bN+aaSKWmpio1NdX2OikpSZKUnp6u9PR0Z4WfL1nnT065/F/fYhaXx3QzyepL+tR56GPnon+djz52LvrX+ehj56J/nc/VfZzf81oMwzDMHPjcuXO6//77tXbtWlksFh06dEhVq1bV448/rlKlSmnChAkFCvh6rFarunbtqoSEBK1fv16SNG/ePPXp08cuKZKkJk2a6O6779a4ceNyPNbrr7+ukSNHZmufN2+e/P39HR98Aby711OHkyzqVS1TDcuY+ooAAAAAFNDFixf10EMPKTExUSVLlsx1P9MjUoMHD5aXl5eOHz+uGjVq2NofeOABDRkyxGmJVP/+/bVnzx5bEvVPvPLKKxoyZIjtdVJSksLDw9WuXbs8O6swpKena+XKlfIOKCElJavF7bep1S1lXRrTzSSrf9u2bZutUAocgz52LvrX+ehj56J/nY8+di761/lc3cdZs9Wux3Qi9d1332nFihWqWLGiXXu1atX022+/mT1cvjz33HP6+uuv9cMPP9idNzQ0VGlpaUpISFBQUJCt/fTp0woNDc31eD4+PvLx8cnW7uXl5TZ/IS6mWSVJQQG+bhPTzcSdvuubFX3sXPSv89HHzkX/Oh997Fz0r/O5qo/ze07Tz5G6cOFCjtPf4uPjc0xO/gnDMPTcc8/pyy+/1Jo1axQREWG3vVGjRvLy8tLq1attbQcPHtTx48fVrFkzh8ZS2LKKTVD+HAAAAHA/phOpO++8Ux9//LHttcVikdVq1fjx43X33Xc7NLj+/ftrzpw5mjdvnkqUKKFTp07p1KlTunTpkiQpMDBQffv21ZAhQ7R27Vpt27ZNffr0UbNmzW7oin3SVeXPqdoHAAAAuB3Td+njx49XmzZt9PPPPystLU0vvfSS9u7dq/j4eIc/u2nq1KmSpFatWtm1z5w5U71795YkvfPOO/Lw8NC9995r90DeG5nVkC6lX57ax3OkAAAAAPdj+i69du3a+vXXX/Xee++pRIkSSk5O1j333KP+/fsrLCzMocHlp6Cgr6+v3n//fb3//vsOPbcrpWRe+TnAx9N1gQAAAADIUYGGOwIDA/Xaa685Ohb8LfXvRMrb00M+xUikAAAAAHdjeo3UzJkztXDhwmztCxcu1OzZsx0SVFGXNSLFaBQAAADgnkwnUmPHjlWZMmWytYeEhGjMmDEOCaqoS7UlUqyPAgAAANyR6UTq+PHj2cqQS1LlypV1/PhxhwRV1KVkWiRRsQ8AAABwV6YTqZCQEO3evTtb+65du1S6dGmHBFXUZU3tI5ECAAAA3JPpROrBBx/UgAEDtHbtWmVmZiozM1Nr1qzRwIED1bNnT2fEWOQwtQ8AAABwb6bv1EePHq1jx46pTZs2Klbs8tutVqsee+wx1kg5iG1EimdIAQAAAG7J1J26YRg6deqUZs2apTfeeEM7d+6Un5+f6tSpo8qVKzsrxiIna0SquDeJFAAAAOCOTCdSUVFR2rt3r6pVq6Zq1ao5K64izVZsghEpAAAAwC2ZWiPl4eGhatWq6dy5c86KB7r6OVIkUgAAAIA7Ml1s4q233tKLL76oPXv2OCMe6KqpfTyQFwAAAHBLpoc8HnvsMV28eFH16tWTt7e3/Pz87LbHx8c7LLii6kr5cy/XBgIAAAAgR6YTqUmTJjkhDFztSvlzRqQAAAAAd2Q6kerVq5cz4sBVsopNlKDYBAAAAOCWCnSnnpmZqcWLF2v//v2SpFq1aqlr167y9GQExRFsI1KUPwcAAADckuk79cOHDysmJkYnTpzQrbfeKkkaO3aswsPD9c033ygyMtLhQRY1VO0DAAAA3Jvpqn0DBgxQZGSkfv/9d23fvl3bt2/X8ePHFRERoQEDBjgjxiInK5Fiah8AAADgnkzfqa9bt06bNm1ScHCwra106dJ666231Lx5c4cGVxRZrYbSrJfXSDEiBQAAALgn0yNSPj4+On/+fLb25ORkeXt7OySoouxCWqbt5+IkUgAAAIBbMp1Ide7cWf369dPmzZtlGIYMw9CmTZv09NNPq2vXrs6IsUhJTs2QJBXzsMinmOmvBwAAAEAhMH2nPmXKFEVGRqpZs2by9fWVr6+vmjdvrqioKE2ePNkZMRYpF/5OpAJ8PGWxWFwcDQAAAICcmJ47FhQUpK+++kqHDx+2lT+vUaOGoqKiHB5cUZQ1IsW0PgAAAMB95ftu3Wq16u2339aSJUuUlpamNm3aaMSIEfLz83NmfEVO1hopniEFAAAAuK98T+1788039eqrr6p48eKqUKGCJk+erP79+zsztiLp6ql9AAAAANxTvhOpjz/+WB988IFWrFihxYsXa+nSpZo7d66sVqsz4ytymNoHAAAAuL98J1LHjx9XTEyM7XV0dLQsFotOnjzplMCKqgupf0/tI5ECAAAA3Fa+E6mMjAz5+vratXl5eSk9Pd3hQRVljEgBAAAA7i/fd+uGYah3797y8fGxtaWkpOjpp59WQECArW3RokWOjbCIuTIixRopAAAAwF3lO5Hq1atXtrZHHnnEocFAupD2d7EJqvYBAAAAbivfd+szZ850Zhz4W3LK31P7fBmRAgAAANxVvtdIoXDwHCkAAADA/ZFIuZkrz5EikQIAAADcFYmUm7lStY+pfQAAAIC7IpFyM8l/V+2j/DkAAADgvkik3MwFniMFAAAAuD0SKTeSaTWUmHL5AceHzyQr02q4OCIAAAAAOSGRchPL98Sp+VtrlJJulSS98MUetRi3Rsv3xLk4MgAAAADXIpFyA8v3xOmZOdt1KinFrv1UYoqembOdZAoAAABwMyRSLpZpNTRy6T7lNIkvq23k0n1M8wMAAADcCImUi22JjVdcYkqu2w1JcYkp2hIbX3hBAQAAAMgTiZSLnTmfexJVkP0AAAAAOB+JlIuFlPB16H4AAAAAnI9EysWaRAQrLNBXlly2WySFBfqqSURwYYYFAAAAIA8kUi7m6WHRiC41JSlbMpX1ekSXmvL0yC3VAgAAAFDYSKTcQIfaYZr6SEOFBtpP3wsN9NXURxqqQ+0wF0UGAAAAICfFXB0ALutQO0xta4Zq4+Ez+u7HzWp3Z1M1iwphJAoAAABwQyRSbsTTw6KmEcE6t99Q04hgkigAAADATTG1DwAAAABMIpECAAAAAJNIpAAAAADAJBIpAAAAADCJRAoAAAAATCKRAgAAAACTSKQAAAAAwCQSKQAAAAAwiUQKAAAAAEwikQIAAAAAk0ikAAAAAMAkEikAAAAAMIlECgAAAABMKubqANyBYRiSpKSkJBdHIqWnp+vixYtKSkqSl5eXq8O56dC/zkcfOxf963z0sXPRv85HHzsX/et8ru7jrJwgK0fIDYmUpPPnz0uSwsPDXRwJAAAAAHdw/vx5BQYG5rrdYlwv1SoCrFarTp48qRIlSshisbg0lqSkJIWHh+v3339XyZIlXRrLzYj+dT762LnoX+ejj52L/nU++ti56F/nc3UfG4ah8+fPq3z58vLwyH0lFCNSkjw8PFSxYkVXh2GnZMmS/OV0IvrX+ehj56J/nY8+di761/noY+eif53PlX2c10hUFopNAAAAAIBJJFIAAAAAYBKJlJvx8fHRiBEj5OPj4+pQbkr0r/PRx85F/zoffexc9K/z0cfORf86343SxxSbAAAAAACTGJECAAAAAJNIpAAAAADAJBIpAAAAADCJRAoAAAAATCKRciPvv/++qlSpIl9fXzVt2lRbtmxxdUg3rLFjx6px48YqUaKEQkJC1L17dx08eNBun1atWslisdj9efrpp10U8Y3l9ddfz9Z31atXt21PSUlR//79Vbp0aRUvXlz33nuvTp8+7cKIbzxVqlTJ1scWi0X9+/eXxPVr1g8//KAuXbqofPnyslgsWrx4sd12wzA0fPhwhYWFyc/PT9HR0Tp06JDdPvHx8Xr44YdVsmRJBQUFqW/fvkpOTi7ET+He8urj9PR0vfzyy6pTp44CAgJUvnx5PfbYYzp58qTdMXK67t96661C/iTu6XrXcO/evbP1XYcOHez24RrO2/X6OKffyRaLRW+//bZtH67h3OXn3iw/9w/Hjx9Xp06d5O/vr5CQEL344ovKyMgozI9iQyLlJubPn68hQ4ZoxIgR2r59u+rVq6f27dvrzJkzrg7thrRu3Tr1799fmzZt0sqVK5Wenq527drpwoULdvs9+eSTiouLs/0ZP368iyK+8dSqVcuu79avX2/bNnjwYC1dulQLFy7UunXrdPLkSd1zzz0ujPbGs3XrVrv+XblypSTpX//6l20frt/8u3DhgurVq6f3338/x+3jx4/XlClTNG3aNG3evFkBAQFq3769UlJSbPs8/PDD2rt3r1auXKmvv/5aP/zwg/r161dYH8Ht5dXHFy9e1Pbt2zVs2DBt375dixYt0sGDB9W1a9ds+44aNcruun7++ecLI3y3d71rWJI6dOhg13effvqp3Xau4bxdr4+v7tu4uDjNmDFDFotF9957r91+XMM5y8+92fXuHzIzM9WpUyelpaXpp59+0uzZszVr1iwNHz7cFR9JMuAWmjRpYvTv39/2OjMz0yhfvrwxduxYF0Z18zhz5owhyVi3bp2trWXLlsbAgQNdF9QNbMSIEUa9evVy3JaQkGB4eXkZCxcutLXt37/fkGRs3LixkCK8+QwcONCIjIw0rFarYRhcv/+EJOPLL7+0vbZarUZoaKjx9ttv29oSEhIMHx8f49NPPzUMwzD27dtnSDK2bt1q22fZsmWGxWIxTpw4UWix3yiu7eOcbNmyxZBk/Pbbb7a2ypUrG++8845zg7sJ5NS/vXr1Mrp165bre7iGzcnPNdytWzejdevWdm1cw/l37b1Zfu4fvv32W8PDw8M4deqUbZ+pU6caJUuWNFJTUwv3AxiGwYiUG0hLS9O2bdsUHR1ta/Pw8FB0dLQ2btzowshuHomJiZKk4OBgu/a5c+eqTJkyql27tl555RVdvHjRFeHdkA4dOqTy5curatWqevjhh3X8+HFJ0rZt25Senm53PVevXl2VKlXiei6gtLQ0zZkzR48//rgsFoutnevXMWJjY3Xq1Cm7azYwMFBNmza1XbMbN25UUFCQbrvtNts+0dHR8vDw0ObNmws95ptBYmKiLBaLgoKC7NrfeustlS5dWg0aNNDbb7/tsik7N6Lvv/9eISEhuvXWW/XMM8/o3Llztm1cw451+vRpffPNN+rbt2+2bVzD+XPtvVl+7h82btyoOnXqqFy5crZ92rdvr6SkJO3du7cQo7+sWKGfEdmcPXtWmZmZdheFJJUrV04HDhxwUVQ3D6vVqkGDBql58+aqXbu2rf2hhx5S5cqVVb58ee3evVsvv/yyDh48qEWLFrkw2htD06ZNNWvWLN16662Ki4vTyJEjdeedd2rPnj06deqUvL29s90clStXTqdOnXJNwDe4xYsXKyEhQb1797a1cf06TtZ1mdPv4Kxtp06dUkhIiN32YsWKKTg4mOu6AFJSUvTyyy/rwQcfVMmSJW3tAwYMUMOGDRUcHKyffvpJr7zyiuLi4jRx4kQXRntj6NChg+655x5FREToyJEjevXVV9WxY0dt3LhRnp6eXMMONnv2bJUoUSLbtHWu4fzJ6d4sP/cPp06dyvF3dda2wkYihZte//79tWfPHrs1PJLs5oXXqVNHYWFhatOmjY4cOaLIyMjCDvOG0rFjR9vPdevWVdOmTVW5cmUtWLBAfn5+Lozs5vTRRx+pY8eOKl++vK2N6xc3qvT0dN1///0yDENTp0612zZkyBDbz3Xr1pW3t7eeeuopjR07Vj4+PoUd6g2lZ8+etp/r1KmjunXrKjIyUt9//73atGnjwshuTjNmzNDDDz8sX19fu3au4fzJ7d7sRsPUPjdQpkwZeXp6ZqtKcvr0aYWGhrooqpvDc889p6+//lpr165VxYoV89y3adOmkqTDhw8XRmg3laCgIN1yyy06fPiwQkNDlZaWpoSEBLt9uJ4L5rffftOqVav0xBNP5Lkf12/BZV2Xef0ODg0NzVb8JyMjQ/Hx8VzXJmQlUb/99ptWrlxpNxqVk6ZNmyojI0PHjh0rnABvIlWrVlWZMmVsvxO4hh3nxx9/1MGDB6/7e1niGs5Jbvdm+bl/CA0NzfF3dda2wkYi5Qa8vb3VqFEjrV692tZmtVq1evVqNWvWzIWR3bgMw9Bzzz2nL7/8UmvWrFFERMR137Nz505JUlhYmJOju/kkJyfryJEjCgsLU6NGjeTl5WV3PR88eFDHjx/nei6AmTNnKiQkRJ06dcpzP67fgouIiFBoaKjdNZuUlKTNmzfbrtlmzZopISFB27Zts+2zZs0aWa1WWxKLvGUlUYcOHdKqVatUunTp675n586d8vDwyDYlDdf3xx9/6Ny5c7bfCVzDjvPRRx+pUaNGqlev3nX35Rq+4nr3Zvm5f2jWrJl++eUXu38UyPpHmZo1axbOB7laoZe3QI4+++wzw8fHx5g1a5axb98+o1+/fkZQUJBdVRLk3zPPPGMEBgYa33//vREXF2f7c/HiRcMwDOPw4cPGqFGjjJ9//tmIjY01vvrqK6Nq1arGXXfd5eLIbwxDhw41vv/+eyM2NtbYsGGDER0dbZQpU8Y4c+aMYRiG8fTTTxuVKlUy1qxZY/z8889Gs2bNjGbNmrk46htPZmamUalSJePll1+2a+f6Ne/8+fPGjh07jB07dhiSjIkTJxo7duywVYx76623jKCgIOOrr74ydu/ebXTr1s2IiIgwLl26ZDtGhw4djAYNGhibN2821q9fb1SrVs148MEHXfWR3E5efZyWlmZ07drVqFixorFz506738tZlbZ++ukn45133jF27txpHDlyxJgzZ45RtmxZ47HHHnPxJ3MPefXv+fPnjRdeeMHYuHGjERsba6xatcpo2LChUa1aNSMlJcV2DK7hvF3v94RhGEZiYqLh7+9vTJ06Ndv7uYbzdr17M8O4/v1DRkaGUbt2baNdu3bGzp07jeXLlxtly5Y1XnnlFVd8JINEyo28++67RqVKlQxvb2+jSZMmxqZNm1wd0g1LUo5/Zs6caRiGYRw/fty46667jODgYMPHx8eIiooyXnzxRSMxMdG1gd8gHnjgASMsLMzw9vY2KlSoYDzwwAPG4cOHbdsvXbpkPPvss0apUqUMf39/o0ePHkZcXJwLI74xrVixwpBkHDx40K6d69e8tWvX5vg7oVevXoZhXC6BPmzYMKNcuXKGj4+P0aZNm2z9fu7cOePBBx80ihcvbpQsWdLo06ePcf78eRd8GveUVx/Hxsbm+nt57dq1hmEYxrZt24ymTZsagYGBhq+vr1GjRg1jzJgxdolAUZZX/168eNFo166dUbZsWcPLy8uoXLmy8eSTT2b7x1iu4bxd7/eEYRjGhx9+aPj5+RkJCQnZ3s81nLfr3ZsZRv7uH44dO2Z07NjR8PPzM8qUKWMMHTrUSE9PL+RPc5nFMAzDSYNdAAAAAHBTYo0UAAAAAJhEIgUAAAAAJpFIAQAAAIBJJFIAAAAAYBKJFAAAAACYRCIFAAAAACaRSAEAAACASSRSAABco1WrVho0aJCrwwAAuDEeyAsAcInevXsrISFBixcvVqtWrVS/fn1NmjTJ1WFJkuLj4+Xl5aUSJUq4OhQAgJsq5uoAAABwlLS0NHl7e//j4wQHBzsgGgDAzYypfQAAl+rdu7fWrVunyZMny2KxyGKx6NixY5KkPXv2qGPHjipevLjKlSunRx99VGfPnrW9t1WrVnruuec0aNAglSlTRu3bt5ckTZw4UXXq1FFAQIDCw8P17LPPKjk52e68GzZsUKtWreTv769SpUqpffv2+uuvv2zHvXpq319//aXHHntMpUqVkr+/vzp27KhDhw7Zts+aNUtBQUFasWKFatSooeLFi6tDhw6Ki4uzO+f//vc/1ahRQ76+vqpevbo++OAD27a0tDQ999xzCgsLk6+vrypXrqyxY8c6pI8BAI5HIgUAcKnJkyerWbNmevLJJxUXF6e4uDiFh4crISFBrVu3VoMGDfTzzz9r+fLlOn36tO6//36798+ePVve3t7asGGDpk2bJkny8PDQlClTtHfvXs2ePVtr1qzRSy+9ZHvPzp071aZNG9WsWVMbN27U+vXr1aVLF2VmZuYYY+/evfXzzz9ryZIl2rhxowzDUExMjNLT0237XLx4Uf/5z3/0ySef6IcfftDx48f1wgsv2LbPnTtXw4cP15tvvqn9+/drzJgxGjZsmGbPni1JmjJlipYsWaIFCxbo4MGDmjt3rqpUqeKobgYAOBhT+wAALhUYGChvb2/5+/srNDTU1v7ee++pQYMGGjNmjK1txowZCg8P16+//qpbbrlFklStWjWNHz/e7phXjyZVqVJFb7zxhp5++mnbCND48eN122232Y0I1apVK8f4Dh06pCVLlmjDhg264447JF1OisLDw7V48WL961//kiSlp6dr2rRpioyMlCQ999xzGjVqlO04I0aM0IQJE3TPPfdIkiIiIrRv3z59+OGH6tWrl44fP65q1aqpRYsWslgsqly5srmOBAAUKhIpAIBb2rVrl9auXavixYtn23bkyBFbItWoUaNs21etWqWxY8fqwIEDSkpKUkZGhlJSUnTx4kX5+/tr586dtgToevbv369ixYqpadOmtrbSpUvr1ltv1f79+21t/v7+tiRKksLCwnTmzBlJ0oULF3TkyBH17dtXTz75pG2fjIwMBQYGSro86tW2bVvdeuut6tChgzp37qx27drlK0YAQOEjkQIAuKXk5GR16dJF48aNy7YtLCzM9nNAQIDdtmPHjqlz58565pln9Oabbyo4OFjr169X3759lZaWJn9/f/n5+Tk8Xi8vL7vXFotFWYVxs9Zn/fe//7VLyCTJ09NTktSwYUPFxsZq2bJlWrVqle6//35FR0fr888/d3isAIB/jkQKAOBy3t7e2dYnNWzYUF988YWqVKmiYsXy/7+rbdu2yWq1asKECfLwuLwUeMGCBXb71K1bV6tXr9bIkSOve7waNWooIyNDmzdvtk3tO3funA4ePKiaNWvmK6Zy5cqpfPnyOnr0qB5++OFc9ytZsqQeeOABPfDAA7rvvvvUoUMHxcfHU0UQANwQxSYAAC5XpUoVbd68WceOHdPZs2dltVrVv39/xcfH68EHH9TWrVt15MgRrVixQn369Mm1KIQkRUVFKT09Xe+++66OHj2qTz75xFaEIssrr7yirVu36tlnn9Xu3bt14MABTZ061a4iYJZq1aqpW7duevLJJ7V+/Xrt2rVLjzzyiCpUqKBu3brl+zOOHDlSY8eO1ZQpU/Trr7/ql19+0cyZMzVx4kRJlysNfvrppzpw4IB+/fVXLVy4UKGhoQoKCsr3OQAAhYdECgDgci+88II8PT1Vs2ZNlS1bVsePH1f58uW1YcMGZWZmql27dqpTp44GDRqkoKAg20hTTurVq6eJEydq3Lhxql27tubOnZutjPgtt9yi7777Trt27VKTJk3UrFkzffXVV7mOfM2cOVONGjVS586d1axZMxmGoW+//TbbdL68PPHEE/rf//6nmTNnqk6dOmrZsqVmzZqliIgISVKJEiVsRTAaN26sY8eO6dtvv83zswIAXMdiZE3gBgAAAADkC//MBQAAAAAmkUgBAAAAgEkkUgAAAABgEokUAAAAAJhEIgUAAAAAJpFIAQAAAIBJJFIAAAAAYBKJFAAAAACYRCIFAAAAACaRSAEAAACASSRSAAAAAGASiRQAAAAAmPT/uPnRZkLLahgAAAAASUVORK5CYII=",
      "text/plain": [
       "<Figure size 1000x600 with 1 Axes>"
      ]
     },
     "metadata": {},
     "output_type": "display_data"
    }
   ],
   "source": [
    "import matplotlib.pyplot as plt\n",
    "\n",
    "# Extraer el número de nodos que adquirieron un comportamiento en cada iteración\n",
    "adopted_nodes = [iteration['node_count'][1] for iteration in iterations]\n",
    "\n",
    "# Calcular el porcentaje de nodos que adquirieron un comportamiento\n",
    "total_nodes = len(g.nodes())\n",
    "adopted_percentage = [count / total_nodes * 100 for count in adopted_nodes]\n",
    "\n",
    "# Crear la gráfica\n",
    "plt.figure(figsize=(10, 6))\n",
    "plt.plot(range(len(adopted_percentage)), adopted_percentage, marker='o')\n",
    "plt.xlabel('Iteraciones')\n",
    "plt.ylabel('Porcentaje de nodos que adquirieron un comportamiento')\n",
    "plt.title('Evolución del comportamiento en la red')\n",
    "plt.grid(True)\n",
    "plt.show()"
   ]
  },
  {
   "cell_type": "markdown",
   "metadata": {},
   "source": [
    "Se añade la visualización de la red"
   ]
  },
  {
   "cell_type": "code",
   "execution_count": null,
   "metadata": {},
   "outputs": [],
   "source": []
  },
  {
   "cell_type": "code",
   "execution_count": 13,
=======
   "execution_count": null,
>>>>>>> 60338aa2dc21db205ccd6ede38e4ac99f2b60e52
   "metadata": {},
   "outputs": [
    {
     "name": "stdout",
     "output_type": "stream",
     "text": [
      "Warning: When  cdn_resources is 'local' jupyter notebook has issues displaying graphics on chrome/safari. Use cdn_resources='in_line' or cdn_resources='remote' if you have issues viewing graphics in a notebook.\n",
<<<<<<< HEAD
      "dinamica_umbral_perfiles.html\n"
=======
      "red_dinámica_umbral_perfiles.html\n"
>>>>>>> 60338aa2dc21db205ccd6ede38e4ac99f2b60e52
     ]
    },
    {
     "data": {
      "text/html": [
       "\n",
       "        <iframe\n",
       "            width=\"100%\"\n",
       "            height=\"100vh\"\n",
<<<<<<< HEAD
       "            src=\"dinamica_umbral_perfiles.html\"\n",
=======
       "            src=\"red_dinámica_umbral_perfiles.html\"\n",
>>>>>>> 60338aa2dc21db205ccd6ede38e4ac99f2b60e52
       "            frameborder=\"0\"\n",
       "            allowfullscreen\n",
       "            \n",
       "        ></iframe>\n",
       "        "
      ],
      "text/plain": [
<<<<<<< HEAD
       "<IPython.lib.display.IFrame at 0x2a23d0d24d0>"
      ]
     },
     "execution_count": 13,
=======
       "<IPython.lib.display.IFrame at 0x1b488989310>"
      ]
     },
     "execution_count": 8,
>>>>>>> 60338aa2dc21db205ccd6ede38e4ac99f2b60e52
     "metadata": {},
     "output_type": "execute_result"
    },
    {
     "ename": "",
     "evalue": "",
     "output_type": "error",
     "traceback": [
      "\u001b[1;31mEl kernel se bloqueó al ejecutar código en la celda actual o en una celda anterior. \n",
      "\u001b[1;31mRevise el código de las celdas para identificar una posible causa del error. \n",
      "\u001b[1;31mHaga clic <a href='https://aka.ms/vscodeJupyterKernelCrash'>aquí</a> para obtener más información. \n",
      "\u001b[1;31mVea Jupyter <a href='command:jupyter.viewOutput'>log</a> para obtener más detalles."
     ]
    }
   ],
   "source": [
    "from pyvis.network import Network\n",
    "\n",
<<<<<<< HEAD
    "# Crear el grafo\n",
    "g = nx.barabasi_albert_graph(50, 2)\n",
    "\n",
=======
>>>>>>> 60338aa2dc21db205ccd6ede38e4ac99f2b60e52
    "# Crear la red con opciones adicionales\n",
    "net = Network(\n",
    "    height='100vh', \n",
    "    width='100%', \n",
    "    bgcolor='#ffffff',\n",
    "    font_color='#000000',\n",
    "    notebook=True\n",
    ")\n",
    "\n",
    "# Configurar opciones\n",
    "net.set_options(\"\"\"\n",
    "{\n",
    "  \"physics\": {\n",
    "    \"enabled\": true,\n",
    "    \"barnesHut\": {\n",
    "      \"gravitationalConstant\": -5000,\n",
    "      \"centralGravity\": 0.1,\n",
    "      \"springLength\": 95,\n",
    "      \"springConstant\": 0.04,\n",
    "      \"damping\": 0.09\n",
    "    },\n",
    "    \"minVelocity\": 0.75,\n",
    "    \"maxVelocity\": 5\n",
    "  },\n",
    "  \"configure\": {\n",
    "    \"enabled\": true,\n",
    "    \"filter\": \"all\"\n",
    "  }\n",
    "}\n",
    "\"\"\")\n",
    "\n",
<<<<<<< HEAD
    "# Convertir de NetworkX a PyVis\n",
    "net.from_nx(g)\n",
=======
    "# Agregar nodos y aristas\n",
    "for node in g.nodes():\n",
    "    if model.status[node] == 1:  # Si el nodo adquirió el comportamiento\n",
    "        net.add_node(node, color='red')\n",
    "    else:  # Si el nodo no adquirió el comportamiento\n",
    "        net.add_node(node, color='blue')\n",
>>>>>>> 60338aa2dc21db205ccd6ede38e4ac99f2b60e52
    "\n",
    "# Calcular el grado de cada nodo\n",
    "degree_dict = dict(g.degree())\n",
    "\n",
<<<<<<< HEAD
    "# Normalizar los tamaños de los nodos\n",
    "max_degree = max(degree_dict.values())\n",
    "min_size = 10\n",
    "max_size = 60\n",
    "\n",
    "for node in net.nodes:\n",
    "    node_id = node['id']\n",
    "    degree = degree_dict[node_id]\n",
    "    \n",
    "    # Calcular el tamaño proporcional\n",
    "    size = min_size + (degree / max_degree) * (max_size - min_size)\n",
    "    \n",
    "    node['size'] = size\n",
    "    node['color'] = '#9FA3D5'\n",
    "    node['title'] = f\"Grado: {degree}\"  # Información al pasar el cursor\n",
    "\n",
    "# Cambiar el color de los enlaces y su anchura\n",
    "for edge in net.edges:\n",
    "    edge['color'] = '#3B4285'\n",
    "    edge['width'] = 2\n",
    "\n",
    "\n",
    "# Mostrar la red\n",
    "net.show('dinamica_umbral_perfiles.html')"
=======
    "# Mostrar la red (sin show_buttons)\n",
    "net.show('red_dinámica_umbral_perfiles.html')"
   ]
  },
  {
   "cell_type": "markdown",
   "metadata": {},
   "source": [
    "Se añade la visualización de la dinámica"
   ]
  },
  {
   "cell_type": "code",
   "execution_count": 7,
   "metadata": {},
   "outputs": [
    {
     "data": {
      "image/png": "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",
      "text/plain": [
       "<Figure size 400x400 with 1 Axes>"
      ]
     },
     "metadata": {},
     "output_type": "display_data"
    }
   ],
   "source": [
    "import matplotlib.pyplot as plt\n",
    "import scienceplots\n",
    "\n",
    "# Extraer el número de nodos que adquirieron un comportamiento en cada iteración\n",
    "adopted_nodes = [iteration['node_count'][1] for iteration in iterations]\n",
    "\n",
    "# Calcular el porcentaje de nodos que adquirieron un comportamiento\n",
    "total_nodes = len(g.nodes())\n",
    "adopted_percentage = [count / total_nodes * 100 for count in adopted_nodes]\n",
    "\n",
    "# Importar el estilo de scienceplots\n",
    "plt.style.use('science')\n",
    "\n",
    "# Crear la gráfica\n",
    "plt.figure(figsize=(4, 4))\n",
    "plt.plot(range(len(adopted_percentage)), adopted_percentage, marker='o', color='#3B4285')\n",
    "plt.xlabel('Iteraciones')\n",
    "plt.ylabel('Porcentaje de nodos que adquirieron el comportamiento')\n",
    "plt.title('Evolución del comportamiento en la red')\n",
    "plt.grid(True)\n",
    "\n",
    "# Guardar el gráfico con mayor resolución\n",
    "plt.savefig('nodos_que_adquirieron_comportamiento.png', dpi=300)  \n",
    "\n",
    "plt.show()"
>>>>>>> 60338aa2dc21db205ccd6ede38e4ac99f2b60e52
   ]
  },
  {
   "cell_type": "code",
   "execution_count": null,
   "metadata": {},
   "outputs": [],
   "source": []
  }
 ],
 "metadata": {
  "kernelspec": {
   "display_name": "base",
   "language": "python",
   "name": "python3"
  },
  "language_info": {
   "codemirror_mode": {
    "name": "ipython",
    "version": 3
   },
   "file_extension": ".py",
   "mimetype": "text/x-python",
   "name": "python",
   "nbconvert_exporter": "python",
   "pygments_lexer": "ipython3",
   "version": "3.11.5"
  }
 },
 "nbformat": 4,
 "nbformat_minor": 2
}
