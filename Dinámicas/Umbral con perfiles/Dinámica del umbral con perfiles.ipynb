{
 "cells": [
  {
   "cell_type": "markdown",
   "metadata": {},
   "source": [
    "En esta sección se trabaja con el modelo del umbral con perfiles mismo que se aplicará a la red.\n",
    "\n",
    "Enlace a la librería usada:\n",
    "\n",
    "https://ndlib.readthedocs.io/en/latest/reference/models/epidemics/ProfileThreshold.html"
   ]
  },
  {
   "cell_type": "code",
   "execution_count": 2,
   "metadata": {},
   "outputs": [
    {
     "name": "stdout",
     "output_type": "stream",
     "text": [
      "Collecting networkx\n",
      "  Downloading networkx-3.4.2-py3-none-any.whl.metadata (6.3 kB)\n",
      "Downloading networkx-3.4.2-py3-none-any.whl (1.7 MB)\n",
      "   ---------------------------------------- 0.0/1.7 MB ? eta -:--:--\n",
      "   ---------------------------------------- 0.0/1.7 MB ? eta -:--:--\n",
      "   ------------------ --------------------- 0.8/1.7 MB 3.0 MB/s eta 0:00:01\n",
      "   ---------------------------------------- 1.7/1.7 MB 4.5 MB/s eta 0:00:00\n",
      "Installing collected packages: networkx\n",
      "Successfully installed networkx-3.4.2\n"
     ]
    },
    {
     "name": "stderr",
     "output_type": "stream",
     "text": [
      "\n",
      "[notice] A new release of pip is available: 24.3.1 -> 25.0\n",
      "[notice] To update, run: python.exe -m pip install --upgrade pip\n"
     ]
    },
    {
     "name": "stdout",
     "output_type": "stream",
     "text": [
      "Collecting ndlib"
     ]
    },
    {
     "name": "stderr",
     "output_type": "stream",
     "text": [
      "\n",
      "[notice] A new release of pip is available: 24.3.1 -> 25.0\n",
      "[notice] To update, run: python.exe -m pip install --upgrade pip\n"
     ]
    },
    {
     "name": "stdout",
     "output_type": "stream",
     "text": [
      "\n",
      "  Downloading ndlib-5.1.1-py3-none-any.whl.metadata (5.5 kB)\n",
      "Collecting netdispatch (from ndlib)\n",
      "  Downloading netdispatch-0.1.0-py3-none-any.whl.metadata (744 bytes)\n",
      "Collecting python-igraph (from ndlib)\n",
      "  Downloading python_igraph-0.11.8-py3-none-any.whl.metadata (2.8 kB)\n",
      "Collecting numpy (from ndlib)\n",
      "  Downloading numpy-2.2.2-cp313-cp313-win_amd64.whl.metadata (60 kB)\n",
      "Requirement already satisfied: networkx in c:\\users\\tierra\\appdata\\local\\programs\\python\\python313\\lib\\site-packages (from ndlib) (3.4.2)\n",
      "Collecting dynetx (from ndlib)\n",
      "  Downloading dynetx-0.3.2-py3-none-any.whl.metadata (2.9 kB)\n",
      "Collecting scipy (from ndlib)\n",
      "  Downloading scipy-1.15.1-cp313-cp313-win_amd64.whl.metadata (60 kB)\n",
      "Collecting bokeh (from ndlib)\n",
      "  Downloading bokeh-3.6.2-py3-none-any.whl.metadata (12 kB)\n",
      "Collecting future (from ndlib)\n",
      "  Downloading future-1.0.0-py3-none-any.whl.metadata (4.0 kB)\n",
      "Collecting Jinja2>=2.9 (from bokeh->ndlib)\n",
      "  Downloading jinja2-3.1.5-py3-none-any.whl.metadata (2.6 kB)\n",
      "Collecting contourpy>=1.2 (from bokeh->ndlib)\n",
      "  Downloading contourpy-1.3.1-cp313-cp313-win_amd64.whl.metadata (5.4 kB)\n",
      "Requirement already satisfied: packaging>=16.8 in c:\\users\\tierra\\appdata\\roaming\\python\\python313\\site-packages (from bokeh->ndlib) (24.2)\n",
      "Collecting pandas>=1.2 (from bokeh->ndlib)\n",
      "  Downloading pandas-2.2.3-cp313-cp313-win_amd64.whl.metadata (19 kB)\n",
      "Collecting pillow>=7.1.0 (from bokeh->ndlib)\n",
      "  Downloading pillow-11.1.0-cp313-cp313-win_amd64.whl.metadata (9.3 kB)\n",
      "Collecting PyYAML>=3.10 (from bokeh->ndlib)\n",
      "  Downloading PyYAML-6.0.2-cp313-cp313-win_amd64.whl.metadata (2.1 kB)\n",
      "Requirement already satisfied: tornado>=6.2 in c:\\users\\tierra\\appdata\\roaming\\python\\python313\\site-packages (from bokeh->ndlib) (6.4.2)\n",
      "Collecting xyzservices>=2021.09.1 (from bokeh->ndlib)\n",
      "  Downloading xyzservices-2025.1.0-py3-none-any.whl.metadata (4.3 kB)\n",
      "Collecting tqdm (from dynetx->ndlib)\n",
      "  Downloading tqdm-4.67.1-py3-none-any.whl.metadata (57 kB)\n",
      "Requirement already satisfied: decorator in c:\\users\\tierra\\appdata\\roaming\\python\\python313\\site-packages (from dynetx->ndlib) (5.1.1)\n",
      "Collecting igraph==0.11.8 (from python-igraph->ndlib)\n",
      "  Downloading igraph-0.11.8-cp39-abi3-win_amd64.whl.metadata (3.9 kB)\n",
      "Collecting texttable>=1.6.2 (from igraph==0.11.8->python-igraph->ndlib)\n",
      "  Downloading texttable-1.7.0-py2.py3-none-any.whl.metadata (9.8 kB)\n",
      "Collecting MarkupSafe>=2.0 (from Jinja2>=2.9->bokeh->ndlib)\n",
      "  Downloading MarkupSafe-3.0.2-cp313-cp313-win_amd64.whl.metadata (4.1 kB)\n",
      "Requirement already satisfied: python-dateutil>=2.8.2 in c:\\users\\tierra\\appdata\\roaming\\python\\python313\\site-packages (from pandas>=1.2->bokeh->ndlib) (2.9.0.post0)\n",
      "Collecting pytz>=2020.1 (from pandas>=1.2->bokeh->ndlib)\n",
      "  Downloading pytz-2024.2-py2.py3-none-any.whl.metadata (22 kB)\n",
      "Collecting tzdata>=2022.7 (from pandas>=1.2->bokeh->ndlib)\n",
      "  Downloading tzdata-2025.1-py2.py3-none-any.whl.metadata (1.4 kB)\n",
      "Requirement already satisfied: colorama in c:\\users\\tierra\\appdata\\roaming\\python\\python313\\site-packages (from tqdm->dynetx->ndlib) (0.4.6)\n",
      "Requirement already satisfied: six>=1.5 in c:\\users\\tierra\\appdata\\roaming\\python\\python313\\site-packages (from python-dateutil>=2.8.2->pandas>=1.2->bokeh->ndlib) (1.17.0)\n",
      "Downloading ndlib-5.1.1-py3-none-any.whl (110 kB)\n",
      "Downloading bokeh-3.6.2-py3-none-any.whl (6.9 MB)\n",
      "   ---------------------------------------- 0.0/6.9 MB ? eta -:--:--\n",
      "   ---- ----------------------------------- 0.8/6.9 MB 4.7 MB/s eta 0:00:02\n",
      "   ------------------------ --------------- 4.2/6.9 MB 11.9 MB/s eta 0:00:01\n",
      "   ---------------------------------------- 6.9/6.9 MB 12.2 MB/s eta 0:00:00\n",
      "Downloading numpy-2.2.2-cp313-cp313-win_amd64.whl (12.6 MB)\n",
      "   ---------------------------------------- 0.0/12.6 MB ? eta -:--:--\n",
      "   ------------ --------------------------- 3.9/12.6 MB 21.1 MB/s eta 0:00:01\n",
      "   ----------------------------- ---------- 9.2/12.6 MB 22.2 MB/s eta 0:00:01\n",
      "   ---------------------------------------  12.6/12.6 MB 20.2 MB/s eta 0:00:01\n",
      "   ---------------------------------------- 12.6/12.6 MB 18.7 MB/s eta 0:00:00\n",
      "Downloading dynetx-0.3.2-py3-none-any.whl (39 kB)\n",
      "Downloading future-1.0.0-py3-none-any.whl (491 kB)\n",
      "Downloading netdispatch-0.1.0-py3-none-any.whl (3.3 kB)\n",
      "Downloading python_igraph-0.11.8-py3-none-any.whl (9.1 kB)\n",
      "Downloading igraph-0.11.8-cp39-abi3-win_amd64.whl (2.0 MB)\n",
      "   ---------------------------------------- 0.0/2.0 MB ? eta -:--:--\n",
      "   ---------------------------------------- 2.0/2.0 MB 13.8 MB/s eta 0:00:00\n",
      "Downloading scipy-1.15.1-cp313-cp313-win_amd64.whl (43.6 MB)\n",
      "   ---------------------------------------- 0.0/43.6 MB ? eta -:--:--\n",
      "   --- ------------------------------------ 3.7/43.6 MB 17.4 MB/s eta 0:00:03\n",
      "   ------ --------------------------------- 7.3/43.6 MB 17.1 MB/s eta 0:00:03\n",
      "   ---------- ----------------------------- 11.0/43.6 MB 16.9 MB/s eta 0:00:02\n",
      "   ------------- -------------------------- 14.4/43.6 MB 16.7 MB/s eta 0:00:02\n",
      "   ---------------- ----------------------- 18.1/43.6 MB 16.6 MB/s eta 0:00:02\n",
      "   ------------------- -------------------- 21.8/43.6 MB 16.7 MB/s eta 0:00:02\n",
      "   ----------------------- ---------------- 25.4/43.6 MB 16.7 MB/s eta 0:00:02\n",
      "   -------------------------- ------------- 28.6/43.6 MB 16.6 MB/s eta 0:00:01\n",
      "   ----------------------------- ---------- 32.2/43.6 MB 16.7 MB/s eta 0:00:01\n",
      "   -------------------------------- ------- 35.9/43.6 MB 16.7 MB/s eta 0:00:01\n",
      "   ------------------------------------ --- 39.6/43.6 MB 16.7 MB/s eta 0:00:01\n",
      "   ---------------------------------------  43.3/43.6 MB 16.7 MB/s eta 0:00:01\n",
      "   ---------------------------------------- 43.6/43.6 MB 15.6 MB/s eta 0:00:00\n",
      "Downloading contourpy-1.3.1-cp313-cp313-win_amd64.whl (220 kB)\n",
      "Downloading jinja2-3.1.5-py3-none-any.whl (134 kB)\n",
      "Downloading pandas-2.2.3-cp313-cp313-win_amd64.whl (11.5 MB)\n",
      "   ---------------------------------------- 0.0/11.5 MB ? eta -:--:--\n",
      "   ----------- ---------------------------- 3.4/11.5 MB 16.2 MB/s eta 0:00:01\n",
      "   ------------------------ --------------- 7.1/11.5 MB 16.7 MB/s eta 0:00:01\n",
      "   ------------------------------------ --- 10.5/11.5 MB 16.8 MB/s eta 0:00:01\n",
      "   ---------------------------------------- 11.5/11.5 MB 15.6 MB/s eta 0:00:00\n",
      "Downloading pillow-11.1.0-cp313-cp313-win_amd64.whl (2.6 MB)\n",
      "   ---------------------------------------- 0.0/2.6 MB ? eta -:--:--\n",
      "   ---------------------------------------- 2.6/2.6 MB 13.0 MB/s eta 0:00:00\n",
      "Downloading PyYAML-6.0.2-cp313-cp313-win_amd64.whl (156 kB)\n",
      "Downloading xyzservices-2025.1.0-py3-none-any.whl (88 kB)\n",
      "Downloading tqdm-4.67.1-py3-none-any.whl (78 kB)\n",
      "Downloading MarkupSafe-3.0.2-cp313-cp313-win_amd64.whl (15 kB)\n",
      "Downloading pytz-2024.2-py2.py3-none-any.whl (508 kB)\n",
      "Downloading texttable-1.7.0-py2.py3-none-any.whl (10 kB)\n",
      "Downloading tzdata-2025.1-py2.py3-none-any.whl (346 kB)\n",
      "Installing collected packages: texttable, pytz, xyzservices, tzdata, tqdm, PyYAML, pillow, numpy, MarkupSafe, igraph, future, scipy, python-igraph, pandas, Jinja2, dynetx, contourpy, netdispatch, bokeh, ndlib\n",
      "Successfully installed Jinja2-3.1.5 MarkupSafe-3.0.2 PyYAML-6.0.2 bokeh-3.6.2 contourpy-1.3.1 dynetx-0.3.2 future-1.0.0 igraph-0.11.8 ndlib-5.1.1 netdispatch-0.1.0 numpy-2.2.2 pandas-2.2.3 pillow-11.1.0 python-igraph-0.11.8 pytz-2024.2 scipy-1.15.1 texttable-1.7.0 tqdm-4.67.1 tzdata-2025.1 xyzservices-2025.1.0\n",
      "Collecting scienceplots\n",
      "  Downloading SciencePlots-2.1.1-py3-none-any.whl.metadata (11 kB)\n",
      "Collecting matplotlib (from scienceplots)\n",
      "  Downloading matplotlib-3.10.0-cp313-cp313-win_amd64.whl.metadata (11 kB)\n",
      "Requirement already satisfied: contourpy>=1.0.1 in c:\\users\\tierra\\appdata\\local\\programs\\python\\python313\\lib\\site-packages (from matplotlib->scienceplots) (1.3.1)\n",
      "Collecting cycler>=0.10 (from matplotlib->scienceplots)\n",
      "  Downloading cycler-0.12.1-py3-none-any.whl.metadata (3.8 kB)\n",
      "Collecting fonttools>=4.22.0 (from matplotlib->scienceplots)\n",
      "  Downloading fonttools-4.55.8-cp313-cp313-win_amd64.whl.metadata (103 kB)\n",
      "Collecting kiwisolver>=1.3.1 (from matplotlib->scienceplots)\n",
      "  Downloading kiwisolver-1.4.8-cp313-cp313-win_amd64.whl.metadata (6.3 kB)\n",
      "Requirement already satisfied: numpy>=1.23 in c:\\users\\tierra\\appdata\\local\\programs\\python\\python313\\lib\\site-packages (from matplotlib->scienceplots) (2.2.2)\n",
      "Requirement already satisfied: packaging>=20.0 in c:\\users\\tierra\\appdata\\roaming\\python\\python313\\site-packages (from matplotlib->scienceplots) (24.2)\n",
      "Requirement already satisfied: pillow>=8 in c:\\users\\tierra\\appdata\\local\\programs\\python\\python313\\lib\\site-packages (from matplotlib->scienceplots) (11.1.0)\n",
      "Collecting pyparsing>=2.3.1 (from matplotlib->scienceplots)\n",
      "  Downloading pyparsing-3.2.1-py3-none-any.whl.metadata (5.0 kB)\n",
      "Requirement already satisfied: python-dateutil>=2.7 in c:\\users\\tierra\\appdata\\roaming\\python\\python313\\site-packages (from matplotlib->scienceplots) (2.9.0.post0)\n",
      "Requirement already satisfied: six>=1.5 in c:\\users\\tierra\\appdata\\roaming\\python\\python313\\site-packages (from python-dateutil>=2.7->matplotlib->scienceplots) (1.17.0)\n",
      "Downloading SciencePlots-2.1.1-py3-none-any.whl (16 kB)\n",
      "Downloading matplotlib-3.10.0-cp313-cp313-win_amd64.whl (8.0 MB)\n",
      "   ---------------------------------------- 0.0/8.0 MB ? eta -:--:--\n",
      "   ----- ---------------------------------- 1.0/8.0 MB 6.2 MB/s eta 0:00:02\n",
      "   ------------------------ --------------- 5.0/8.0 MB 13.7 MB/s eta 0:00:01\n",
      "   ---------------------------------------- 8.0/8.0 MB 17.3 MB/s eta 0:00:00\n",
      "Downloading cycler-0.12.1-py3-none-any.whl (8.3 kB)\n",
      "Downloading fonttools-4.55.8-cp313-cp313-win_amd64.whl (2.2 MB)\n",
      "   ---------------------------------------- 0.0/2.2 MB ? eta -:--:--\n",
      "   ---------------------------------------- 2.2/2.2 MB 11.8 MB/s eta 0:00:00\n",
      "Downloading kiwisolver-1.4.8-cp313-cp313-win_amd64.whl (71 kB)\n",
      "Downloading pyparsing-3.2.1-py3-none-any.whl (107 kB)\n",
      "Installing collected packages: pyparsing, kiwisolver, fonttools, cycler, matplotlib, scienceplots\n",
      "Successfully installed cycler-0.12.1 fonttools-4.55.8 kiwisolver-1.4.8 matplotlib-3.10.0 pyparsing-3.2.1 scienceplots-2.1.1\n"
     ]
    },
    {
     "name": "stderr",
     "output_type": "stream",
     "text": [
      "\n",
      "[notice] A new release of pip is available: 24.3.1 -> 25.0\n",
      "[notice] To update, run: python.exe -m pip install --upgrade pip\n"
     ]
    },
    {
     "name": "stdout",
     "output_type": "stream",
     "text": [
      "Collecting pyvis\n",
      "  Downloading pyvis-0.3.2-py3-none-any.whl.metadata (1.7 kB)\n",
      "Requirement already satisfied: ipython>=5.3.0 in c:\\users\\tierra\\appdata\\roaming\\python\\python313\\site-packages (from pyvis) (8.31.0)\n",
      "Requirement already satisfied: jinja2>=2.9.6 in c:\\users\\tierra\\appdata\\local\\programs\\python\\python313\\lib\\site-packages (from pyvis) (3.1.5)\n",
      "Collecting jsonpickle>=1.4.1 (from pyvis)\n",
      "  Downloading jsonpickle-4.0.1-py3-none-any.whl.metadata (8.2 kB)\n",
      "Requirement already satisfied: networkx>=1.11 in c:\\users\\tierra\\appdata\\local\\programs\\python\\python313\\lib\\site-packages (from pyvis) (3.4.2)\n",
      "Requirement already satisfied: colorama in c:\\users\\tierra\\appdata\\roaming\\python\\python313\\site-packages (from ipython>=5.3.0->pyvis) (0.4.6)\n",
      "Requirement already satisfied: decorator in c:\\users\\tierra\\appdata\\roaming\\python\\python313\\site-packages (from ipython>=5.3.0->pyvis) (5.1.1)\n",
      "Requirement already satisfied: jedi>=0.16 in c:\\users\\tierra\\appdata\\roaming\\python\\python313\\site-packages (from ipython>=5.3.0->pyvis) (0.19.2)\n",
      "Requirement already satisfied: matplotlib-inline in c:\\users\\tierra\\appdata\\roaming\\python\\python313\\site-packages (from ipython>=5.3.0->pyvis) (0.1.7)\n",
      "Requirement already satisfied: prompt_toolkit<3.1.0,>=3.0.41 in c:\\users\\tierra\\appdata\\roaming\\python\\python313\\site-packages (from ipython>=5.3.0->pyvis) (3.0.50)\n",
      "Requirement already satisfied: pygments>=2.4.0 in c:\\users\\tierra\\appdata\\roaming\\python\\python313\\site-packages (from ipython>=5.3.0->pyvis) (2.19.1)\n",
      "Requirement already satisfied: stack_data in c:\\users\\tierra\\appdata\\roaming\\python\\python313\\site-packages (from ipython>=5.3.0->pyvis) (0.6.3)\n",
      "Requirement already satisfied: traitlets>=5.13.0 in c:\\users\\tierra\\appdata\\roaming\\python\\python313\\site-packages (from ipython>=5.3.0->pyvis) (5.14.3)\n",
      "Requirement already satisfied: MarkupSafe>=2.0 in c:\\users\\tierra\\appdata\\local\\programs\\python\\python313\\lib\\site-packages (from jinja2>=2.9.6->pyvis) (3.0.2)\n",
      "Requirement already satisfied: parso<0.9.0,>=0.8.4 in c:\\users\\tierra\\appdata\\roaming\\python\\python313\\site-packages (from jedi>=0.16->ipython>=5.3.0->pyvis) (0.8.4)\n",
      "Requirement already satisfied: wcwidth in c:\\users\\tierra\\appdata\\roaming\\python\\python313\\site-packages (from prompt_toolkit<3.1.0,>=3.0.41->ipython>=5.3.0->pyvis) (0.2.13)\n",
      "Requirement already satisfied: executing>=1.2.0 in c:\\users\\tierra\\appdata\\roaming\\python\\python313\\site-packages (from stack_data->ipython>=5.3.0->pyvis) (2.2.0)\n",
      "Requirement already satisfied: asttokens>=2.1.0 in c:\\users\\tierra\\appdata\\roaming\\python\\python313\\site-packages (from stack_data->ipython>=5.3.0->pyvis) (3.0.0)\n",
      "Requirement already satisfied: pure-eval in c:\\users\\tierra\\appdata\\roaming\\python\\python313\\site-packages (from stack_data->ipython>=5.3.0->pyvis) (0.2.3)\n",
      "Downloading pyvis-0.3.2-py3-none-any.whl (756 kB)\n",
      "   ---------------------------------------- 0.0/756.0 kB ? eta -:--:--\n",
      "   ------------- -------------------------- 262.1/756.0 kB ? eta -:--:--\n",
      "   ---------------------------------------- 756.0/756.0 kB 4.1 MB/s eta 0:00:00\n",
      "Downloading jsonpickle-4.0.1-py3-none-any.whl (46 kB)\n",
      "Installing collected packages: jsonpickle, pyvis\n",
      "Successfully installed jsonpickle-4.0.1 pyvis-0.3.2\n"
     ]
    },
    {
     "name": "stderr",
     "output_type": "stream",
     "text": [
      "\n",
      "[notice] A new release of pip is available: 24.3.1 -> 25.0\n",
      "[notice] To update, run: python.exe -m pip install --upgrade pip\n"
     ]
    },
    {
     "name": "stdout",
     "output_type": "stream",
     "text": [
      "Requirement already satisfied: matplotlib in c:\\users\\tierra\\appdata\\local\\programs\\python\\python313\\lib\\site-packages (3.10.0)\n",
      "Requirement already satisfied: contourpy>=1.0.1 in c:\\users\\tierra\\appdata\\local\\programs\\python\\python313\\lib\\site-packages (from matplotlib) (1.3.1)\n",
      "Requirement already satisfied: cycler>=0.10 in c:\\users\\tierra\\appdata\\local\\programs\\python\\python313\\lib\\site-packages (from matplotlib) (0.12.1)\n",
      "Requirement already satisfied: fonttools>=4.22.0 in c:\\users\\tierra\\appdata\\local\\programs\\python\\python313\\lib\\site-packages (from matplotlib) (4.55.8)\n",
      "Requirement already satisfied: kiwisolver>=1.3.1 in c:\\users\\tierra\\appdata\\local\\programs\\python\\python313\\lib\\site-packages (from matplotlib) (1.4.8)\n",
      "Requirement already satisfied: numpy>=1.23 in c:\\users\\tierra\\appdata\\local\\programs\\python\\python313\\lib\\site-packages (from matplotlib) (2.2.2)\n",
      "Requirement already satisfied: packaging>=20.0 in c:\\users\\tierra\\appdata\\roaming\\python\\python313\\site-packages (from matplotlib) (24.2)\n",
      "Requirement already satisfied: pillow>=8 in c:\\users\\tierra\\appdata\\local\\programs\\python\\python313\\lib\\site-packages (from matplotlib) (11.1.0)\n",
      "Requirement already satisfied: pyparsing>=2.3.1 in c:\\users\\tierra\\appdata\\local\\programs\\python\\python313\\lib\\site-packages (from matplotlib) (3.2.1)\n",
      "Requirement already satisfied: python-dateutil>=2.7 in c:\\users\\tierra\\appdata\\roaming\\python\\python313\\site-packages (from matplotlib) (2.9.0.post0)\n",
      "Requirement already satisfied: six>=1.5 in c:\\users\\tierra\\appdata\\roaming\\python\\python313\\site-packages (from python-dateutil>=2.7->matplotlib) (1.17.0)\n"
     ]
    },
    {
     "name": "stderr",
     "output_type": "stream",
     "text": [
      "\n",
      "[notice] A new release of pip is available: 24.3.1 -> 25.0\n",
      "[notice] To update, run: python.exe -m pip install --upgrade pip\n"
     ]
    }
   ],
   "source": [
    "#Instalamos las librerías\n",
    "!pip install networkx\n",
    "!pip install ndlib\n",
    "!pip install scienceplots\n",
    "!pip install pyvis\n",
    "!pip install matplotlib\n"
   ]
  },
  {
   "cell_type": "code",
   "execution_count": 3,
   "metadata": {},
   "outputs": [
    {
     "name": "stdout",
     "output_type": "stream",
     "text": [
      "Warning: When  cdn_resources is 'local' jupyter notebook has issues displaying graphics on chrome/safari. Use cdn_resources='in_line' or cdn_resources='remote' if you have issues viewing graphics in a notebook.\n",
      "red_dinámica_umbral_perfiles.html\n"
     ]
    },
    {
     "data": {
      "image/png": "[encoded data removed]",
      "text/plain": [
       "<Figure size 400x400 with 1 Axes>"
      ]
     },
     "metadata": {},
     "output_type": "display_data"
    }
   ],
   "source": [
    "# Se importa la librería networkx para trabajar con grafos\n",
    "\n",
    "import networkx as nx\n",
    "import ndlib.models.ModelConfig as mc\n",
    "import ndlib.models.epidemics as ep\n",
    "import matplotlib.pyplot as plt\n",
    "import scienceplots\n",
    "\n",
    "from pyvis.network import Network\n",
    "\n",
    "# Se crea una topología de red utilizando el modelo de Barabasi-Albert //Esta parte se puede cambiar por cualquier otro modelo de red\n",
    "g = nx.barabasi_albert_graph(100, 1)\n",
    "\n",
    "# Se selecciona el modelo de umbral de perfil\n",
    "model = ep.ProfileThresholdModel(g)\n",
    "config = mc.Configuration()\n",
    "\n",
    "# Se configuran los parámetros del modelo\n",
    "config.add_model_parameter('blocked', 0)\n",
    "config.add_model_parameter('adopter_rate', 0)\n",
    "config.add_model_parameter('fraction_infected', 0.5)\n",
    "\n",
    "# Se configuran los parámetros de los nodos\n",
    "threshold = 0.60\n",
    "profile = 0.60\n",
    "\n",
    "for i in g.nodes():\n",
    "    config.add_node_configuration(\"threshold\", i, threshold)\n",
    "    config.add_node_configuration(\"profile\", i, profile)\n",
    "\n",
    "# Se establece el estado inicial del modelo con la configuración dada\n",
    "model.set_initial_status(config)\n",
    "\n",
    "# Se ejecuta la simulación por 50 iteraciones\n",
    "iterations = model.iteration_bunch(50)\n",
    "\n",
    "#Visualización de la red mediante pyvis\n",
    "\n",
    "# Crear la red con opciones adicionales\n",
    "net = Network(\n",
    "    height='100vh', \n",
    "    width='100%', \n",
    "    bgcolor='#ffffff',\n",
    "    font_color='#000000',\n",
    "    notebook=True,\n",
    "    select_menu=True, \n",
    "    filter_menu=True\n",
    ")\n",
    "\n",
    "# Configurar opciones de pyvis\n",
    "net.set_options(\"\"\"\n",
    "{\n",
    "  \"physics\": {\n",
    "    \"enabled\": true,\n",
    "    \"barnesHut\": {\n",
    "      \"gravitationalConstant\": -2000,\n",
    "      \"centralGravity\": 0.1,\n",
    "      \"springLength\": 55,\n",
    "      \"springConstant\": 0.14,\n",
    "      \"damping\": 0.09\n",
    "    },\n",
    "    \"minVelocity\": 0.75,\n",
    "    \"maxVelocity\": 5\n",
    "  },\n",
    "  \"interaction\": {\n",
    "    \"navigationButtons\": true\n",
    "  },\n",
    "  \"configure\": {\n",
    "    \"enabled\": true,\n",
    "    \"filter\": \"all\"\n",
    "  },\n",
    "  \"nodes\": {\n",
    "    \"borderWidth\": 0\n",
    "  }\n",
    "}\n",
    "\"\"\")\n",
    "\n",
    "# Colorear nodos y aristas\n",
    "for node in g.nodes():\n",
    "    if model.status[node] == 1:  # Si el nodo adquirió el comportamiento\n",
    "      net.add_node(node, size='size', color='#3B4285', etiqueta='corrupto')\n",
    "    else:  # Si el nodo no adquirió el comportamiento\n",
    "      net.add_node(node, size='size', color='#9FA3D5', etiqueta='honesto')\n",
    "        \n",
    "# Colorear aristas de color azul y ancho 2\n",
    "for edge in g.edges():\n",
    "  net.add_edge(edge[0], edge[1], color='#3B4285', width=2)\n",
    "\n",
    "# Convertir de networkx a PyVis\n",
    "net.from_nx(g)\n",
    "\n",
    "# Calcular el grado de cada nodo\n",
    "degree_dict = dict(g.degree())\n",
    "\n",
    "# Normalizar los tamaños de los nodos\n",
    "max_degree = max(degree_dict.values())\n",
    "min_size = 10\n",
    "max_size = 30\n",
    "\n",
    "for node in net.nodes:\n",
    "    node_id = node['id']\n",
    "    degree = degree_dict[node_id]\n",
    "    \n",
    "    # Calcular el tamaño proporcional\n",
    "    size = min_size + (degree / max_degree) * (max_size - min_size)\n",
    "    \n",
    "    node['size'] = size\n",
    "\n",
    "# Mostrar la red (sin show_buttons)\n",
    "net.show('red_dinámica_umbral_perfiles.html')\n",
    "\n",
    "#Graficar la red con mathplotlib y scienceplots\n",
    "\n",
    "plt.style.use('science')\n",
    "plt.figure(figsize=(4, 4)) # Tamaño del gráfico\n",
    "pos = nx.spring_layout(g)\n",
    "nx.draw(g, pos, node_size=50, node_color='blue' ,edge_color='gray', with_labels=False)\n",
    "plt.show()\n"
   ]
  },
  {
   "cell_type": "markdown",
   "metadata": {},
   "source": [
    "Se añade la visualización de los nodos que adquirieron el comportamiento."
   ]
  },
  {
   "cell_type": "code",
   "execution_count": 4,
   "metadata": {},
   "outputs": [
    {
     "data": {
      "image/png": "[encoded data removed]",
      "text/plain": [
       "<Figure size 400x400 with 1 Axes>"
      ]
     },
     "metadata": {},
     "output_type": "display_data"
    }
   ],
   "source": [
    "import matplotlib.pyplot as plt\n",
    "import scienceplots\n",
    "\n",
    "# Extraer el número de nodos que adquirieron un comportamiento en cada iteración\n",
    "adopted_nodes = [iteration['node_count'][1] for iteration in iterations]\n",
    "\n",
    "# Calcular el porcentaje de nodos que adquirieron un comportamiento\n",
    "total_nodes = len(g.nodes())\n",
    "adopted_percentage = [count / total_nodes * 100 for count in adopted_nodes]\n",
    "\n",
    "# Importar el estilo de scienceplots\n",
    "plt.style.use('science')\n",
    "\n",
    "# Crear la gráfica\n",
    "plt.figure(figsize=(4, 4))\n",
    "plt.plot(range(len(adopted_percentage)), adopted_percentage, marker='o', color='#3B4285')\n",
    "plt.xlabel('Iteraciones')\n",
    "plt.ylabel('Porcentaje de nodos que adquirieron el comportamiento')\n",
    "plt.title('Evolución del comportamiento en la red')\n",
    "plt.grid(True)\n",
    "\n",
    "# Guardar el gráfico con mayor resolución\n",
    "plt.savefig('nodos_que_adquirieron_comportamiento.png', dpi=300)  \n",
    "\n",
    "plt.show()"
   ]
  },
  {
   "cell_type": "code",
   "execution_count": 4,
   "metadata": {},
   "outputs": [
    {
     "name": "stdout",
     "output_type": "stream",
     "text": [
      "C:\\Users\\Tierra\\AppData\\Local\\Microsoft\\WindowsApps\\PythonSoftwareFoundation.Python.3.10_qbz5n2kfra8p0\\python.exe\n"
     ]
    }
   ],
   "source": [
    "import sys\n",
    "print(sys.executable)"
   ]
  }
 ],
 "metadata": {
  "kernelspec": {
   "display_name": "Python 3",
   "language": "python",
   "name": "python3"
  },
  "language_info": {
   "codemirror_mode": {
    "name": "ipython",
    "version": 3
   },
   "file_extension": ".py",
   "mimetype": "text/x-python",
   "name": "python",
   "nbconvert_exporter": "python",
   "pygments_lexer": "ipython3",
   "version": "3.13.1"
  }
 },
 "nbformat": 4,
 "nbformat_minor": 2
}
