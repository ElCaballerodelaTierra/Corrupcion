{
 "cells": [
  {
   "cell_type": "markdown",
   "metadata": {},
   "source": [
    "En esta sección se trabaja con el modelo del umbral con perfiles mismo que se aplicará a la red.\n",
    "\n",
    "Enlace a la librería usada:\n",
    "\n",
    "https://ndlib.readthedocs.io/en/latest/reference/models/epidemics/ProfileThreshold.html"
   ]
  },
  {
   "cell_type": "code",
   "execution_count": null,
   "metadata": {},
   "outputs": [
    {
     "name": "stdout",
     "output_type": "stream",
     "text": [
      "Defaulting to user installation because normal site-packages is not writeableNote: you may need to restart the kernel to use updated packages.\n",
      "\n",
      "Collecting ndlib\n",
      "  Obtaining dependency information for ndlib from https://files.pythonhosted.org/packages/15/dc/1d7fd0b5a0917a8f27ae2d7fa6009857991ed05a89f65b352d937439f9ab/ndlib-5.1.1-py3-none-any.whl.metadata\n",
      "  Downloading ndlib-5.1.1-py3-none-any.whl.metadata (5.5 kB)\n",
      "Collecting netdispatch (from ndlib)\n",
      "  Obtaining dependency information for netdispatch from https://files.pythonhosted.org/packages/dd/ad/eb88790662e4215174d0f49d431010c83fedff2ad102f4e93abceaf085f0/netdispatch-0.1.0-py3-none-any.whl.metadata\n",
      "  Downloading netdispatch-0.1.0-py3-none-any.whl.metadata (744 bytes)\n",
      "Collecting python-igraph (from ndlib)\n",
      "  Obtaining dependency information for python-igraph from https://files.pythonhosted.org/packages/ac/37/3fb69b17599b4c76f75bdf00ea4b78394d3cbf1fc0ba31179861153c239f/python_igraph-0.11.8-py3-none-any.whl.metadata\n",
      "  Downloading python_igraph-0.11.8-py3-none-any.whl.metadata (2.8 kB)\n",
      "Requirement already satisfied: numpy in c:\\users\\cavn\\appdata\\roaming\\python\\python311\\site-packages (from ndlib) (1.26.4)\n",
      "Requirement already satisfied: networkx in c:\\programdata\\anaconda3\\lib\\site-packages (from ndlib) (3.1)\n",
      "Collecting dynetx (from ndlib)\n",
      "  Obtaining dependency information for dynetx from https://files.pythonhosted.org/packages/cb/66/a185a9ba8edcf75c4aacf37198702727a322772c72b8312ca26a35ebbf69/dynetx-0.3.2-py3-none-any.whl.metadata\n",
      "  Downloading dynetx-0.3.2-py3-none-any.whl.metadata (2.9 kB)\n",
      "Requirement already satisfied: scipy in c:\\programdata\\anaconda3\\lib\\site-packages (from ndlib) (1.11.1)\n",
      "Requirement already satisfied: bokeh in c:\\programdata\\anaconda3\\lib\\site-packages (from ndlib) (3.2.1)\n",
      "Requirement already satisfied: future in c:\\programdata\\anaconda3\\lib\\site-packages (from ndlib) (0.18.3)\n",
      "Requirement already satisfied: Jinja2>=2.9 in c:\\programdata\\anaconda3\\lib\\site-packages (from bokeh->ndlib) (3.1.2)\n",
      "Requirement already satisfied: contourpy>=1 in c:\\programdata\\anaconda3\\lib\\site-packages (from bokeh->ndlib) (1.0.5)\n",
      "Requirement already satisfied: packaging>=16.8 in c:\\programdata\\anaconda3\\lib\\site-packages (from bokeh->ndlib) (23.1)\n",
      "Requirement already satisfied: pandas>=1.2 in c:\\programdata\\anaconda3\\lib\\site-packages (from bokeh->ndlib) (2.0.3)\n",
      "Requirement already satisfied: pillow>=7.1.0 in c:\\programdata\\anaconda3\\lib\\site-packages (from bokeh->ndlib) (10.2.0)\n",
      "Requirement already satisfied: PyYAML>=3.10 in c:\\programdata\\anaconda3\\lib\\site-packages (from bokeh->ndlib) (6.0)\n",
      "Requirement already satisfied: tornado>=5.1 in c:\\programdata\\anaconda3\\lib\\site-packages (from bokeh->ndlib) (6.3.2)\n",
      "Requirement already satisfied: xyzservices>=2021.09.1 in c:\\programdata\\anaconda3\\lib\\site-packages (from bokeh->ndlib) (2022.9.0)\n",
      "Requirement already satisfied: tqdm in c:\\programdata\\anaconda3\\lib\\site-packages (from dynetx->ndlib) (4.65.0)\n",
      "Requirement already satisfied: decorator in c:\\programdata\\anaconda3\\lib\\site-packages (from dynetx->ndlib) (5.1.1)\n",
      "Collecting igraph==0.11.8 (from python-igraph->ndlib)\n",
      "  Obtaining dependency information for igraph==0.11.8 from https://files.pythonhosted.org/packages/b0/17/621d3a59430851a327421fdbec9ec8494d7fadaffc6dfdd42d4a95accbf2/igraph-0.11.8-cp39-abi3-win_amd64.whl.metadata\n",
      "  Downloading igraph-0.11.8-cp39-abi3-win_amd64.whl.metadata (3.9 kB)\n",
      "Collecting texttable>=1.6.2 (from igraph==0.11.8->python-igraph->ndlib)\n",
      "  Obtaining dependency information for texttable>=1.6.2 from https://files.pythonhosted.org/packages/24/99/4772b8e00a136f3e01236de33b0efda31ee7077203ba5967fcc76da94d65/texttable-1.7.0-py2.py3-none-any.whl.metadata\n",
      "  Downloading texttable-1.7.0-py2.py3-none-any.whl.metadata (9.8 kB)\n",
      "Requirement already satisfied: MarkupSafe>=2.0 in c:\\programdata\\anaconda3\\lib\\site-packages (from Jinja2>=2.9->bokeh->ndlib) (2.1.1)\n",
      "Requirement already satisfied: python-dateutil>=2.8.2 in c:\\programdata\\anaconda3\\lib\\site-packages (from pandas>=1.2->bokeh->ndlib) (2.8.2)\n",
      "Requirement already satisfied: pytz>=2020.1 in c:\\programdata\\anaconda3\\lib\\site-packages (from pandas>=1.2->bokeh->ndlib) (2023.3.post1)\n",
      "Requirement already satisfied: tzdata>=2022.1 in c:\\programdata\\anaconda3\\lib\\site-packages (from pandas>=1.2->bokeh->ndlib) (2023.3)\n",
      "Requirement already satisfied: colorama in c:\\programdata\\anaconda3\\lib\\site-packages (from tqdm->dynetx->ndlib) (0.4.6)\n",
      "Requirement already satisfied: six>=1.5 in c:\\programdata\\anaconda3\\lib\\site-packages (from python-dateutil>=2.8.2->pandas>=1.2->bokeh->ndlib) (1.16.0)\n",
      "Using cached ndlib-5.1.1-py3-none-any.whl (110 kB)\n",
      "Downloading dynetx-0.3.2-py3-none-any.whl (39 kB)\n",
      "Using cached netdispatch-0.1.0-py3-none-any.whl (3.3 kB)\n",
      "Downloading python_igraph-0.11.8-py3-none-any.whl (9.1 kB)\n",
      "Downloading igraph-0.11.8-cp39-abi3-win_amd64.whl (2.0 MB)\n",
      "   ---------------------------------------- 0.0/2.0 MB ? eta -:--:--\n",
      "   - -------------------------------------- 0.1/2.0 MB 2.0 MB/s eta 0:00:01\n",
      "   - -------------------------------------- 0.1/2.0 MB 871.5 kB/s eta 0:00:03\n",
      "   ---- ----------------------------------- 0.2/2.0 MB 1.8 MB/s eta 0:00:01\n",
      "   ------- -------------------------------- 0.3/2.0 MB 1.8 MB/s eta 0:00:01\n",
      "   ---------- ----------------------------- 0.5/2.0 MB 2.2 MB/s eta 0:00:01\n",
      "   ------------ --------------------------- 0.6/2.0 MB 2.3 MB/s eta 0:00:01\n",
      "   --------------- ------------------------ 0.7/2.0 MB 2.5 MB/s eta 0:00:01\n",
      "   --------------------- ------------------ 1.1/2.0 MB 2.8 MB/s eta 0:00:01\n",
      "   -------------------------------- ------- 1.6/2.0 MB 3.6 MB/s eta 0:00:01\n",
      "   ---------------------------------------- 2.0/2.0 MB 4.2 MB/s eta 0:00:00\n",
      "Downloading texttable-1.7.0-py2.py3-none-any.whl (10 kB)\n",
      "Installing collected packages: texttable, igraph, python-igraph, dynetx, netdispatch, ndlib\n",
      "Successfully installed dynetx-0.3.2 igraph-0.11.8 ndlib-5.1.1 netdispatch-0.1.0 python-igraph-0.11.8 texttable-1.7.0\n"
     ]
    },
    {
     "name": "stderr",
     "output_type": "stream",
     "text": [
      "  WARNING: The script igraph.exe is installed in 'C:\\Users\\cavn\\AppData\\Roaming\\Python\\Python311\\Scripts' which is not on PATH.\n",
      "  Consider adding this directory to PATH or, if you prefer to suppress this warning, use --no-warn-script-location.\n",
      "  WARNING: The scripts NDQL_execute.exe and NDQL_translate.exe are installed in 'C:\\Users\\cavn\\AppData\\Roaming\\Python\\Python311\\Scripts' which is not on PATH.\n",
      "  Consider adding this directory to PATH or, if you prefer to suppress this warning, use --no-warn-script-location.\n"
     ]
    }
   ],
   "source": [
    "#Instalamos la librería\n",
    "pip install ndlib"
   ]
  },
  {
   "cell_type": "code",
   "execution_count": 80,
   "metadata": {},
   "outputs": [
    {
     "name": "stdout",
     "output_type": "stream",
     "text": [
      "Warning: When  cdn_resources is 'local' jupyter notebook has issues displaying graphics on chrome/safari. Use cdn_resources='in_line' or cdn_resources='remote' if you have issues viewing graphics in a notebook.\n",
      "red_dinámica_umbral_perfiles.html\n"
     ]
    },
    {
     "data": {
      "text/html": [
       "\n",
       "        <iframe\n",
       "            width=\"100%\"\n",
       "            height=\"100vh\"\n",
       "            src=\"red_dinámica_umbral_perfiles.html\"\n",
       "            frameborder=\"0\"\n",
       "            allowfullscreen\n",
       "            \n",
       "        ></iframe>\n",
       "        "
      ],
      "text/plain": [
       "<IPython.lib.display.IFrame at 0x2aa4ce20fa0>"
      ]
     },
     "execution_count": 80,
     "metadata": {},
     "output_type": "execute_result"
    }
   ],
   "source": [
    "# Se importa la librería networkx para trabajar con grafos\n",
    "# Se importan los módulos necesarios de ndlib para configurar y ejecutar el modelo\n",
    "import networkx as nx\n",
    "import ndlib.models.ModelConfig as mc\n",
    "import ndlib.models.epidemics as ep\n",
    "\n",
    "from pyvis.network import Network\n",
    "\n",
    "\n",
    "# Se crea una topología de red utilizando el modelo de Barabasi-Albert //Esta parte se puede cambiar por cualquier otro modelo de red\n",
    "g = nx.barabasi_albert_graph(100, 1)\n",
    "\n",
    "# Se selecciona el modelo de umbral de perfil\n",
    "model = ep.ProfileThresholdModel(g)\n",
    "config = mc.Configuration()\n",
    "\n",
    "# Se configuran los parámetros del modelo\n",
    "config.add_model_parameter('blocked', 0)\n",
    "config.add_model_parameter('adopter_rate', 0)\n",
    "config.add_model_parameter('fraction_infected', 0.5)\n",
    "\n",
    "# Se configuran los parámetros de los nodos\n",
    "threshold = 0.60\n",
    "profile = 0.60\n",
    "\n",
    "for i in g.nodes():\n",
    "    config.add_node_configuration(\"threshold\", i, threshold)\n",
    "    config.add_node_configuration(\"profile\", i, profile)\n",
    "\n",
    "# Se establece el estado inicial del modelo con la configuración dada\n",
    "model.set_initial_status(config)\n",
    "\n",
    "# Se ejecuta la simulación por 50 iteraciones\n",
    "iterations = model.iteration_bunch(50)\n",
    "\n",
    "#Visualización de la red\n",
    "\n",
    "# Crear la red con opciones adicionales\n",
    "net = Network(\n",
    "    height='100vh', \n",
    "    width='100%', \n",
    "    bgcolor='#ffffff',\n",
    "    font_color='#000000',\n",
    "    notebook=True,\n",
    "    select_menu=True, \n",
    "    filter_menu=True\n",
    ")\n",
    "\n",
    "# Configurar opciones\n",
    "net.set_options(\"\"\"\n",
    "{\n",
    "  \"physics\": {\n",
    "    \"enabled\": true,\n",
    "    \"barnesHut\": {\n",
    "      \"gravitationalConstant\": -2000,\n",
    "      \"centralGravity\": 0.1,\n",
    "      \"springLength\": 55,\n",
    "      \"springConstant\": 0.14,\n",
    "      \"damping\": 0.09\n",
    "    },\n",
    "    \"minVelocity\": 0.75,\n",
    "    \"maxVelocity\": 5\n",
    "  },\n",
    "  \"interaction\": {\n",
    "    \"navigationButtons\": true\n",
    "  },\n",
    "  \"configure\": {\n",
    "    \"enabled\": true,\n",
    "    \"filter\": \"all\"\n",
    "  },\n",
    "  \"nodes\": {\n",
    "    \"borderWidth\": 0\n",
    "  }\n",
    "}\n",
    "\"\"\")\n",
    "\n",
    "\n",
    "\n",
    "# Colorear nodos y aristas\n",
    "for node in g.nodes():\n",
    "    if model.status[node] == 1:  # Si el nodo adquirió el comportamiento\n",
    "      net.add_node(node, size='size', color='#3B4285', etiqueta='corrupto')\n",
    "    else:  # Si el nodo no adquirió el comportamiento\n",
    "      net.add_node(node, size='size', color='#9FA3D5', etiqueta='honesto')\n",
    "        \n",
    "# Colorear aristas de color azul y ancho 2\n",
    "for edge in g.edges():\n",
    "  net.add_edge(edge[0], edge[1], color='#3B4285', width=2)\n",
    "\n",
    "# Convertir de networkx a PyVis\n",
    "net.from_nx(g)\n",
    "\n",
    "# Calcular el grado de cada nodo\n",
    "degree_dict = dict(g.degree())\n",
    "\n",
    "# Normalizar los tamaños de los nodos\n",
    "max_degree = max(degree_dict.values())\n",
    "min_size = 10\n",
    "max_size = 30\n",
    "\n",
    "for node in net.nodes:\n",
    "    node_id = node['id']\n",
    "    degree = degree_dict[node_id]\n",
    "    \n",
    "    # Calcular el tamaño proporcional\n",
    "    size = min_size + (degree / max_degree) * (max_size - min_size)\n",
    "    \n",
    "    node['size'] = size\n",
    "\n",
    "\n",
    "# Mostrar la red (sin show_buttons)\n",
    "net.show('red_dinámica_umbral_perfiles.html')"
   ]
  },
  {
   "cell_type": "markdown",
   "metadata": {},
   "source": [
    "Se añade la visualización de la dinámica"
   ]
  },
  {
   "cell_type": "code",
   "execution_count": 33,
   "metadata": {},
   "outputs": [
    {
     "data": {
      "image/png": "[encoded data removed]",
      "text/plain": [
       "<Figure size 400x400 with 1 Axes>"
      ]
     },
     "metadata": {},
     "output_type": "display_data"
    }
   ],
   "source": [
    "import matplotlib.pyplot as plt\n",
    "import scienceplots\n",
    "\n",
    "# Extraer el número de nodos que adquirieron un comportamiento en cada iteración\n",
    "adopted_nodes = [iteration['node_count'][1] for iteration in iterations]\n",
    "\n",
    "# Calcular el porcentaje de nodos que adquirieron un comportamiento\n",
    "total_nodes = len(g.nodes())\n",
    "adopted_percentage = [count / total_nodes * 100 for count in adopted_nodes]\n",
    "\n",
    "# Importar el estilo de scienceplots\n",
    "plt.style.use('science')\n",
    "\n",
    "# Crear la gráfica\n",
    "plt.figure(figsize=(4, 4))\n",
    "plt.plot(range(len(adopted_percentage)), adopted_percentage, marker='o', color='#3B4285')\n",
    "plt.xlabel('Iteraciones')\n",
    "plt.ylabel('Porcentaje de nodos que adquirieron el comportamiento')\n",
    "plt.title('Evolución del comportamiento en la red')\n",
    "plt.grid(True)\n",
    "\n",
    "# Guardar el gráfico con mayor resolución\n",
    "plt.savefig('nodos_que_adquirieron_comportamiento.png', dpi=300)  \n",
    "\n",
    "plt.show()"
   ]
  },
  {
   "cell_type": "code",
   "execution_count": null,
   "metadata": {},
   "outputs": [],
   "source": []
  }
 ],
 "metadata": {
  "kernelspec": {
   "display_name": "Python 3",
   "language": "python",
   "name": "python3"
  },
  "language_info": {
   "codemirror_mode": {
    "name": "ipython",
    "version": 3
   },
   "file_extension": ".py",
   "mimetype": "text/x-python",
   "name": "python",
   "nbconvert_exporter": "python",
   "pygments_lexer": "ipython3",
   "version": "3.10.11"
  }
 },
 "nbformat": 4,
 "nbformat_minor": 2
}
