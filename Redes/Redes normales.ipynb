{
 "cells": [
  {
   "cell_type": "markdown",
   "metadata": {},
   "source": [
    "## Crear redes complejas para cada país basándose en la matriz de pagos\n",
    "\n",
    "# Creamos una red de 1000 individuos para cada uno de los países, dotando de la dinámica correspondiente a su cultura y leyes"
   ]
  }
 ],
 "metadata": {
  "language_info": {
   "name": "python"
  }
 },
 "nbformat": 4,
 "nbformat_minor": 2
}
