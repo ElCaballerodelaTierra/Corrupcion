{
 "cells": [
  {
   "cell_type": "code",
   "execution_count": 3,
   "metadata": {},
   "outputs": [
    {
     "name": "stdout",
     "output_type": "stream",
     "text": [
      "Collecting pyvis\n",
      "  Downloading pyvis-0.3.2-py3-none-any.whl (756 kB)\n",
      "     ---------------------------------------- 0.0/756.0 kB ? eta -:--:--\n",
      "      --------------------------------------- 10.2/756.0 kB ? eta -:--:--\n",
      "      --------------------------------------- 10.2/756.0 kB ? eta -:--:--\n",
      "      --------------------------------------- 10.2/756.0 kB ? eta -:--:--\n",
      "     - ------------------------------------ 20.5/756.0 kB 93.1 kB/s eta 0:00:08\n",
      "     - ------------------------------------ 20.5/756.0 kB 93.1 kB/s eta 0:00:08\n",
      "     - ------------------------------------ 30.7/756.0 kB 93.5 kB/s eta 0:00:08\n",
      "     - ------------------------------------ 30.7/756.0 kB 93.5 kB/s eta 0:00:08\n",
      "     - ------------------------------------ 30.7/756.0 kB 93.5 kB/s eta 0:00:08\n",
      "     - ------------------------------------ 30.7/756.0 kB 93.5 kB/s eta 0:00:08\n",
      "     - ------------------------------------ 30.7/756.0 kB 93.5 kB/s eta 0:00:08\n",
      "     - ------------------------------------ 30.7/756.0 kB 93.5 kB/s eta 0:00:08\n",
      "     - ------------------------------------ 30.7/756.0 kB 93.5 kB/s eta 0:00:08\n",
      "     - ------------------------------------ 30.7/756.0 kB 93.5 kB/s eta 0:00:08\n",
      "     - ------------------------------------ 30.7/756.0 kB 93.5 kB/s eta 0:00:08\n",
      "     - ------------------------------------ 30.7/756.0 kB 93.5 kB/s eta 0:00:08\n",
      "     - ------------------------------------ 30.7/756.0 kB 93.5 kB/s eta 0:00:08\n",
      "     - ------------------------------------ 30.7/756.0 kB 93.5 kB/s eta 0:00:08\n",
      "     - ------------------------------------ 30.7/756.0 kB 93.5 kB/s eta 0:00:08\n",
      "     - ------------------------------------ 30.7/756.0 kB 93.5 kB/s eta 0:00:08\n",
      "     - ------------------------------------ 30.7/756.0 kB 93.5 kB/s eta 0:00:08\n",
      "     - ------------------------------------ 30.7/756.0 kB 93.5 kB/s eta 0:00:08\n",
      "     - ------------------------------------ 30.7/756.0 kB 93.5 kB/s eta 0:00:08\n",
      "     - ------------------------------------ 30.7/756.0 kB 93.5 kB/s eta 0:00:08\n",
      "     -- ----------------------------------- 41.0/756.0 kB 30.2 kB/s eta 0:00:24\n",
      "     -- ----------------------------------- 41.0/756.0 kB 30.2 kB/s eta 0:00:24\n",
      "     -- ----------------------------------- 51.2/756.0 kB 38.0 kB/s eta 0:00:19\n",
      "     --- ---------------------------------- 61.4/756.0 kB 44.9 kB/s eta 0:00:16\n",
      "     --- ---------------------------------- 71.7/756.0 kB 51.1 kB/s eta 0:00:14\n",
      "     --- ---------------------------------- 71.7/756.0 kB 51.1 kB/s eta 0:00:14\n",
      "     ---- --------------------------------- 92.2/756.0 kB 63.2 kB/s eta 0:00:11\n",
      "     ---- --------------------------------- 92.2/756.0 kB 63.2 kB/s eta 0:00:11\n",
      "     ----- ------------------------------- 102.4/756.0 kB 66.3 kB/s eta 0:00:10\n",
      "     -------- --------------------------- 174.1/756.0 kB 111.5 kB/s eta 0:00:06\n",
      "     ----------- ------------------------ 235.5/756.0 kB 148.6 kB/s eta 0:00:04\n",
      "     ---------------- ------------------- 337.9/756.0 kB 211.8 kB/s eta 0:00:02\n",
      "     --------------------- -------------- 450.6/756.0 kB 276.2 kB/s eta 0:00:02\n",
      "     ------------------------- ---------- 542.7/756.0 kB 324.5 kB/s eta 0:00:01\n",
      "     ------------------------------- ---- 665.6/756.0 kB 388.2 kB/s eta 0:00:01\n",
      "     -----------------------------------  747.5/756.0 kB 428.9 kB/s eta 0:00:01\n",
      "     ------------------------------------ 756.0/756.0 kB 426.2 kB/s eta 0:00:00\n",
      "Collecting jinja2>=2.9.6\n",
      "  Downloading jinja2-3.1.4-py3-none-any.whl (133 kB)\n",
      "     ---------------------------------------- 0.0/133.3 kB ? eta -:--:--\n",
      "     -------- ------------------------------ 30.7/133.3 kB 1.4 MB/s eta 0:00:01\n",
      "     ----------------- ------------------- 61.4/133.3 kB 825.8 kB/s eta 0:00:01\n",
      "     -----------------------------------  133.1/133.3 kB 877.7 kB/s eta 0:00:01\n",
      "     ------------------------------------ 133.3/133.3 kB 719.5 kB/s eta 0:00:00\n",
      "Collecting jsonpickle>=1.4.1\n",
      "  Downloading jsonpickle-3.3.0-py3-none-any.whl (42 kB)\n",
      "     ---------------------------------------- 0.0/42.4 kB ? eta -:--:--\n",
      "     --------- ------------------------------ 10.2/42.4 kB ? eta -:--:--\n",
      "     --------------------------- ---------- 30.7/42.4 kB 435.7 kB/s eta 0:00:01\n",
      "     -------------------------------------- 42.4/42.4 kB 341.8 kB/s eta 0:00:00\n",
      "Requirement already satisfied: ipython>=5.3.0 in c:\\users\\trisolaris\\appdata\\local\\packages\\pythonsoftwarefoundation.python.3.10_qbz5n2kfra8p0\\localcache\\local-packages\\python310\\site-packages (from pyvis) (8.23.0)\n",
      "Requirement already satisfied: networkx>=1.11 in c:\\users\\trisolaris\\appdata\\local\\packages\\pythonsoftwarefoundation.python.3.10_qbz5n2kfra8p0\\localcache\\local-packages\\python310\\site-packages (from pyvis) (3.2.1)\n",
      "Requirement already satisfied: jedi>=0.16 in c:\\users\\trisolaris\\appdata\\local\\packages\\pythonsoftwarefoundation.python.3.10_qbz5n2kfra8p0\\localcache\\local-packages\\python310\\site-packages (from ipython>=5.3.0->pyvis) (0.19.1)\n",
      "Requirement already satisfied: pygments>=2.4.0 in c:\\users\\trisolaris\\appdata\\local\\packages\\pythonsoftwarefoundation.python.3.10_qbz5n2kfra8p0\\localcache\\local-packages\\python310\\site-packages (from ipython>=5.3.0->pyvis) (2.15.1)\n",
      "Requirement already satisfied: exceptiongroup in c:\\users\\trisolaris\\appdata\\local\\packages\\pythonsoftwarefoundation.python.3.10_qbz5n2kfra8p0\\localcache\\local-packages\\python310\\site-packages (from ipython>=5.3.0->pyvis) (1.2.0)\n",
      "Requirement already satisfied: typing-extensions in c:\\users\\trisolaris\\appdata\\local\\packages\\pythonsoftwarefoundation.python.3.10_qbz5n2kfra8p0\\localcache\\local-packages\\python310\\site-packages (from ipython>=5.3.0->pyvis) (4.10.0)\n",
      "Requirement already satisfied: stack-data in c:\\users\\trisolaris\\appdata\\local\\packages\\pythonsoftwarefoundation.python.3.10_qbz5n2kfra8p0\\localcache\\local-packages\\python310\\site-packages (from ipython>=5.3.0->pyvis) (0.6.3)\n",
      "Requirement already satisfied: decorator in c:\\users\\trisolaris\\appdata\\local\\packages\\pythonsoftwarefoundation.python.3.10_qbz5n2kfra8p0\\localcache\\local-packages\\python310\\site-packages (from ipython>=5.3.0->pyvis) (5.1.1)\n",
      "Requirement already satisfied: colorama in c:\\users\\trisolaris\\appdata\\local\\packages\\pythonsoftwarefoundation.python.3.10_qbz5n2kfra8p0\\localcache\\local-packages\\python310\\site-packages (from ipython>=5.3.0->pyvis) (0.4.6)\n",
      "Requirement already satisfied: matplotlib-inline in c:\\users\\trisolaris\\appdata\\local\\packages\\pythonsoftwarefoundation.python.3.10_qbz5n2kfra8p0\\localcache\\local-packages\\python310\\site-packages (from ipython>=5.3.0->pyvis) (0.1.6)\n",
      "Requirement already satisfied: prompt-toolkit<3.1.0,>=3.0.41 in c:\\users\\trisolaris\\appdata\\local\\packages\\pythonsoftwarefoundation.python.3.10_qbz5n2kfra8p0\\localcache\\local-packages\\python310\\site-packages (from ipython>=5.3.0->pyvis) (3.0.43)\n",
      "Requirement already satisfied: traitlets>=5.13.0 in c:\\users\\trisolaris\\appdata\\local\\packages\\pythonsoftwarefoundation.python.3.10_qbz5n2kfra8p0\\localcache\\local-packages\\python310\\site-packages (from ipython>=5.3.0->pyvis) (5.14.2)\n",
      "Collecting MarkupSafe>=2.0\n",
      "  Downloading MarkupSafe-3.0.2-cp310-cp310-win_amd64.whl (15 kB)\n",
      "Requirement already satisfied: parso<0.9.0,>=0.8.3 in c:\\users\\trisolaris\\appdata\\local\\packages\\pythonsoftwarefoundation.python.3.10_qbz5n2kfra8p0\\localcache\\local-packages\\python310\\site-packages (from jedi>=0.16->ipython>=5.3.0->pyvis) (0.8.3)\n",
      "Requirement already satisfied: wcwidth in c:\\users\\trisolaris\\appdata\\local\\packages\\pythonsoftwarefoundation.python.3.10_qbz5n2kfra8p0\\localcache\\local-packages\\python310\\site-packages (from prompt-toolkit<3.1.0,>=3.0.41->ipython>=5.3.0->pyvis) (0.2.6)\n",
      "Requirement already satisfied: asttokens>=2.1.0 in c:\\users\\trisolaris\\appdata\\local\\packages\\pythonsoftwarefoundation.python.3.10_qbz5n2kfra8p0\\localcache\\local-packages\\python310\\site-packages (from stack-data->ipython>=5.3.0->pyvis) (2.4.1)\n",
      "Requirement already satisfied: pure-eval in c:\\users\\trisolaris\\appdata\\local\\packages\\pythonsoftwarefoundation.python.3.10_qbz5n2kfra8p0\\localcache\\local-packages\\python310\\site-packages (from stack-data->ipython>=5.3.0->pyvis) (0.2.2)\n",
      "Requirement already satisfied: executing>=1.2.0 in c:\\users\\trisolaris\\appdata\\local\\packages\\pythonsoftwarefoundation.python.3.10_qbz5n2kfra8p0\\localcache\\local-packages\\python310\\site-packages (from stack-data->ipython>=5.3.0->pyvis) (1.2.0)\n",
      "Requirement already satisfied: six>=1.12.0 in c:\\users\\trisolaris\\appdata\\local\\packages\\pythonsoftwarefoundation.python.3.10_qbz5n2kfra8p0\\localcache\\local-packages\\python310\\site-packages (from asttokens>=2.1.0->stack-data->ipython>=5.3.0->pyvis) (1.16.0)\n",
      "Installing collected packages: MarkupSafe, jsonpickle, jinja2, pyvis\n",
      "Successfully installed MarkupSafe-3.0.2 jinja2-3.1.4 jsonpickle-3.3.0 pyvis-0.3.2\n",
      "Note: you may need to restart the kernel to use updated packages.\n"
     ]
    },
    {
     "name": "stderr",
     "output_type": "stream",
     "text": [
      "\n",
      "[notice] A new release of pip is available: 23.0.1 -> 24.2\n",
      "[notice] To update, run: C:\\Users\\Trisolaris\\AppData\\Local\\Microsoft\\WindowsApps\\PythonSoftwareFoundation.Python.3.10_qbz5n2kfra8p0\\python.exe -m pip install --upgrade pip\n"
     ]
    }
   ],
   "source": [
    "pip install pyvis"
   ]
  },
  {
   "cell_type": "code",
   "execution_count": 14,
   "metadata": {},
   "outputs": [
    {
     "name": "stdout",
     "output_type": "stream",
     "text": [
      "Warning: When  cdn_resources is 'local' jupyter notebook has issues displaying graphics on chrome/safari. Use cdn_resources='in_line' or cdn_resources='remote' if you have issues viewing graphics in a notebook.\n",
      "barabasi_albert.html\n"
     ]
    },
    {
     "data": {
      "text/html": [
       "\n",
       "        <iframe\n",
       "            width=\"100%\"\n",
       "            height=\"100vh\"\n",
       "            src=\"barabasi_albert.html\"\n",
       "            frameborder=\"0\"\n",
       "            allowfullscreen\n",
       "            \n",
       "        ></iframe>\n",
       "        "
      ],
      "text/plain": [
       "<IPython.lib.display.IFrame at 0x2ae4b355ae0>"
      ]
     },
     "execution_count": 14,
     "metadata": {},
     "output_type": "execute_result"
    }
   ],
   "source": [
    "from pyvis.network import Network\n",
    "import networkx as nx\n",
    "\n",
    "# Crear una red Barabási-Albert\n",
    "G = nx.barabasi_albert_graph(150, 1)\n",
    "\n",
    "# Crear un objeto Network con PyVis\n",
    "net = Network(notebook=True, height='100vh', width=\"100%\")\n",
    "\n",
    "\n",
    "# Configurar opciones como la física de la red\n",
    "    # Mostrar opciones interactivas\n",
    "net.show_buttons(filter_=['physics'])  \n",
    "\n",
    "# Convertir de networkx a PyVis\n",
    "net.from_nx(G)\n",
    "\n",
    "# Cambiar el color de los nodos, por ejemplo, a rojo\n",
    "for node in net.nodes:\n",
    "    node['color'] = '#9FA3D5'\n",
    "    node['size'] = 20\n",
    "# Cambiar el color de los enlaces, por ejemplo, a azul\n",
    "for edge in net.edges:\n",
    "    edge['color'] = '#3B4285'\n",
    "    edge['width'] = 5\n",
    "\n",
    "# Exportar como archivo HTML\n",
    "net.show('barabasi_albert.html')  "
   ]
  },
  {
   "cell_type": "code",
   "execution_count": 23,
   "metadata": {},
   "outputs": [
    {
     "name": "stdout",
     "output_type": "stream",
     "text": [
      "Warning: When  cdn_resources is 'local' jupyter notebook has issues displaying graphics on chrome/safari. Use cdn_resources='in_line' or cdn_resources='remote' if you have issues viewing graphics in a notebook.\n"
     ]
    },
    {
     "ename": "AttributeError",
     "evalue": "'dict' object has no attribute 'configure'",
     "output_type": "error",
     "traceback": [
      "\u001b[1;31m---------------------------------------------------------------------------\u001b[0m",
      "\u001b[1;31mAttributeError\u001b[0m                            Traceback (most recent call last)",
      "Input \u001b[1;32mIn [23]\u001b[0m, in \u001b[0;36m<module>\u001b[1;34m\u001b[0m\n\u001b[0;32m     11\u001b[0m net\u001b[38;5;241m.\u001b[39mset_options(\u001b[38;5;124m'''\u001b[39m\n\u001b[0;32m     12\u001b[0m \u001b[38;5;124m{\u001b[39m\n\u001b[0;32m     13\u001b[0m \u001b[38;5;124m  \u001b[39m\u001b[38;5;124m\"\u001b[39m\u001b[38;5;124mnodes\u001b[39m\u001b[38;5;124m\"\u001b[39m\u001b[38;5;124m: \u001b[39m\u001b[38;5;124m{\u001b[39m\n\u001b[1;32m   (...)\u001b[0m\n\u001b[0;32m     33\u001b[0m \u001b[38;5;124m}\u001b[39m\n\u001b[0;32m     34\u001b[0m \u001b[38;5;124m'''\u001b[39m)  \n\u001b[0;32m     36\u001b[0m     \u001b[38;5;66;03m# Mostrar opciones interactivas\u001b[39;00m\n\u001b[1;32m---> 37\u001b[0m \u001b[43mnet\u001b[49m\u001b[38;5;241;43m.\u001b[39;49m\u001b[43mshow_buttons\u001b[49m\u001b[43m(\u001b[49m\u001b[43mfilter_\u001b[49m\u001b[38;5;241;43m=\u001b[39;49m\u001b[43m[\u001b[49m\u001b[38;5;124;43m'\u001b[39;49m\u001b[38;5;124;43mphysics\u001b[39;49m\u001b[38;5;124;43m'\u001b[39;49m\u001b[43m]\u001b[49m\u001b[43m)\u001b[49m\n\u001b[0;32m     39\u001b[0m \u001b[38;5;66;03m# Añadir el grafo a PyVis\u001b[39;00m\n\u001b[0;32m     40\u001b[0m net\u001b[38;5;241m.\u001b[39mfrom_nx(G)\n",
      "File \u001b[1;32m~\\AppData\\Local\\Packages\\PythonSoftwareFoundation.Python.3.10_qbz5n2kfra8p0\\LocalCache\\local-packages\\Python310\\site-packages\\pyvis\\network.py:959\u001b[0m, in \u001b[0;36mNetwork.show_buttons\u001b[1;34m(self, filter_)\u001b[0m\n\u001b[0;32m    936\u001b[0m \u001b[38;5;124;03m\"\"\"\u001b[39;00m\n\u001b[0;32m    937\u001b[0m \u001b[38;5;124;03mDisplays or hides certain widgets to dynamically modify the\u001b[39;00m\n\u001b[0;32m    938\u001b[0m \u001b[38;5;124;03mnetwork.\u001b[39;00m\n\u001b[1;32m   (...)\u001b[0m\n\u001b[0;32m    956\u001b[0m \u001b[38;5;124;03m:type filter_: bool or list:\u001b[39;00m\n\u001b[0;32m    957\u001b[0m \u001b[38;5;124;03m\"\"\"\u001b[39;00m\n\u001b[0;32m    958\u001b[0m \u001b[38;5;28mself\u001b[39m\u001b[38;5;241m.\u001b[39mconf \u001b[38;5;241m=\u001b[39m \u001b[38;5;28;01mTrue\u001b[39;00m\n\u001b[1;32m--> 959\u001b[0m \u001b[38;5;28mself\u001b[39m\u001b[38;5;241m.\u001b[39moptions\u001b[38;5;241m.\u001b[39mconfigure \u001b[38;5;241m=\u001b[39m Configure(enabled\u001b[38;5;241m=\u001b[39m\u001b[38;5;28;01mTrue\u001b[39;00m, filter_\u001b[38;5;241m=\u001b[39mfilter_)\n\u001b[0;32m    960\u001b[0m \u001b[38;5;28mself\u001b[39m\u001b[38;5;241m.\u001b[39mwidget \u001b[38;5;241m=\u001b[39m \u001b[38;5;28;01mTrue\u001b[39;00m\n",
      "\u001b[1;31mAttributeError\u001b[0m: 'dict' object has no attribute 'configure'"
     ]
    }
   ],
   "source": [
    "from pyvis.network import Network\n",
    "import networkx as nx\n",
    "\n",
    "# Crear el grafo\n",
    "G = nx.barabasi_albert_graph(200, 1)\n",
    "\n",
    "# Crear la red de PyVis\n",
    "net = Network(notebook=True, height='95vh', width=\"100%\")\n",
    "\n",
    "# Configurar las opciones avanzadas en PyVis con JSON válido\n",
    "net.set_options('''\n",
    "{\n",
    "  \"nodes\": {\n",
    "    \"shape\": \"dot\",\n",
    "    \"size\": 20,\n",
    "    \"font\": {\n",
    "      \"size\": 16,\n",
    "      \"face\": \"Latin Modern Roman\"\n",
    "    },\n",
    "    \"color\": {\n",
    "      \"background\": \"#9FA3D5\"\n",
    "    }\n",
    "  },\n",
    "  \"edges\": {\n",
    "    \"color\": {\n",
    "      \"color\": \"#3B4285\"\n",
    "    },\n",
    "    \"width\": 2\n",
    "  },\n",
    "  \"physics\": {\n",
    "    \"enabled\": true\n",
    "  }\n",
    "}\n",
    "''')  \n",
    "\n",
    "\n",
    "# Añadir el grafo a PyVis\n",
    "net.from_nx(G)\n",
    "\n",
    "# Mostrar la red en el cuaderno Jupyter\n",
    "net.show('red_personalizada.html')\n"
   ]
  },
  {
   "cell_type": "code",
   "execution_count": 9,
   "metadata": {},
   "outputs": [
    {
     "name": "stdout",
     "output_type": "stream",
     "text": [
      "Warning: When  cdn_resources is 'local' jupyter notebook has issues displaying graphics on chrome/safari. Use cdn_resources='in_line' or cdn_resources='remote' if you have issues viewing graphics in a notebook.\n",
      "barabasi_albert.html\n"
     ]
    },
    {
     "data": {
      "text/html": [
       "\n",
       "        <iframe\n",
       "            width=\"100%\"\n",
       "            height=\"90vh\"\n",
       "            src=\"barabasi_albert.html\"\n",
       "            frameborder=\"0\"\n",
       "            allowfullscreen\n",
       "            \n",
       "        ></iframe>\n",
       "        "
      ],
      "text/plain": [
       "<IPython.lib.display.IFrame at 0x2ae4b2df6d0>"
      ]
     },
     "execution_count": 9,
     "metadata": {},
     "output_type": "execute_result"
    }
   ],
   "source": [
    "from pyvis.network import Network\n",
    "import networkx as nx\n",
    "\n",
    "# Crear una red Barabási-Albert\n",
    "G = nx.barabasi_albert_graph(150, 1)\n",
    "\n",
    "# Crear un objeto Network con PyVis con altura del 90%\n",
    "net = Network(notebook=True, height='90vh', width='100%')\n",
    "\n",
    "# Convertir de networkx a PyVis\n",
    "net.from_nx(G)\n",
    "\n",
    "# Cambiar el color de los nodos, por ejemplo, a rojo\n",
    "for node in net.nodes:\n",
    "    node['color'] = 'red'\n",
    "\n",
    "# Cambiar el color de los enlaces, por ejemplo, a azul\n",
    "for edge in net.edges:\n",
    "    edge['color'] = 'blue'\n",
    "\n",
    "# Exportar como archivo HTML\n",
    "net.show('barabasi_albert.html')\n"
   ]
  }
 ],
 "metadata": {
  "kernelspec": {
   "display_name": "Python 3",
   "language": "python",
   "name": "python3"
  },
  "language_info": {
   "codemirror_mode": {
    "name": "ipython",
    "version": 3
   },
   "file_extension": ".py",
   "mimetype": "text/x-python",
   "name": "python",
   "nbconvert_exporter": "python",
   "pygments_lexer": "ipython3",
   "version": "3.10.11"
  }
 },
 "nbformat": 4,
 "nbformat_minor": 2
}
