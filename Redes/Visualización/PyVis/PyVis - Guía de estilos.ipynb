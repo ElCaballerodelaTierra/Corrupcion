{
 "cells": [
  {
   "cell_type": "code",
   "execution_count": 34,
   "metadata": {},
   "outputs": [
    {
     "name": "stdout",
     "output_type": "stream",
     "text": [
      "Warning: When  cdn_resources is 'local' jupyter notebook has issues displaying graphics on chrome/safari. Use cdn_resources='in_line' or cdn_resources='remote' if you have issues viewing graphics in a notebook.\n",
      "barabasi_albert.html\n"
     ]
    },
    {
     "data": {
      "text/html": [
       "\n",
       "        <iframe\n",
       "            width=\"100%\"\n",
       "            height=\"1400px\"\n",
       "            src=\"barabasi_albert.html\"\n",
       "            frameborder=\"0\"\n",
       "            allowfullscreen\n",
       "            \n",
       "        ></iframe>\n",
       "        "
      ],
      "text/plain": [
       "<IPython.lib.display.IFrame at 0x20fbbfbbf70>"
      ]
     },
     "execution_count": 34,
     "metadata": {},
     "output_type": "execute_result"
    }
   ],
   "source": [
    "from pyvis.network import Network\n",
    "import networkx as nx\n",
    "\n",
    "# Crear una red Barabási-Albert\n",
    "G = nx.barabasi_albert_graph(150, 1)\n",
    "\n",
    "# Crear un objeto Network con PyVis\n",
    "net = Network(notebook=True, height=\"1400px\", width=\"100%\")\n",
    "\n",
    "\n",
    "# Configurar opciones como la física de la red\n",
    "    # Mostrar opciones interactivas\n",
    "net.show_buttons(filter_=['physics'])  \n",
    "\n",
    "# Convertir de networkx a PyVis\n",
    "net.from_nx(G)\n",
    "# Exportar como archivo HTML\n",
    "net.show('barabasi_albert.html')  "
   ]
  },
  {
   "cell_type": "code",
   "execution_count": 23,
   "metadata": {},
   "outputs": [
    {
     "name": "stdout",
     "output_type": "stream",
     "text": [
      "Warning: When  cdn_resources is 'local' jupyter notebook has issues displaying graphics on chrome/safari. Use cdn_resources='in_line' or cdn_resources='remote' if you have issues viewing graphics in a notebook.\n"
     ]
    },
    {
     "ename": "AttributeError",
     "evalue": "'dict' object has no attribute 'configure'",
     "output_type": "error",
     "traceback": [
      "\u001b[1;31m---------------------------------------------------------------------------\u001b[0m",
      "\u001b[1;31mAttributeError\u001b[0m                            Traceback (most recent call last)",
      "Input \u001b[1;32mIn [23]\u001b[0m, in \u001b[0;36m<module>\u001b[1;34m\u001b[0m\n\u001b[0;32m     11\u001b[0m net\u001b[38;5;241m.\u001b[39mset_options(\u001b[38;5;124m'''\u001b[39m\n\u001b[0;32m     12\u001b[0m \u001b[38;5;124m{\u001b[39m\n\u001b[0;32m     13\u001b[0m \u001b[38;5;124m  \u001b[39m\u001b[38;5;124m\"\u001b[39m\u001b[38;5;124mnodes\u001b[39m\u001b[38;5;124m\"\u001b[39m\u001b[38;5;124m: \u001b[39m\u001b[38;5;124m{\u001b[39m\n\u001b[1;32m   (...)\u001b[0m\n\u001b[0;32m     33\u001b[0m \u001b[38;5;124m}\u001b[39m\n\u001b[0;32m     34\u001b[0m \u001b[38;5;124m'''\u001b[39m)  \n\u001b[0;32m     36\u001b[0m     \u001b[38;5;66;03m# Mostrar opciones interactivas\u001b[39;00m\n\u001b[1;32m---> 37\u001b[0m \u001b[43mnet\u001b[49m\u001b[38;5;241;43m.\u001b[39;49m\u001b[43mshow_buttons\u001b[49m\u001b[43m(\u001b[49m\u001b[43mfilter_\u001b[49m\u001b[38;5;241;43m=\u001b[39;49m\u001b[43m[\u001b[49m\u001b[38;5;124;43m'\u001b[39;49m\u001b[38;5;124;43mphysics\u001b[39;49m\u001b[38;5;124;43m'\u001b[39;49m\u001b[43m]\u001b[49m\u001b[43m)\u001b[49m\n\u001b[0;32m     39\u001b[0m \u001b[38;5;66;03m# Añadir el grafo a PyVis\u001b[39;00m\n\u001b[0;32m     40\u001b[0m net\u001b[38;5;241m.\u001b[39mfrom_nx(G)\n",
      "File \u001b[1;32m~\\AppData\\Local\\Packages\\PythonSoftwareFoundation.Python.3.10_qbz5n2kfra8p0\\LocalCache\\local-packages\\Python310\\site-packages\\pyvis\\network.py:959\u001b[0m, in \u001b[0;36mNetwork.show_buttons\u001b[1;34m(self, filter_)\u001b[0m\n\u001b[0;32m    936\u001b[0m \u001b[38;5;124;03m\"\"\"\u001b[39;00m\n\u001b[0;32m    937\u001b[0m \u001b[38;5;124;03mDisplays or hides certain widgets to dynamically modify the\u001b[39;00m\n\u001b[0;32m    938\u001b[0m \u001b[38;5;124;03mnetwork.\u001b[39;00m\n\u001b[1;32m   (...)\u001b[0m\n\u001b[0;32m    956\u001b[0m \u001b[38;5;124;03m:type filter_: bool or list:\u001b[39;00m\n\u001b[0;32m    957\u001b[0m \u001b[38;5;124;03m\"\"\"\u001b[39;00m\n\u001b[0;32m    958\u001b[0m \u001b[38;5;28mself\u001b[39m\u001b[38;5;241m.\u001b[39mconf \u001b[38;5;241m=\u001b[39m \u001b[38;5;28;01mTrue\u001b[39;00m\n\u001b[1;32m--> 959\u001b[0m \u001b[38;5;28mself\u001b[39m\u001b[38;5;241m.\u001b[39moptions\u001b[38;5;241m.\u001b[39mconfigure \u001b[38;5;241m=\u001b[39m Configure(enabled\u001b[38;5;241m=\u001b[39m\u001b[38;5;28;01mTrue\u001b[39;00m, filter_\u001b[38;5;241m=\u001b[39mfilter_)\n\u001b[0;32m    960\u001b[0m \u001b[38;5;28mself\u001b[39m\u001b[38;5;241m.\u001b[39mwidget \u001b[38;5;241m=\u001b[39m \u001b[38;5;28;01mTrue\u001b[39;00m\n",
      "\u001b[1;31mAttributeError\u001b[0m: 'dict' object has no attribute 'configure'"
     ]
    }
   ],
   "source": [
    "from pyvis.network import Network\n",
    "import networkx as nx\n",
    "\n",
    "# Crear el grafo\n",
    "G = nx.barabasi_albert_graph(200, 1)\n",
    "\n",
    "# Crear la red de PyVis\n",
    "net = Network(notebook=True, height=\"750px\", width=\"100%\")\n",
    "\n",
    "# Configurar las opciones avanzadas en PyVis con JSON válido\n",
    "net.set_options('''\n",
    "{\n",
    "  \"nodes\": {\n",
    "    \"shape\": \"dot\",\n",
    "    \"size\": 20,\n",
    "    \"font\": {\n",
    "      \"size\": 16,\n",
    "      \"face\": \"Latin Modern Roman\"\n",
    "    },\n",
    "    \"color\": {\n",
    "      \"background\": \"#9FA3D5\"\n",
    "    }\n",
    "  },\n",
    "  \"edges\": {\n",
    "    \"color\": {\n",
    "      \"color\": \"#3B4285\"\n",
    "    },\n",
    "    \"width\": 2\n",
    "  },\n",
    "  \"physics\": {\n",
    "    \"enabled\": true\n",
    "  }\n",
    "}\n",
    "''')  \n",
    "\n",
    "\n",
    "# Añadir el grafo a PyVis\n",
    "net.from_nx(G)\n",
    "\n",
    "# Mostrar la red en el cuaderno Jupyter\n",
    "net.show('red_personalizada.html')\n"
   ]
  }
 ],
 "metadata": {
  "kernelspec": {
   "display_name": "Python 3",
   "language": "python",
   "name": "python3"
  },
  "language_info": {
   "codemirror_mode": {
    "name": "ipython",
    "version": 3
   },
   "file_extension": ".py",
   "mimetype": "text/x-python",
   "name": "python",
   "nbconvert_exporter": "python",
   "pygments_lexer": "ipython3",
   "version": "3.10.11"
  }
 },
 "nbformat": 4,
 "nbformat_minor": 2
}
