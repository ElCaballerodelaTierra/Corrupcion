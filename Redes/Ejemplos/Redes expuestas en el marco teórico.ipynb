{
 "cells": [
  {
   "cell_type": "markdown",
   "metadata": {},
   "source": [
    "Se crea una red de tipo Barabasí-Albert"
   ]
  },
  {
   "cell_type": "markdown",
   "metadata": {},
   "source": [
    "# Modelo de red aleatoria de Erdős-Rényi"
   ]
  },
  {
   "cell_type": "code",
   "execution_count": 1,
   "metadata": {},
   "outputs": [
    {
     "name": "stdout",
     "output_type": "stream",
     "text": [
      "Número de nodos: 100\n",
      "Número de enlaces: 47\n",
      "Warning: When  cdn_resources is 'local' jupyter notebook has issues displaying graphics on chrome/safari. Use cdn_resources='in_line' or cdn_resources='remote' if you have issues viewing graphics in a notebook.\n",
      "erdos_renyi_graph.html\n"
     ]
    },
    {
     "data": {
      "text/html": [
       "\n",
       "        <iframe\n",
       "            width=\"100%\"\n",
       "            height=\"100vh\"\n",
       "            src=\"erdos_renyi_graph.html\"\n",
       "            frameborder=\"0\"\n",
       "            allowfullscreen\n",
       "            \n",
       "        ></iframe>\n",
       "        "
      ],
      "text/plain": [
       "<IPython.lib.display.IFrame at 0x1eb41e134d0>"
      ]
     },
     "execution_count": 1,
     "metadata": {},
     "output_type": "execute_result"
    }
   ],
   "source": [
    "# Modelo de red aleatoria de Erdős-Rényi\n",
    "import networkx as nx\n",
    "from pyvis.network import Network\n",
    "import matplotlib.pyplot as plt\n",
    "\n",
    "n = 100   # Número de nodos\n",
    "p = 0.01  # Probabilidad de enlace entre nodos\n",
    "\n",
    "# Crear la red usando el modelo G(n, p)\n",
    "G = nx.erdos_renyi_graph(n, p)\n",
    "\n",
    "# Opcional: Visualizar o analizar la red\n",
    "print(\"Número de nodos:\", G.number_of_nodes())\n",
    "print(\"Número de enlaces:\", G.number_of_edges())\n",
    "\n",
    "# Visualizar la red con pyvis\n",
    "\n",
    "# Crear un objeto Network con PyVis\n",
    "net = Network(notebook=True, height='100vh', width=\"100%\", select_menu=True, filter_menu=True)\n",
    "\n",
    "# Convertir de networkx a PyVis\n",
    "net.from_nx(G)\n",
    "\n",
    "# Calcular el grado de cada nodo\n",
    "degree_dict = dict(G.degree())\n",
    "\n",
    "# Normalizar los tamaños de los nodos\n",
    "max_degree = max(degree_dict.values())\n",
    "min_size = 10\n",
    "max_size = 30\n",
    "\n",
    "for node in net.nodes:\n",
    "    node_id = node['id']\n",
    "    degree = degree_dict[node_id]\n",
    "    \n",
    "    # Calcular el tamaño proporcional\n",
    "    size = min_size + (degree / max_degree) * (max_size - min_size)\n",
    "    \n",
    "    node['size'] = size\n",
    "    node['color'] = '#9FA3D5'\n",
    "    node['title'] = f\"Grado: {degree}\"  # Información al pasar el cursor\n",
    "\n",
    "# Cambiar el color de los enlaces y su anchura\n",
    "for edge in net.edges:\n",
    "    edge['color'] = '#3B4285'\n",
    "    edge['width'] = 2\n",
    "\n",
    "# Mostrar los botones de configuración\n",
    "net.show_buttons()\n",
    "\n",
    "# Mostrar la red\n",
    "net.show('erdos_renyi_graph.html')"
   ]
  }
 ],
 "metadata": {
  "kernelspec": {
   "display_name": "Python 3",
   "language": "python",
   "name": "python3"
  },
  "language_info": {
   "codemirror_mode": {
    "name": "ipython",
    "version": 3
   },
   "file_extension": ".py",
   "mimetype": "text/x-python",
   "name": "python",
   "nbconvert_exporter": "python",
   "pygments_lexer": "ipython3",
   "version": "3.13.2"
  }
 },
 "nbformat": 4,
 "nbformat_minor": 2
}
