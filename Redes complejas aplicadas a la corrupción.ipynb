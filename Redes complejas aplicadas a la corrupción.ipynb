{
 "cells": [
  {
   "cell_type": "code",
   "execution_count": null,
   "metadata": {},
   "outputs": [],
   "source": [
    "#Teoría de Redes Complejas enfocadas en la corrupción - Tesis\n",
    "\n",
    "#Plan de trabajo\n",
    "\n",
    "\"\"\" Crear redes complejas para cada país basándose en la matriz de pagos \"\"\"\n",
    "\n",
    "#Creamos una red de 1000 individuos para cada uno de los países, dotando de la dinámica correspondiente a su cultura y leyes"
   ]
  },
  {
   "cell_type": "code",
   "execution_count": null,
   "metadata": {},
   "outputs": [],
   "source": []
  }
 ],
 "metadata": {
  "kernelspec": {
   "display_name": "Python 3",
   "language": "python",
   "name": "python3"
  },
  "language_info": {
   "name": "python",
   "version": "3.10.11"
  }
 },
 "nbformat": 4,
 "nbformat_minor": 2
}
